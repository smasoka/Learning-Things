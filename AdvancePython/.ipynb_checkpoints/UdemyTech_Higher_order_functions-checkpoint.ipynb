{
 "cells": [
  {
   "cell_type": "markdown",
   "metadata": {},
   "source": [
    "### Higher Order Functions\n",
    "\n",
    "#### We can pass funcs as args to other funcs"
   ]
  },
  {
   "cell_type": "code",
   "execution_count": 12,
   "metadata": {},
   "outputs": [],
   "source": [
    "def sum(n, func):\n",
    "    total = 0\n",
    "    for num in range(1,n+1):\n",
    "        total += func(num)\n",
    "    return total"
   ]
  },
  {
   "cell_type": "code",
   "execution_count": 13,
   "metadata": {},
   "outputs": [],
   "source": [
    "def square(x):\n",
    "    return x*x"
   ]
  },
  {
   "cell_type": "code",
   "execution_count": 14,
   "metadata": {},
   "outputs": [
    {
     "name": "stdout",
     "output_type": "stream",
     "text": [
      "14\n"
     ]
    }
   ],
   "source": [
    "print(sum(3, square))"
   ]
  },
  {
   "cell_type": "code",
   "execution_count": 15,
   "metadata": {},
   "outputs": [],
   "source": [
    "def cube(x):\n",
    "    return x*x*x"
   ]
  },
  {
   "cell_type": "code",
   "execution_count": 16,
   "metadata": {},
   "outputs": [
    {
     "name": "stdout",
     "output_type": "stream",
     "text": [
      "36\n"
     ]
    }
   ],
   "source": [
    "print(sum(3,cube))"
   ]
  },
  {
   "cell_type": "markdown",
   "metadata": {},
   "source": [
    "#### We can nest functions inside one another"
   ]
  },
  {
   "cell_type": "code",
   "execution_count": 19,
   "metadata": {},
   "outputs": [],
   "source": [
    "from random import choice\n",
    "\n",
    "def greet(person):\n",
    "    def get_mood():\n",
    "        msg = choice(('Hello ', 'Go Away ', 'Love you '))\n",
    "        return msg\n",
    "    \n",
    "    result = get_mood() + person\n",
    "    return result"
   ]
  },
  {
   "cell_type": "code",
   "execution_count": 24,
   "metadata": {},
   "outputs": [
    {
     "name": "stdout",
     "output_type": "stream",
     "text": [
      "Go Away Sakhle\n"
     ]
    }
   ],
   "source": [
    "print(greet(\"Sakhle\"))"
   ]
  },
  {
   "cell_type": "markdown",
   "metadata": {},
   "source": [
    "#### We can return funcs from other funcs\n"
   ]
  },
  {
   "cell_type": "code",
   "execution_count": 25,
   "metadata": {},
   "outputs": [],
   "source": [
    "def make_laugh_func():\n",
    "    def get_laugh():\n",
    "        l = choice(('HAHAHAHA', 'lol', 'tehehe'))\n",
    "        return l\n",
    "    return get_laugh"
   ]
  },
  {
   "cell_type": "code",
   "execution_count": 26,
   "metadata": {},
   "outputs": [],
   "source": [
    "laugh = make_laugh_func()"
   ]
  },
  {
   "cell_type": "code",
   "execution_count": 37,
   "metadata": {},
   "outputs": [
    {
     "name": "stdout",
     "output_type": "stream",
     "text": [
      "HAHAHAHA\n"
     ]
    }
   ],
   "source": [
    "print(laugh())"
   ]
  },
  {
   "cell_type": "code",
   "execution_count": 38,
   "metadata": {},
   "outputs": [
    {
     "name": "stdout",
     "output_type": "stream",
     "text": [
      "<function make_laugh_func.<locals>.get_laugh at 0x10fc78560>\n",
      "Help on function get_laugh in module __main__:\n",
      "\n",
      "get_laugh()\n",
      "\n",
      "None\n"
     ]
    }
   ],
   "source": [
    "# So laugh variable is actually the function 'get_laugh'\n",
    "print(laugh)\n",
    "print(help(laugh))"
   ]
  },
  {
   "cell_type": "markdown",
   "metadata": {},
   "source": [
    "#### Inner functions can access outer function scope: Closer"
   ]
  },
  {
   "cell_type": "code",
   "execution_count": 39,
   "metadata": {},
   "outputs": [],
   "source": [
    "def make_laugh_at_func(person):\n",
    "    def get_laugh():\n",
    "        laugh = choice(('HAHAHAHA', 'lol', 'tehehe'))\n",
    "        return f\"{laugh} {person}\"\n",
    "    return get_laugh"
   ]
  },
  {
   "cell_type": "code",
   "execution_count": 40,
   "metadata": {},
   "outputs": [],
   "source": [
    "laugh_at = make_laugh_at_func(\"Sakhile\")"
   ]
  },
  {
   "cell_type": "code",
   "execution_count": 42,
   "metadata": {},
   "outputs": [
    {
     "name": "stdout",
     "output_type": "stream",
     "text": [
      "HAHAHAHA Sakhile\n",
      "tehehe Sakhile\n",
      "tehehe Sakhile\n",
      "HAHAHAHA Sakhile\n"
     ]
    }
   ],
   "source": [
    "print(laugh_at())\n",
    "print(laugh_at())\n",
    "print(laugh_at())\n",
    "print(laugh_at())"
   ]
  },
  {
   "cell_type": "code",
   "execution_count": 43,
   "metadata": {},
   "outputs": [
    {
     "name": "stdout",
     "output_type": "stream",
     "text": [
      "<function make_laugh_at_func.<locals>.get_laugh at 0x10fd2cef0>\n",
      "Help on function get_laugh in module __main__:\n",
      "\n",
      "get_laugh()\n",
      "\n",
      "None\n"
     ]
    }
   ],
   "source": [
    "print(laugh_at)\n",
    "print(help(laugh_at))"
   ]
  },
  {
   "cell_type": "code",
   "execution_count": null,
   "metadata": {},
   "outputs": [],
   "source": []
  }
 ],
 "metadata": {
  "kernelspec": {
   "display_name": "Python 3",
   "language": "python",
   "name": "python3"
  },
  "language_info": {
   "codemirror_mode": {
    "name": "ipython",
    "version": 3
   },
   "file_extension": ".py",
   "mimetype": "text/x-python",
   "name": "python",
   "nbconvert_exporter": "python",
   "pygments_lexer": "ipython3",
   "version": "3.7.4"
  }
 },
 "nbformat": 4,
 "nbformat_minor": 4
}
