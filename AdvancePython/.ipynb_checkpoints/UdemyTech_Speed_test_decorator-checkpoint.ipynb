{
 "cells": [
  {
   "cell_type": "markdown",
   "metadata": {},
   "source": [
    "### Speed Test Decorator"
   ]
  },
  {
   "cell_type": "code",
   "execution_count": 1,
   "metadata": {},
   "outputs": [],
   "source": [
    "from functools import wraps\n",
    "from time import time"
   ]
  },
  {
   "cell_type": "code",
   "execution_count": 2,
   "metadata": {},
   "outputs": [],
   "source": [
    "# Store runtimes\n",
    "# {funct_name: Profile(run_time, call_count)}\n",
    "profile_runs = {}"
   ]
  },
  {
   "cell_type": "code",
   "execution_count": 85,
   "metadata": {},
   "outputs": [
    {
     "ename": "IndentationError",
     "evalue": "unindent does not match any outer indentation level (<tokenize>, line 20)",
     "output_type": "error",
     "traceback": [
      "\u001b[0;36m  File \u001b[0;32m\"<tokenize>\"\u001b[0;36m, line \u001b[0;32m20\u001b[0m\n\u001b[0;31m    speed_test.calls = 0\u001b[0m\n\u001b[0m    ^\u001b[0m\n\u001b[0;31mIndentationError\u001b[0m\u001b[0;31m:\u001b[0m unindent does not match any outer indentation level\n"
     ]
    }
   ],
   "source": [
    "def speed_test(fn):\n",
    "    speed_test.calls = 0\n",
    "    speed_test.run_time = []  \n",
    "    def _impl(*args, **kwargs):\n",
    "        speed_test.calls = 0\n",
    "        speed_test.run_time = []\n",
    "        try:\n",
    "            speed_test.calls += 1\n",
    "            start_time = time()\n",
    "            results = fn(*args, **kwargs)\n",
    "            end_time = time()\n",
    "            speed_test.run_time.append(end_time - start_time)\n",
    "\n",
    "            print(f\"Executing {fn.__name__}\")\n",
    "            print(f\"Time Elapsed: {speed_test.run_time[0]}\")\n",
    "            print(f\"Call No: {speed_test.calls}\")\n",
    "            print(end_time - start_time)\n",
    "            return results\n",
    "        except Exception:\n",
    "            pass\n",
    "        profile_runs[fn.__name__] = (speed_test.run_time, speed_test.calls)\n",
    "\n",
    "# def speed_test(fn):\n",
    "#     def _impl(*args, **kwargs):\n",
    "#         try:\n",
    "#             speed_test.calls += 1\n",
    "#             start_time = time()\n",
    "#             results = fn(*args, **kwargs)\n",
    "#             end_time = time()\n",
    "#             speed_test.run_time.append(end_time - start_time)\n",
    "        \n",
    "#             print(f\"Executing {fn.__name__}\")\n",
    "#             print(f\"Time Elapsed: {speed_test.run_time[0]}\")\n",
    "#             print(f\"Call No: {speed_test.calls}\")\n",
    "#             print(end_time - start_time)\n",
    "#         except Exception:\n",
    "#             pass\n",
    "#         profile_runs[fn.__name__] = (speed_test.run_time, speed_test.calls)\n",
    "#         return results\n",
    "#     speed_test.calls = 0\n",
    "#     speed_test.run_time = []\n",
    "#     return _impl"
   ]
  },
  {
   "cell_type": "code",
   "execution_count": 82,
   "metadata": {},
   "outputs": [],
   "source": [
    "def sum_nums_gen(*args, **kwargs):\n",
    "    \"\"\"Sum numbers from 0 to variable arg using gen\"\"\"\n",
    "    print(args[0])\n",
    "    return sum(x for x in range(args[0]))\n",
    "        "
   ]
  },
  {
   "cell_type": "code",
   "execution_count": 83,
   "metadata": {},
   "outputs": [
    {
     "name": "stdout",
     "output_type": "stream",
     "text": [
      "None\n"
     ]
    }
   ],
   "source": [
    "sums = speed_test(sum_nums_gen)\n",
    "print(sums)"
   ]
  },
  {
   "cell_type": "code",
   "execution_count": 78,
   "metadata": {},
   "outputs": [
    {
     "name": "stdout",
     "output_type": "stream",
     "text": [
      "{'sum_nums_gen': ([], 1), '_impl': ([], 1)}\n"
     ]
    }
   ],
   "source": [
    "print(profile_runs)"
   ]
  },
  {
   "cell_type": "code",
   "execution_count": 18,
   "metadata": {},
   "outputs": [],
   "source": [
    "@speed_test\n",
    "def sum_nums_list(*args, **kwargs):\n",
    "    \"\"\"Sum numbers from 0 to variable arg using list\"\"\"\n",
    "    return sum([x for x in range(args[0])])"
   ]
  },
  {
   "cell_type": "code",
   "execution_count": 23,
   "metadata": {},
   "outputs": [
    {
     "name": "stdout",
     "output_type": "stream",
     "text": [
      "Executing sum_nums_gen\n",
      "Time Elapsed: 5.386220216751099\n",
      "4049999955000000\n"
     ]
    }
   ],
   "source": [
    "print(sum_nums_gen(90000000))"
   ]
  },
  {
   "cell_type": "code",
   "execution_count": 24,
   "metadata": {},
   "outputs": [
    {
     "name": "stdout",
     "output_type": "stream",
     "text": [
      "Executing sum_nums_list\n",
      "Time Elapsed: 8.821334600448608\n",
      "4049999955000000\n"
     ]
    }
   ],
   "source": [
    "print(sum_nums_list(90000000))"
   ]
  },
  {
   "cell_type": "code",
   "execution_count": 6,
   "metadata": {},
   "outputs": [],
   "source": [
    "d = {}\n",
    "name = \"Sakhile\""
   ]
  },
  {
   "cell_type": "code",
   "execution_count": 36,
   "metadata": {},
   "outputs": [],
   "source": [
    "d[name] = \"Masoka\""
   ]
  },
  {
   "cell_type": "code",
   "execution_count": 37,
   "metadata": {},
   "outputs": [
    {
     "data": {
      "text/plain": [
       "{'Sakhile': 'Masoka'}"
      ]
     },
     "execution_count": 37,
     "metadata": {},
     "output_type": "execute_result"
    }
   ],
   "source": [
    "d"
   ]
  },
  {
   "cell_type": "code",
   "execution_count": null,
   "metadata": {},
   "outputs": [],
   "source": []
  }
 ],
 "metadata": {
  "kernelspec": {
   "display_name": "Python 3",
   "language": "python",
   "name": "python3"
  },
  "language_info": {
   "codemirror_mode": {
    "name": "ipython",
    "version": 3
   },
   "file_extension": ".py",
   "mimetype": "text/x-python",
   "name": "python",
   "nbconvert_exporter": "python",
   "pygments_lexer": "ipython3",
   "version": "3.7.4"
  }
 },
 "nbformat": 4,
 "nbformat_minor": 4
}
