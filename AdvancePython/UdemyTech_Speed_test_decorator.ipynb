{
 "cells": [
  {
   "cell_type": "markdown",
   "metadata": {},
   "source": [
    "### Speed Test Decorator"
   ]
  },
  {
   "cell_type": "code",
   "execution_count": 1,
   "metadata": {},
   "outputs": [],
   "source": [
    "from functools import wraps\n",
    "from time import time"
   ]
  },
  {
   "cell_type": "code",
   "execution_count": 12,
   "metadata": {},
   "outputs": [],
   "source": [
    "def speed_test(fn):\n",
    "    @wraps(fn)\n",
    "    def wrapper(*args, **kwargs):\n",
    "        start_time = time()\n",
    "        results = fn(*args, **kwargs)\n",
    "        end_time = time()\n",
    "        print(f\"Executing {fn.__name__}\")\n",
    "        print(f\"Time Elapsed: {end_time - start_time}\")\n",
    "        return results\n",
    "    return wrapper"
   ]
  },
  {
   "cell_type": "code",
   "execution_count": 13,
   "metadata": {},
   "outputs": [],
   "source": [
    "@speed_test\n",
    "def sum_nums_gen(*args, **kwargs):\n",
    "    \"\"\"Sum numbers from 0 to variable arg using gen\"\"\"\n",
    "    return sum(x for x in range(args[0]))\n",
    "        "
   ]
  },
  {
   "cell_type": "code",
   "execution_count": 17,
   "metadata": {},
   "outputs": [
    {
     "name": "stdout",
     "output_type": "stream",
     "text": [
      "Time Elapsed: 0.07212710380554199\n",
      "499999500000\n"
     ]
    }
   ],
   "source": [
    "print(sum_nums(1000000))"
   ]
  },
  {
   "cell_type": "code",
   "execution_count": 18,
   "metadata": {},
   "outputs": [],
   "source": [
    "@speed_test\n",
    "def sum_nums_list(*args, **kwargs):\n",
    "    \"\"\"Sum numbers from 0 to variable arg using list\"\"\"\n",
    "    return sum([x for x in range(args[0])])"
   ]
  },
  {
   "cell_type": "code",
   "execution_count": 23,
   "metadata": {},
   "outputs": [
    {
     "name": "stdout",
     "output_type": "stream",
     "text": [
      "Executing sum_nums_gen\n",
      "Time Elapsed: 5.386220216751099\n",
      "4049999955000000\n"
     ]
    }
   ],
   "source": [
    "print(sum_nums_gen(90000000))"
   ]
  },
  {
   "cell_type": "code",
   "execution_count": 24,
   "metadata": {},
   "outputs": [
    {
     "name": "stdout",
     "output_type": "stream",
     "text": [
      "Executing sum_nums_list\n",
      "Time Elapsed: 8.821334600448608\n",
      "4049999955000000\n"
     ]
    }
   ],
   "source": [
    "print(sum_nums_list(90000000))"
   ]
  },
  {
   "cell_type": "code",
   "execution_count": null,
   "metadata": {},
   "outputs": [],
   "source": []
  }
 ],
 "metadata": {
  "kernelspec": {
   "display_name": "Python 3",
   "language": "python",
   "name": "python3"
  },
  "language_info": {
   "codemirror_mode": {
    "name": "ipython",
    "version": 3
   },
   "file_extension": ".py",
   "mimetype": "text/x-python",
   "name": "python",
   "nbconvert_exporter": "python",
   "pygments_lexer": "ipython3",
   "version": "3.7.4"
  }
 },
 "nbformat": 4,
 "nbformat_minor": 4
}
