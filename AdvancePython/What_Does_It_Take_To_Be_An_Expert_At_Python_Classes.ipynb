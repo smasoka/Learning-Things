{
 "cells": [
  {
   "cell_type": "markdown",
   "metadata": {},
   "source": [
    "<h2> What Does It Take To Be An Expert at Python </h2>\n",
    "\n",
    "Notebook based on the https://www.youtube.com/watch?v=7lmCu8wz8ro "
   ]
  },
  {
   "cell_type": "code",
   "execution_count": null,
   "metadata": {},
   "outputs": [],
   "source": [
    "class Polynomial:\n",
    "    def __init__(self, *coeffs):\n",
    "        self.coeffs = coeffs\n",
    "    def __repr__(self):\n",
    "        return 'Polynomial(*{!r})'.format(self.coeffs)\n",
    "    def __add__(self, other):\n",
    "        return Polynomial(*(x + y for x, y in zip(self.coeffs, other.coeffs)))\n",
    "    def __len__(self):\n",
    "        return len(self.coeffs)"
   ]
  },
  {
   "cell_type": "markdown",
   "metadata": {},
   "source": [
    "<h3> Summary </h3>\n",
    "\n",
    "Top-level function or top-level syntax --> corresponding \\__ function \\__\n",
    "\n",
    "x + y   --> \\__add\\__ <br/>\n",
    "init x  --> \\__init\\__<br/>\n",
    "repr(x) --> \\__repr\\__<br/>\n",
    "len(x)  --> \\__len__\\__<br/>\n",
    "\n",
    "These functions are called **Data Models** \n",
    "https://docs.python.org/3/reference/datamodel.html"
   ]
  },
  {
   "cell_type": "code",
   "execution_count": null,
   "metadata": {},
   "outputs": [],
   "source": [
    "p1 = Polynomial(1,2,3)\n",
    "p2 = Polynomial(3,4,3)"
   ]
  },
  {
   "cell_type": "markdown",
   "metadata": {},
   "source": [
    "Python repr for the representation of the class Polynomial Object\n"
   ]
  },
  {
   "cell_type": "code",
   "execution_count": null,
   "metadata": {},
   "outputs": [],
   "source": [
    "p1"
   ]
  },
  {
   "cell_type": "markdown",
   "metadata": {},
   "source": [
    "Add function \n",
    "(Take note of zip() fucntion)"
   ]
  },
  {
   "cell_type": "code",
   "execution_count": null,
   "metadata": {},
   "outputs": [],
   "source": [
    "p1 + p2"
   ]
  },
  {
   "cell_type": "code",
   "execution_count": null,
   "metadata": {},
   "outputs": [],
   "source": [
    "len(p1)\n"
   ]
  },
  {
   "cell_type": "markdown",
   "metadata": {},
   "source": [
    "# Some Analysis\n",
    "\n"
   ]
  },
  {
   "cell_type": "code",
   "execution_count": null,
   "metadata": {},
   "outputs": [],
   "source": [
    "# library.py\n",
    "class Base:\n",
    "    def foo(self):\n",
    "        return 'foo'\n"
   ]
  },
  {
   "cell_type": "code",
   "execution_count": null,
   "metadata": {},
   "outputs": [],
   "source": [
    "# user.py\n",
    "# from library import Base\n",
    "\n",
    "assert hasattr(Base, 'foo'), \"You broke it, you fool!\"\n",
    "\n",
    "class Derived(Base):\n",
    "    def bar(self):\n",
    "        return self.foo()"
   ]
  },
  {
   "cell_type": "markdown",
   "metadata": {},
   "source": [
    "If **class Base** the **foo** function doesn't exist (could be named incorrectly or smething), <br/>\n",
    "**assert hasattr** allows **class Derived** to check if the function exists before using it. \n",
    "\n",
    "NB: change foo name to something else and check where user.py fails. "
   ]
  },
  {
   "cell_type": "code",
   "execution_count": null,
   "metadata": {},
   "outputs": [],
   "source": [
    "#libray.py\n",
    "\n",
    "class Base:\n",
    "    def foo(self):\n",
    "        return self.bar()"
   ]
  },
  {
   "cell_type": "code",
   "execution_count": null,
   "metadata": {},
   "outputs": [],
   "source": [
    "#user.py\n",
    "# from libray import Base\n",
    "\n",
    "class Derived(Base):\n",
    "    def bar(self):\n",
    "        return 'bar'"
   ]
  },
  {
   "cell_type": "markdown",
   "metadata": {},
   "source": [
    "How do we ensure that from class Base, the function foo returns a function called bar from the Derived class? Meaning we need to make sure that class Derived implements function foo. "
   ]
  },
  {
   "cell_type": "markdown",
   "metadata": {},
   "source": [
    "Let's do some analysis of something"
   ]
  },
  {
   "cell_type": "code",
   "execution_count": null,
   "metadata": {},
   "outputs": [],
   "source": [
    "def _():\n",
    "    class Base:\n",
    "        pass"
   ]
  },
  {
   "cell_type": "code",
   "execution_count": null,
   "metadata": {},
   "outputs": [],
   "source": [
    "from dis import dis"
   ]
  },
  {
   "cell_type": "code",
   "execution_count": null,
   "metadata": {},
   "outputs": [],
   "source": [
    "dis(_)"
   ]
  },
  {
   "cell_type": "markdown",
   "metadata": {},
   "source": [
    "LOAD_BUILD_CLASS suggests that there should be __ function __ that loads to build a class"
   ]
  },
  {
   "cell_type": "markdown",
   "metadata": {},
   "source": [
    "# Buid_Class"
   ]
  },
  {
   "cell_type": "code",
   "execution_count": null,
   "metadata": {},
   "outputs": [],
   "source": [
    "# library.py\n",
    "\n",
    "class Base:\n",
    "    def foo(self):\n",
    "        return self.bar()\n",
    "\n",
    "# Original build class for Base\n",
    "old_bc = __build_class__\n",
    "\n",
    "# define our own build class with a function\n",
    "def my_bc(*a, **kw):\n",
    "    print('my buildclass->', a, kw)\n",
    "    return old_bc(*a, **kw)\n",
    "\n",
    "# import __build_class__ from builtins\n",
    "# and assign it to my_bc (my own built class)\n",
    "import builtins\n",
    "builtins.__build_class__ = my_bc"
   ]
  },
  {
   "cell_type": "markdown",
   "metadata": {},
   "source": [
    "The above hijacks the build class process and interject our own imformation or build information, checks etc..."
   ]
  },
  {
   "cell_type": "code",
   "execution_count": null,
   "metadata": {},
   "outputs": [],
   "source": [
    "# user.py\n",
    "# from library import Base\n",
    "\n",
    "class Derived:\n",
    "    def bar(self):\n",
    "        return 'bar'"
   ]
  },
  {
   "cell_type": "markdown",
   "metadata": {},
   "source": [
    "The complete **Base** class would look like this: \n",
    "Using the original passed arguments"
   ]
  },
  {
   "cell_type": "code",
   "execution_count": null,
   "metadata": {},
   "outputs": [],
   "source": [
    "# libray.py\n",
    "\n",
    "class Base:\n",
    "    def foo(self):\n",
    "        return self.bar()\n",
    "    \n",
    "old_bc = __build_class__\n",
    "\n",
    "def my_bc(fun, name, base=None, **kw):\n",
    "    if base is Base:\n",
    "        print('check if bar method is defined')\n",
    "    if base is not None:\n",
    "        return old_bc(fun, name, base, **kw)\n",
    "    return old_bc(fun, name, **kw)\n",
    "\n",
    "import builtins\n",
    "builtins.__build_class__ = my_bc"
   ]
  },
  {
   "cell_type": "markdown",
   "metadata": {},
   "source": [
    "The above solves the problem of checking if the class that will use class Base\n",
    "implements the bar function. \n",
    "\n",
    "*This is one way of solving this problem, but there exists other ways that are commonly used to tackled this.* "
   ]
  },
  {
   "cell_type": "markdown",
   "metadata": {},
   "source": [
    "# Meta Classes"
   ]
  },
  {
   "cell_type": "code",
   "execution_count": null,
   "metadata": {},
   "outputs": [],
   "source": [
    "# library.py\n",
    "\n",
    "class BaseMeta(type):\n",
    "    def __new__(cls, name, bases, body):\n",
    "        print('BaseMeta.__new__', cls, name, bases, body)\n",
    "        if not 'bar' in body:\n",
    "            raise TypeError(\"bad user class\")\n",
    "        return super().__new__(cls, name, bases, body)\n",
    "\n",
    "class Base(metaclass=BaseMeta):\n",
    "    def foo(self):\n",
    "        return self.bar()"
   ]
  },
  {
   "cell_type": "code",
   "execution_count": null,
   "metadata": {},
   "outputs": [],
   "source": [
    "# user.py\n",
    "# from library import Base\n",
    "\n",
    "class Derived:\n",
    "    def bar(self):\n",
    "        return 'bar'"
   ]
  },
  {
   "cell_type": "markdown",
   "metadata": {},
   "source": [
    "Another way to solve this problem is \n",
    "\n",
    "## sub_classes"
   ]
  },
  {
   "cell_type": "code",
   "execution_count": 1,
   "metadata": {},
   "outputs": [
    {
     "name": "stdout",
     "output_type": "stream",
     "text": [
      "BaseMeta.__new__ <class '__main__.BaseMeta'> Base () {'__module__': '__main__', '__qualname__': 'Base', 'foo': <function Base.foo at 0x109efbe18>, '__init_subclass__': <function Base.__init_subclass__ at 0x109efbea0>, '__classcell__': <cell at 0x109efc588: empty>}\n"
     ]
    }
   ],
   "source": [
    "# library.py\n",
    "\n",
    "class BaseMeta(type):\n",
    "    def __new__(cls, name, bases, body):\n",
    "        print('BaseMeta.__new__', cls, name, bases, body)\n",
    "        if name != 'Base' and not 'bar' in body:\n",
    "            raise TypeError(\"bad user class\")\n",
    "        return super().__new__(cls, name, bases, body)\n",
    "\n",
    "class Base(metaclass=BaseMeta):\n",
    "    def foo(self):\n",
    "        return self.bar()\n",
    "    \n",
    "    def __init_subclass__(*a, **kw):\n",
    "        print('init_subclass', a, kw)\n",
    "        return super().__init_subclass__(*a, **kw)"
   ]
  },
  {
   "cell_type": "code",
   "execution_count": 2,
   "metadata": {},
   "outputs": [
    {
     "name": "stdout",
     "output_type": "stream",
     "text": [
      "Help on method __init_subclass__ in module __main__:\n",
      "\n",
      "__init_subclass__(*a, **kw) method of __main__.BaseMeta instance\n",
      "    This method is called when a class is subclassed.\n",
      "    \n",
      "    The default implementation does nothing. It may be\n",
      "    overridden to extend subclasses.\n",
      "\n"
     ]
    }
   ],
   "source": [
    "help(Base.__init_subclass__)"
   ]
  },
  {
   "cell_type": "code",
   "execution_count": null,
   "metadata": {},
   "outputs": [],
   "source": []
  }
 ],
 "metadata": {
  "kernelspec": {
   "display_name": "Python 3",
   "language": "python",
   "name": "python3"
  },
  "language_info": {
   "codemirror_mode": {
    "name": "ipython",
    "version": 3
   },
   "file_extension": ".py",
   "mimetype": "text/x-python",
   "name": "python",
   "nbconvert_exporter": "python",
   "pygments_lexer": "ipython3",
   "version": "3.6.6"
  }
 },
 "nbformat": 4,
 "nbformat_minor": 2
}
