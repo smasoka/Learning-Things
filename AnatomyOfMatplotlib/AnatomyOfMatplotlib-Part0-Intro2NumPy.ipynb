{
 "cells": [
  {
   "cell_type": "code",
   "execution_count": 1,
   "metadata": {},
   "outputs": [],
   "source": [
    "# Let printing work the same in Python 2 and 3\n",
    "from __future__ import print_function"
   ]
  },
  {
   "cell_type": "markdown",
   "metadata": {},
   "source": [
    "# NumPy\n",
    "The NumPy package provides the \"ndarray\" object. The NumPy array is used to contain data of uniform type with an arbitrary number of dimensions. NumPy then provides basic mathematical and array methods to lay down the foundation for the entire SciPy ecosystem. The following import statement is the generally accepted convention for NumPy."
   ]
  },
  {
   "cell_type": "code",
   "execution_count": 2,
   "metadata": {},
   "outputs": [],
   "source": [
    "import numpy as np"
   ]
  },
  {
   "cell_type": "markdown",
   "metadata": {},
   "source": [
    "## Array Creation\n",
    "There are several ways to make NumPy arrays. An array has three particular attributes that can be queried: shape, size and the number of dimensions."
   ]
  },
  {
   "cell_type": "code",
   "execution_count": 6,
   "metadata": {},
   "outputs": [
    {
     "name": "stdout",
     "output_type": "stream",
     "text": [
      "(3,)\n",
      "3\n",
      "1\n",
      "[1 2 3]\n"
     ]
    }
   ],
   "source": [
    "a = np.array([1, 2, 3])\n",
    "print(a.shape)\n",
    "print(a.size)\n",
    "print(a.ndim)\n",
    "print(a)"
   ]
  },
  {
   "cell_type": "code",
   "execution_count": 5,
   "metadata": {},
   "outputs": [
    {
     "name": "stdout",
     "output_type": "stream",
     "text": [
      "(100,)\n",
      "100\n",
      "1\n",
      "[ 0  1  2  3  4  5  6  7  8  9 10 11 12 13 14 15 16 17 18 19 20 21 22 23\n",
      " 24 25 26 27 28 29 30 31 32 33 34 35 36 37 38 39 40 41 42 43 44 45 46 47\n",
      " 48 49 50 51 52 53 54 55 56 57 58 59 60 61 62 63 64 65 66 67 68 69 70 71\n",
      " 72 73 74 75 76 77 78 79 80 81 82 83 84 85 86 87 88 89 90 91 92 93 94 95\n",
      " 96 97 98 99]\n"
     ]
    }
   ],
   "source": [
    "x = np.arange(100)\n",
    "print(x.shape)\n",
    "print(x.size)\n",
    "print(x.ndim)\n",
    "print(x)"
   ]
  },
  {
   "cell_type": "code",
   "execution_count": 7,
   "metadata": {},
   "outputs": [
    {
     "name": "stdout",
     "output_type": "stream",
     "text": [
      "(5, 80)\n",
      "400\n",
      "2\n",
      "[[4.31857078e-01 5.70250182e-01 5.54356888e-01 9.85568763e-01\n",
      "  2.45449193e-01 6.05932056e-01 2.09905038e-01 3.31687034e-01\n",
      "  2.21532226e-01 4.14186014e-01 6.85853169e-01 2.19821035e-01\n",
      "  7.11189486e-01 5.06633865e-01 1.87023463e-01 4.35268701e-02\n",
      "  3.25773578e-01 1.95756011e-01 8.95712201e-01 8.42080644e-01\n",
      "  1.89664936e-01 6.36723122e-02 4.11865306e-01 9.51628505e-01\n",
      "  4.84994487e-01 1.08901753e-01 2.93715735e-01 4.23875741e-01\n",
      "  4.49393482e-02 3.17214103e-01 7.72728670e-01 7.86127500e-01\n",
      "  2.40189495e-01 2.80672923e-01 5.01445210e-01 3.78966390e-01\n",
      "  7.39956073e-01 3.14359546e-01 5.71532712e-01 8.14070592e-01\n",
      "  9.98186038e-01 1.07722075e-01 2.19779305e-01 8.83386821e-01\n",
      "  1.01811733e-01 7.95264261e-01 5.97496416e-01 7.57694481e-01\n",
      "  9.58659040e-01 6.28757837e-01 4.02693254e-02 3.75971989e-01\n",
      "  6.49558945e-01 6.06908453e-01 5.93272808e-01 8.19172592e-01\n",
      "  4.60568902e-01 8.36461577e-01 2.40606856e-01 4.32996810e-01\n",
      "  5.47394938e-01 9.40321009e-01 4.37591269e-01 7.17153336e-01\n",
      "  7.89231283e-01 6.74543956e-02 9.48902033e-01 5.63469720e-01\n",
      "  2.74439412e-01 3.03089013e-01 7.77653028e-01 9.30699556e-01\n",
      "  6.81461714e-01 8.91687423e-01 8.79444174e-01 7.94940616e-01\n",
      "  1.00833008e-01 4.65558932e-01 1.66999612e-01 5.57882561e-01]\n",
      " [1.05849955e-01 6.74600776e-01 5.99809592e-01 1.57332859e-01\n",
      "  2.26820354e-01 6.93709376e-01 5.45962448e-02 4.67349886e-01\n",
      "  6.23666447e-01 4.56791914e-01 2.37957784e-01 2.10499649e-01\n",
      "  9.74064347e-01 3.02058370e-01 7.32036869e-01 7.55345336e-02\n",
      "  3.69968846e-01 3.28831092e-02 4.62773984e-01 5.23298742e-01\n",
      "  9.79742040e-01 8.74417126e-01 5.23005930e-01 6.52271360e-01\n",
      "  8.62611330e-01 8.56343685e-02 3.19086301e-01 6.53843268e-01\n",
      "  7.71097705e-01 5.37327670e-01 1.80757693e-01 3.74369661e-01\n",
      "  4.13513651e-01 3.11529530e-01 8.91096934e-01 5.42526777e-01\n",
      "  5.50761181e-01 4.88656719e-01 7.91939686e-01 5.35028339e-01\n",
      "  5.78603032e-02 3.40173760e-01 8.87961642e-01 2.60280032e-01\n",
      "  3.97443960e-01 6.98468876e-01 2.04701400e-01 6.32472224e-01\n",
      "  1.01669749e-01 4.46255939e-01 3.81171155e-01 7.67154799e-01\n",
      "  4.03502647e-01 9.23114695e-01 8.71758992e-01 6.61458263e-01\n",
      "  6.98010900e-01 8.08244091e-02 9.01178680e-02 4.97610975e-01\n",
      "  7.02038834e-01 9.14268277e-01 2.78764084e-02 1.06468921e-01\n",
      "  7.38803132e-01 7.38778528e-01 9.23074490e-01 4.13333384e-01\n",
      "  3.19912038e-01 1.57036150e-01 2.47349556e-01 8.71540297e-03\n",
      "  5.19984034e-01 7.24828290e-01 4.41624977e-01 4.82187038e-01\n",
      "  3.25599251e-01 4.19860803e-01 7.51149154e-02 2.97013013e-01]\n",
      " [2.96412823e-01 5.76147509e-01 8.82619825e-01 7.33714555e-01\n",
      "  8.34608087e-02 7.23125533e-01 9.83215373e-03 7.29721700e-01\n",
      "  1.08713370e-01 6.22387246e-01 8.28244317e-01 4.13672925e-01\n",
      "  6.00702549e-01 9.80911548e-01 4.34063564e-01 4.71852972e-01\n",
      "  6.82099342e-01 6.15515873e-02 7.46669723e-01 9.59752176e-01\n",
      "  3.63209733e-01 8.87427687e-01 9.77596894e-01 7.78048084e-01\n",
      "  5.26505247e-01 9.38799368e-01 7.29471076e-01 2.75091819e-01\n",
      "  2.92307251e-01 5.48629044e-01 7.88392588e-01 6.27008912e-04\n",
      "  2.30524523e-01 1.59329058e-01 2.60007862e-02 7.79481658e-01\n",
      "  2.29602169e-02 3.00735839e-01 2.81076141e-01 2.39961513e-01\n",
      "  3.12158520e-01 1.06535232e-02 5.28450970e-01 9.64676399e-01\n",
      "  3.45534707e-03 2.65739235e-01 9.45308371e-02 8.62966659e-01\n",
      "  8.32233525e-01 1.06349016e-01 5.80152204e-02 9.81040533e-02\n",
      "  2.13454149e-01 2.80049797e-01 5.38500055e-01 1.37212105e-01\n",
      "  8.65398020e-01 7.02580772e-01 6.17497505e-01 9.05090611e-01\n",
      "  9.38932672e-01 7.62185341e-01 6.33383416e-01 8.65453952e-01\n",
      "  6.84997210e-01 3.86311281e-01 2.79949908e-01 8.24391195e-01\n",
      "  6.76453758e-01 2.20201736e-01 6.50939743e-01 5.77234087e-02\n",
      "  2.45598888e-01 6.07656265e-01 2.41078320e-01 5.02109122e-01\n",
      "  7.89620765e-01 8.99881349e-01 8.01048280e-01 4.80577722e-02]\n",
      " [7.31763945e-01 5.24505731e-01 2.68595847e-01 3.25405161e-01\n",
      "  3.12068527e-01 6.99471368e-01 6.21168110e-02 4.86893067e-02\n",
      "  3.15753375e-01 9.63017432e-02 7.20284015e-01 6.06126429e-01\n",
      "  8.48947886e-01 5.98657981e-01 6.11949929e-01 2.31161090e-01\n",
      "  6.39641309e-01 3.92721018e-01 6.55789579e-01 6.92477688e-01\n",
      "  5.84363654e-01 4.19740463e-01 8.66552224e-01 4.52796439e-01\n",
      "  3.69596677e-01 5.23866469e-01 3.99866050e-01 6.67839716e-01\n",
      "  7.94776585e-01 9.16959907e-01 4.40838750e-01 9.16030812e-01\n",
      "  8.88921520e-01 6.35431261e-01 3.31077257e-01 9.52401367e-01\n",
      "  7.48952598e-02 9.61281315e-01 6.84063501e-01 6.89805289e-01\n",
      "  5.87566106e-01 6.27157893e-01 1.50823362e-01 8.79873021e-01\n",
      "  4.52577341e-01 1.40302600e-01 1.58455753e-03 1.61109167e-01\n",
      "  1.15543614e-01 2.74105827e-01 7.12809384e-01 2.41114923e-02\n",
      "  4.21546947e-01 3.32370780e-01 5.01742555e-01 4.91311441e-01\n",
      "  8.43095680e-01 4.52447272e-01 7.56884021e-01 7.90727263e-01\n",
      "  1.97269427e-02 4.78771228e-01 6.57069203e-01 1.58614589e-01\n",
      "  5.58639204e-01 8.35495507e-02 4.52474613e-01 8.36067664e-01\n",
      "  8.86265923e-01 9.55659382e-01 4.88983878e-01 4.43064558e-01\n",
      "  4.11235984e-01 4.95248781e-01 4.29282731e-01 6.35266539e-01\n",
      "  5.13096123e-01 4.78473886e-01 5.02264407e-01 4.43772819e-01]\n",
      " [3.50408439e-01 6.14629275e-01 8.18509400e-01 1.97034694e-01\n",
      "  3.32676078e-01 5.44563999e-02 1.56633344e-01 4.08785957e-02\n",
      "  4.44241400e-01 1.19851309e-01 3.13225871e-01 5.45987717e-01\n",
      "  5.12005815e-03 3.67733978e-01 6.49503273e-01 2.16683152e-01\n",
      "  7.74979487e-01 2.55327903e-01 9.92873984e-01 2.94445604e-01\n",
      "  4.29394637e-01 8.64086807e-01 3.37306742e-02 6.01356943e-01\n",
      "  8.35048093e-01 3.82516147e-01 2.88143097e-01 9.09284039e-01\n",
      "  2.01472626e-01 2.70761628e-01 8.70397821e-02 9.17752023e-01\n",
      "  1.54803270e-01 6.09944670e-01 2.83358856e-01 1.45348634e-01\n",
      "  1.97050484e-01 1.25960418e-01 9.22827033e-01 1.89491397e-01\n",
      "  1.52326518e-01 9.69323946e-01 6.94157246e-01 2.22459390e-01\n",
      "  6.81699979e-02 1.01422375e-01 3.07559838e-01 1.85784310e-02\n",
      "  5.44603206e-01 1.53109071e-01 7.17049189e-01 9.59748482e-01\n",
      "  1.79648967e-01 9.83291217e-01 9.31154582e-01 3.28976232e-01\n",
      "  6.09975258e-01 6.90856962e-01 4.37476999e-02 4.75034746e-01\n",
      "  2.73497852e-01 1.26404646e-01 4.44491299e-01 7.39757286e-01\n",
      "  8.22980194e-01 9.56266333e-01 3.96086628e-01 1.21409484e-01\n",
      "  6.03697358e-01 5.42886863e-01 9.06144381e-01 3.48213618e-02\n",
      "  4.32798985e-02 9.71403381e-01 8.57392230e-01 7.32205371e-01\n",
      "  5.21434865e-01 3.43964187e-01 7.44018366e-01 6.30233730e-01]]\n"
     ]
    }
   ],
   "source": [
    "y = np.random.rand(5, 80)\n",
    "print(y.shape) # Rows and Columns (Dimension 1 and 2)\n",
    "print(y.size)\n",
    "print(y.ndim)\n",
    "print(y)"
   ]
  },
  {
   "cell_type": "markdown",
   "metadata": {},
   "source": [
    "## Array Manipulation\n",
    "How to change the shape of an array without a copy!"
   ]
  },
  {
   "cell_type": "code",
   "execution_count": 9,
   "metadata": {},
   "outputs": [
    {
     "name": "stdout",
     "output_type": "stream",
     "text": [
      "[[ 0  1  2  3  4]\n",
      " [ 5  6  7  8  9]\n",
      " [10 11 12 13 14]\n",
      " [15 16 17 18 19]\n",
      " [20 21 22 23 24]\n",
      " [25 26 27 28 29]\n",
      " [30 31 32 33 34]\n",
      " [35 36 37 38 39]\n",
      " [40 41 42 43 44]\n",
      " [45 46 47 48 49]\n",
      " [50 51 52 53 54]\n",
      " [55 56 57 58 59]\n",
      " [60 61 62 63 64]\n",
      " [65 66 67 68 69]\n",
      " [70 71 72 73 74]\n",
      " [75 76 77 78 79]\n",
      " [80 81 82 83 84]\n",
      " [85 86 87 88 89]\n",
      " [90 91 92 93 94]\n",
      " [95 96 97 98 99]]\n"
     ]
    }
   ],
   "source": [
    "# x = np.arange(100)\n",
    "x.shape = (20, 5)\n",
    "print(x)"
   ]
  },
  {
   "cell_type": "markdown",
   "metadata": {},
   "source": [
    "NumPy can even automatically figure out the size of at most one dimension for you."
   ]
  },
  {
   "cell_type": "code",
   "execution_count": 13,
   "metadata": {},
   "outputs": [
    {
     "name": "stdout",
     "output_type": "stream",
     "text": [
      "(4, 20, 5)\n",
      "400\n"
     ]
    }
   ],
   "source": [
    "# y = np.random.rand(5, 80)\n",
    "y.shape = (4, 20, -1)\n",
    "# The third dimension is calculated for you\n",
    "print(y.shape)\n",
    "print(y.size)\n",
    "#print(y)"
   ]
  },
  {
   "cell_type": "markdown",
   "metadata": {},
   "source": [
    "## Array Indexing"
   ]
  },
  {
   "cell_type": "code",
   "execution_count": 15,
   "metadata": {},
   "outputs": [
    {
     "name": "stdout",
     "output_type": "stream",
     "text": [
      "[10 11 12 13 14]\n"
     ]
    }
   ],
   "source": [
    "# Scalar Indexing\n",
    "#print(x)\n",
    "print(x[2])"
   ]
  },
  {
   "cell_type": "code",
   "execution_count": 17,
   "metadata": {},
   "outputs": [
    {
     "name": "stdout",
     "output_type": "stream",
     "text": [
      "[[10 11 12 13 14]\n",
      " [15 16 17 18 19]\n",
      " [20 21 22 23 24]]\n"
     ]
    }
   ],
   "source": [
    "# Slicing\n",
    "print(x[2:5])"
   ]
  },
  {
   "cell_type": "code",
   "execution_count": 25,
   "metadata": {},
   "outputs": [
    {
     "name": "stdout",
     "output_type": "stream",
     "text": [
      "First 5 rows\n",
      " [[ 0  1  2  3  4]\n",
      " [ 5  6  7  8  9]\n",
      " [10 11 12 13 14]\n",
      " [15 16 17 18 19]\n",
      " [20 21 22 23 24]]\n",
      "Row 18 to the end\n",
      " [[90 91 92 93 94]\n",
      " [95 96 97 98 99]]\n",
      "Last 5 rows\n",
      " [[75 76 77 78 79]\n",
      " [80 81 82 83 84]\n",
      " [85 86 87 88 89]\n",
      " [90 91 92 93 94]\n",
      " [95 96 97 98 99]]\n",
      "Reverse the rows\n",
      " [[95 96 97 98 99]\n",
      " [90 91 92 93 94]\n",
      " [85 86 87 88 89]\n",
      " [80 81 82 83 84]\n",
      " [75 76 77 78 79]\n",
      " [70 71 72 73 74]\n",
      " [65 66 67 68 69]\n",
      " [60 61 62 63 64]\n",
      " [55 56 57 58 59]\n",
      " [50 51 52 53 54]\n",
      " [45 46 47 48 49]\n",
      " [40 41 42 43 44]\n",
      " [35 36 37 38 39]\n",
      " [30 31 32 33 34]\n",
      " [25 26 27 28 29]\n",
      " [20 21 22 23 24]\n",
      " [15 16 17 18 19]\n",
      " [10 11 12 13 14]\n",
      " [ 5  6  7  8  9]\n",
      " [ 0  1  2  3  4]]\n"
     ]
    }
   ],
   "source": [
    "# Advanced slicing\n",
    "print(\"First 5 rows\\n\", x[:5])\n",
    "print(\"Row 18 to the end\\n\", x[18:])\n",
    "print(\"Last 5 rows\\n\", x[-5:])\n",
    "print(\"Reverse the rows\\n\", x[::-1])"
   ]
  },
  {
   "cell_type": "code",
   "execution_count": 26,
   "metadata": {},
   "outputs": [
    {
     "name": "stdout",
     "output_type": "stream",
     "text": [
      "[ 0  2  4  6  8 10 12 14 16 18 20 22 24 26 28 30 32 34 36 38 40 42 44 46\n",
      " 48 50 52 54 56 58 60 62 64 66 68 70 72 74 76 78 80 82 84 86 88 90 92 94\n",
      " 96 98]\n"
     ]
    }
   ],
   "source": [
    "# Boolean Indexing\n",
    "# This is good \n",
    "print(x[(x % 2) == 0])"
   ]
  },
  {
   "cell_type": "code",
   "execution_count": 31,
   "metadata": {},
   "outputs": [
    {
     "name": "stdout",
     "output_type": "stream",
     "text": [
      "[[ 5  6  7  8  9]\n",
      " [15 16 17 18 19]\n",
      " [40 41 42 43 44]\n",
      " [45 46 47 48 49]\n",
      " [10 11 12 13 14]]\n"
     ]
    }
   ],
   "source": [
    "# Fancy Indexing -- Note the use of a list, not tuple!\n",
    "print(x[[1, 3, 8, 9, 2]])"
   ]
  },
  {
   "cell_type": "markdown",
   "metadata": {},
   "source": [
    "## Broadcasting\n",
    "Broadcasting is a very useful feature of NumPy that will let arrays with differing shapes still be used together. In most cases, broadcasting is faster, and it is more memory efficient than the equivalent full array operation."
   ]
  },
  {
   "cell_type": "code",
   "execution_count": 32,
   "metadata": {},
   "outputs": [
    {
     "name": "stdout",
     "output_type": "stream",
     "text": [
      "Shape of X: (20, 5)\n",
      "Shape of Y: (4, 20, 5)\n"
     ]
    }
   ],
   "source": [
    "print(\"Shape of X:\", x.shape)\n",
    "print(\"Shape of Y:\", y.shape)"
   ]
  },
  {
   "cell_type": "markdown",
   "metadata": {},
   "source": [
    "Now, here are three identical assignments. The first one takes full advantage of broadcasting by allowing NumPy to automatically add a new dimension to the *left*. The second explicitly adds that dimension with the special NumPy alias \"np.newaxis\". These first two creates a singleton dimension without any new arrays being created. That singleton dimension is then implicitly tiled, much like the third example to match with the RHS of the addition operator. However, unlike the third example, the broadcasting merely re-uses the existing data in memory."
   ]
  },
  {
   "cell_type": "code",
   "execution_count": 36,
   "metadata": {},
   "outputs": [
    {
     "name": "stdout",
     "output_type": "stream",
     "text": [
      "(4, 20, 5)\n",
      "400\n",
      "(4, 20, 5)\n",
      "(4, 20, 5)\n",
      "Are a and b identical? True\n",
      "Are a and c identical? True\n"
     ]
    }
   ],
   "source": [
    "a = x + y\n",
    "print(a.shape)\n",
    "print(a.size)\n",
    "b = x[np.newaxis, :, :] + y # Explicitly adding a new axis on 'x'\n",
    "print(b.shape)\n",
    "c = np.tile(x, (4, 1, 1)) + y # \n",
    "print(c.shape)\n",
    "print(\"Are a and b identical?\", np.all(a == b))\n",
    "print(\"Are a and c identical?\", np.all(a == c))"
   ]
  },
  {
   "cell_type": "code",
   "execution_count": 42,
   "metadata": {},
   "outputs": [
    {
     "name": "stdout",
     "output_type": "stream",
     "text": [
      "[1 2]\n",
      "[1 2 1 2]\n",
      "[[1 2]\n",
      " [1 2]]\n",
      "[[1 2 1 2]\n",
      " [1 2 1 2]]\n"
     ]
    }
   ],
   "source": [
    "tmp = np.array([1,2])\n",
    "print(tmp)\n",
    "print(np.tile(tmp, 2))\n",
    "print(np.tile(tmp, (2,1)))\n",
    "print(np.tile(tmp, (2,2)))"
   ]
  },
  {
   "cell_type": "markdown",
   "metadata": {},
   "source": [
    "Another example of broadcasting two 1-D arrays to make a 2-D array."
   ]
  },
  {
   "cell_type": "code",
   "execution_count": null,
   "metadata": {},
   "outputs": [],
   "source": [
    "x = np.arange(-5, 5, 0.1)\n",
    "y = np.arange(-8, 8, 0.25)\n",
    "print(x.shape, y.shape)\n",
    "z = x[np.newaxis, :] * y[:, np.newaxis]\n",
    "print(z.shape)"
   ]
  },
  {
   "cell_type": "code",
   "execution_count": null,
   "metadata": {},
   "outputs": [],
   "source": [
    "# More concisely\n",
    "y, x = np.ogrid[-8:8:0.25, -5:5:0.1]\n",
    "print(x.shape, y.shape)\n",
    "z = x * y\n",
    "print(z.shape)"
   ]
  }
 ],
 "metadata": {
  "kernelspec": {
   "display_name": "Python 3",
   "language": "python",
   "name": "python3"
  },
  "language_info": {
   "codemirror_mode": {
    "name": "ipython",
    "version": 3
   },
   "file_extension": ".py",
   "mimetype": "text/x-python",
   "name": "python",
   "nbconvert_exporter": "python",
   "pygments_lexer": "ipython3",
   "version": "3.7.1"
  }
 },
 "nbformat": 4,
 "nbformat_minor": 2
}
