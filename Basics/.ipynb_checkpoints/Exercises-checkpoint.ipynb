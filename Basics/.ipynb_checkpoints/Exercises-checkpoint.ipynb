{
 "cells": [
  {
   "cell_type": "markdown",
   "metadata": {},
   "source": [
    "# Exercises"
   ]
  },
  {
   "cell_type": "markdown",
   "metadata": {},
   "source": [
    "Sum list <br/>\n",
    "sum only odd numbers in a list <br/>\n",
    "Create a new list by applying a function to an existing list <br/>\n",
    "fibonacci <br/>\n",
    "Prime or Not <br/>\n",
    "List all Prime numbers <br/>\n",
    "Functions isPrime <br/>\n",
    "\n",
    "Numpy excersises"
   ]
  },
  {
   "cell_type": "markdown",
   "metadata": {},
   "source": [
    "#### Create a new list by applying a function to an existing list"
   ]
  },
  {
   "cell_type": "code",
   "execution_count": 2,
   "metadata": {},
   "outputs": [
    {
     "name": "stdout",
     "output_type": "stream",
     "text": [
      "[1, 2, 3, 4, 5]\n",
      "[0, 2, 6, 12, 20]\n"
     ]
    }
   ],
   "source": [
    "# \n",
    "x = [1,2,3,4,5]\n",
    "y = []\n",
    "for xi in x:\n",
    "    y.append(xi**2-xi)\n",
    "print(x)\n",
    "print(y)"
   ]
  },
  {
   "cell_type": "code",
   "execution_count": 4,
   "metadata": {},
   "outputs": [
    {
     "name": "stdout",
     "output_type": "stream",
     "text": [
      "1.0\n",
      "2.8284271247461903\n",
      "6.708203932499369\n",
      "12.649110640673518\n",
      "20.615528128088304\n"
     ]
    }
   ],
   "source": [
    "# Another one\n",
    "# zip\n",
    "for [xi,yi] in zip(x,y):\n",
    "    print(math.sqrt(xi**2 +yi**2))"
   ]
  },
  {
   "cell_type": "code",
   "execution_count": 5,
   "metadata": {},
   "outputs": [
    {
     "name": "stdout",
     "output_type": "stream",
     "text": [
      "1.0\n",
      "2.8284271247461903\n",
      "6.708203932499369\n",
      "12.649110640673518\n",
      "20.615528128088304\n"
     ]
    }
   ],
   "source": [
    "# Anothe one\n",
    "for i in range(len(x)):\n",
    "    print(math.sqrt(x[i]**2 + y[i]**2))"
   ]
  },
  {
   "cell_type": "markdown",
   "metadata": {},
   "source": [
    "#### Fibonaccis"
   ]
  },
  {
   "cell_type": "code",
   "execution_count": 6,
   "metadata": {},
   "outputs": [
    {
     "name": "stdout",
     "output_type": "stream",
     "text": [
      "1\n",
      "1\n",
      "2\n",
      "3\n",
      "5\n",
      "8\n",
      "13\n",
      "21\n",
      "34\n",
      "55\n",
      "89\n",
      "144\n"
     ]
    }
   ],
   "source": [
    "# fibonacci sequence 1,1,2,3,5,8,.....\n",
    "a = 1\n",
    "print(a)\n",
    "b = 1\n",
    "print(b)\n",
    "target = 100\n",
    "while(b < target):\n",
    "    c = a + b\n",
    "    print(c)\n",
    "    a,b = b,c"
   ]
  },
  {
   "cell_type": "code",
   "execution_count": 7,
   "metadata": {},
   "outputs": [
    {
     "name": "stdout",
     "output_type": "stream",
     "text": [
      "2 1\n",
      "3 1\n",
      "4 2\n",
      "5 3\n",
      "6 5\n",
      "7 8\n",
      "8 13\n",
      "9 21\n",
      "10 34\n",
      "11 55\n",
      "12 89\n",
      "13 144\n",
      "14 233\n",
      "15 377\n",
      "16 610\n",
      "17 987\n",
      "18 1597\n",
      "19 2584\n",
      "20 4181\n",
      "21 6765\n",
      "22 10946\n",
      "23 17711\n",
      "24 28657\n",
      "25 46368\n",
      "26 75025\n",
      "27 121393\n",
      "28 196418\n",
      "29 317811\n",
      "30 514229\n",
      "31 832040\n",
      "32 1346269\n",
      "33 2178309\n",
      "34 3524578\n",
      "35 5702887\n",
      "36 9227465\n",
      "37 14930352\n",
      "38 24157817\n",
      "39 39088169\n",
      "40 63245986\n",
      "41 102334155\n",
      "42 165580141\n",
      "43 267914296\n",
      "44 433494437\n",
      "45 701408733\n",
      "46 1134903170\n",
      "47 1836311903\n",
      "48 2971215073\n",
      "49 4807526976\n",
      "50 7778742049\n"
     ]
    },
    {
     "data": {
      "text/plain": [
       "12586269025"
      ]
     },
     "execution_count": 7,
     "metadata": {},
     "output_type": "execute_result"
    }
   ],
   "source": [
    "def fib(terms):\n",
    "    # the first two terms of the series are 0 and 1\n",
    "    a = 0\n",
    "    b = 1\n",
    "    # create a counter variable\n",
    "    n = 0\n",
    "    while(n<terms-1):\n",
    "        tmp = b # use a temporary variable to store the old value of b\n",
    "        b = a + b\n",
    "        a = tmp\n",
    "        #pythonic alternative: a,b = b,a+b\n",
    "        n+=1 #increment counter variable\n",
    "        print(n+1,a)\n",
    "    return b\n",
    "\n",
    "# test the function to 50 terms\n",
    "fib(50)"
   ]
  },
  {
   "cell_type": "markdown",
   "metadata": {},
   "source": [
    "#### IsPrime or Not"
   ]
  },
  {
   "cell_type": "code",
   "execution_count": null,
   "metadata": {},
   "outputs": [],
   "source": []
  },
  {
   "cell_type": "code",
   "execution_count": 8,
   "metadata": {},
   "outputs": [
    {
     "name": "stdout",
     "output_type": "stream",
     "text": [
      "53 is Prime\n"
     ]
    }
   ],
   "source": [
    "#Prime Number or Not\n",
    "import math\n",
    "\n",
    "num = 53\n",
    "isPrime = True\n",
    "for i in range(2, int(math.sqrt(num)) +1 ):\n",
    "    if num % i == 0:\n",
    "        isPrime = False\n",
    "        break\n",
    "if isPrime:\n",
    "    print(num , \"is Prime\")\n",
    "else:\n",
    "    print(num, \"is NOT Prime\")"
   ]
  },
  {
   "cell_type": "code",
   "execution_count": 9,
   "metadata": {},
   "outputs": [
    {
     "name": "stdout",
     "output_type": "stream",
     "text": [
      "False\n"
     ]
    }
   ],
   "source": [
    "import math\n",
    "\n",
    "def isPrime(num):\n",
    "    if num <=1: \n",
    "        return False\n",
    "    \n",
    "    for i in range(2, int(math.sqrt(num)) +1 ):\n",
    "        if num % i != 0:\n",
    "            return True\n",
    "        else:\n",
    "            return False\n",
    "    return True\n",
    "\n",
    "print(isPrime(4))"
   ]
  },
  {
   "cell_type": "code",
   "execution_count": 20,
   "metadata": {},
   "outputs": [
    {
     "name": "stdout",
     "output_type": "stream",
     "text": [
      "110.23\n"
     ]
    }
   ],
   "source": [
    "# Convert weight into Pounds\n",
    "weight_kg = 50\n",
    "weight_lbs = (float(weight_kg) * 2.2046)\n",
    "print(weight_lbs)"
   ]
  },
  {
   "cell_type": "code",
   "execution_count": 47,
   "metadata": {},
   "outputs": [],
   "source": [
    "import math\n",
    "\n",
    "x = 0.0\n",
    "y = 0.0\n",
    "dt = 0.01\n",
    "thetha = math.pi/4\n",
    "g = -9.81\n",
    "u = 50\n",
    "\n",
    "def newposition(oldx,oldy,vx,vy):\n",
    "    newx = oldx + vx * dt\n",
    "    newy = oldy + vy * dt\n",
    "    return [newx,newy]\n",
    "\n",
    "outfile = open(\"trajectory.csv\", \"w\")\n",
    "t = 0\n",
    "vx = u*math.cos(thetha)\n",
    "vy = u*math.sin(thetha)\n",
    "\n",
    "while(y>=0):\n",
    "    outfile.write(str(t)+\",\"+str(x)+\",\"+str(y)+\"\\n\")\n",
    "    [x,y] = newposition(x,y,vx,vy)\n",
    "    vy += dt*g\n",
    "    t+=dt\n",
    "outfile.close()"
   ]
  },
  {
   "cell_type": "markdown",
   "metadata": {},
   "source": [
    "### Heads and Tails"
   ]
  },
  {
   "cell_type": "code",
   "execution_count": 18,
   "metadata": {},
   "outputs": [
    {
     "name": "stdout",
     "output_type": "stream",
     "text": [
      "Heads: 50\n",
      "Tails: 50\n"
     ]
    }
   ],
   "source": [
    "import random\n",
    "\n",
    "outcomes = { 'heads':0,'tails':0}\n",
    "sides = outcomes.keys()\n",
    "\n",
    "for i in range(100):\n",
    "    outcomes[ random.choice(['heads', 'tails']) ] += 1\n",
    "\n",
    "print('Heads:', outcomes['heads'])\n",
    "print('Tails:', outcomes['tails'])"
   ]
  },
  {
   "cell_type": "code",
   "execution_count": null,
   "metadata": {},
   "outputs": [],
   "source": []
  },
  {
   "cell_type": "code",
   "execution_count": null,
   "metadata": {},
   "outputs": [],
   "source": []
  },
  {
   "cell_type": "markdown",
   "metadata": {},
   "source": [
    "### Numpy Exercises"
   ]
  },
  {
   "cell_type": "code",
   "execution_count": 1,
   "metadata": {},
   "outputs": [],
   "source": [
    "import numpy as np"
   ]
  },
  {
   "cell_type": "code",
   "execution_count": 4,
   "metadata": {},
   "outputs": [
    {
     "name": "stdout",
     "output_type": "stream",
     "text": [
      "First 5 rows\n",
      " [[ 0  1  2  3  4]\n",
      " [ 5  6  7  8  9]\n",
      " [10 11 12 13 14]\n",
      " [15 16 17 18 19]\n",
      " [20 21 22 23 24]]\n",
      "Row 18 to the end\n",
      " [[90 91 92 93 94]\n",
      " [95 96 97 98 99]]\n",
      "Last 5 rows\n",
      " [[75 76 77 78 79]\n",
      " [80 81 82 83 84]\n",
      " [85 86 87 88 89]\n",
      " [90 91 92 93 94]\n",
      " [95 96 97 98 99]]\n",
      "Reverse the rows\n",
      " [[95 96 97 98 99]\n",
      " [90 91 92 93 94]\n",
      " [85 86 87 88 89]\n",
      " [80 81 82 83 84]\n",
      " [75 76 77 78 79]\n",
      " [70 71 72 73 74]\n",
      " [65 66 67 68 69]\n",
      " [60 61 62 63 64]\n",
      " [55 56 57 58 59]\n",
      " [50 51 52 53 54]\n",
      " [45 46 47 48 49]\n",
      " [40 41 42 43 44]\n",
      " [35 36 37 38 39]\n",
      " [30 31 32 33 34]\n",
      " [25 26 27 28 29]\n",
      " [20 21 22 23 24]\n",
      " [15 16 17 18 19]\n",
      " [10 11 12 13 14]\n",
      " [ 5  6  7  8  9]\n",
      " [ 0  1  2  3  4]]\n"
     ]
    }
   ],
   "source": [
    "# Create 100 elements\n",
    "# Change the shape to 20, 5\n",
    "# print First 5 rows\n",
    "# print Row 18 to end\n",
    "# print Last 5 rows\n",
    "# print Reversed rows\n",
    "x = np.arange(100)\n",
    "x.shape = (20, 5)\n",
    "print(\"First 5 rows\\n\", x[:5])\n",
    "print(\"Row 18 to the end\\n\", x[18:])\n",
    "print(\"Last 5 rows\\n\", x[-5:])\n",
    "print(\"Reverse the rows\\n\", x[::-1])"
   ]
  },
  {
   "cell_type": "markdown",
   "metadata": {},
   "source": [
    "### Matplotlib Exercises"
   ]
  },
  {
   "cell_type": "code",
   "execution_count": null,
   "metadata": {},
   "outputs": [],
   "source": []
  }
 ],
 "metadata": {
  "kernelspec": {
   "display_name": "Python 3",
   "language": "python",
   "name": "python3"
  },
  "language_info": {
   "codemirror_mode": {
    "name": "ipython",
    "version": 3
   },
   "file_extension": ".py",
   "mimetype": "text/x-python",
   "name": "python",
   "nbconvert_exporter": "python",
   "pygments_lexer": "ipython3",
   "version": "3.7.1"
  }
 },
 "nbformat": 4,
 "nbformat_minor": 2
}
