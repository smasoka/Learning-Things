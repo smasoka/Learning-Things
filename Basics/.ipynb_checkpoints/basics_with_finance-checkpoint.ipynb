{
 "cells": [
  {
   "cell_type": "markdown",
   "metadata": {},
   "source": [
    "# Finance with Python"
   ]
  },
  {
   "cell_type": "markdown",
   "metadata": {},
   "source": [
    "$$ A = P * ( 1 + r)^t $$\n",
    "\n",
    "A = Value of Investment in the future <br/>\n",
    "P = Principal/Initial Investment<br/>\n",
    "t = Time in years<br/>"
   ]
  },
  {
   "cell_type": "code",
   "execution_count": 4,
   "metadata": {},
   "outputs": [
    {
     "name": "stdout",
     "output_type": "stream",
     "text": [
      "105.0\n",
      "110.25\n",
      "115.7625\n",
      "121.55062500000001\n",
      "127.62815625000002\n"
     ]
    }
   ],
   "source": [
    "# R100\n",
    "# 5%\n",
    "# 5 years\n",
    "\n",
    "p = 100\n",
    "r = .05\n",
    "A = p\n",
    "for t in range(5):\n",
    "    A = A*(1+r)\n",
    "    print(A)"
   ]
  },
  {
   "cell_type": "code",
   "execution_count": 5,
   "metadata": {},
   "outputs": [
    {
     "name": "stdout",
     "output_type": "stream",
     "text": [
      "5.0\n",
      "5.25\n",
      "5.512500000000003\n",
      "5.788125000000008\n",
      "6.077531250000007\n"
     ]
    }
   ],
   "source": [
    "# How much does the interest increases by each year?\n",
    "p = 100\n",
    "r = .05\n",
    "A = p\n",
    "for t in range(5):\n",
    "    last = A\n",
    "    A = A*(1+r)\n",
    "    print(A - last)"
   ]
  },
  {
   "cell_type": "markdown",
   "metadata": {},
   "source": [
    "\n",
    "The interest grows with our investment. THis is compounding interest. "
   ]
  },
  {
   "cell_type": "code",
   "execution_count": 6,
   "metadata": {},
   "outputs": [
    {
     "name": "stdout",
     "output_type": "stream",
     "text": [
      "127.62815625000003\n"
     ]
    }
   ],
   "source": [
    "def compoundInterest(p,r,t):\n",
    "    return p*(1+r)**t\n",
    "print(compoundInterest(100,.05,5))"
   ]
  },
  {
   "cell_type": "code",
   "execution_count": 8,
   "metadata": {},
   "outputs": [
    {
     "name": "stdout",
     "output_type": "stream",
     "text": [
      "[0, 1, 2, 3, 4, 5, 6, 7, 8, 9]\n"
     ]
    }
   ],
   "source": [
    "t = list(range(10))\n",
    "print(t)"
   ]
  },
  {
   "cell_type": "code",
   "execution_count": 9,
   "metadata": {},
   "outputs": [
    {
     "name": "stdout",
     "output_type": "stream",
     "text": [
      "[100.0, 105.0, 110.25, 115.76250000000002, 121.55062500000003, 127.62815625000003, 134.00956406250003, 140.71004226562505, 147.7455443789063, 155.13282159785163]\n"
     ]
    }
   ],
   "source": [
    "r = .05\n",
    "P = 100\n",
    "A = [compoundInterest(P,r,x) for x in t]\n",
    "print(A)"
   ]
  },
  {
   "cell_type": "code",
   "execution_count": 12,
   "metadata": {},
   "outputs": [
    {
     "data": {
      "image/png": "[encoded data removed]",
      "text/plain": [
       "<Figure size 432x288 with 1 Axes>"
      ]
     },
     "metadata": {
      "needs_background": "light"
     },
     "output_type": "display_data"
    }
   ],
   "source": [
    "%matplotlib inline\n",
    "import matplotlib.pyplot as plt\n",
    "\n",
    "plt.plot(t,A)\n",
    "plt.xlabel(\"t\")\n",
    "plt.ylabel(\"Value\")\n",
    "plt.title(\"Compound Interest\")\n",
    "plt.show()"
   ]
  },
  {
   "cell_type": "code",
   "execution_count": null,
   "metadata": {},
   "outputs": [],
   "source": []
  }
 ],
 "metadata": {
  "kernelspec": {
   "display_name": "Python 3",
   "language": "python",
   "name": "python3"
  },
  "language_info": {
   "codemirror_mode": {
    "name": "ipython",
    "version": 3
   },
   "file_extension": ".py",
   "mimetype": "text/x-python",
   "name": "python",
   "nbconvert_exporter": "python",
   "pygments_lexer": "ipython3",
   "version": "3.7.1"
  }
 },
 "nbformat": 4,
 "nbformat_minor": 2
}
