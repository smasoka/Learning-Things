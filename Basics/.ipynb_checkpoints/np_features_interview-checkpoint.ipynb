{
 "cells": [
  {
   "cell_type": "markdown",
   "metadata": {},
   "source": [
    "# NumPy Features for Interview"
   ]
  },
  {
   "cell_type": "markdown",
   "metadata": {},
   "source": [
    "## unique\n",
    "\n",
    "Find the unique elements of an Array"
   ]
  },
  {
   "cell_type": "code",
   "execution_count": 1,
   "metadata": {},
   "outputs": [],
   "source": [
    "import numpy as np"
   ]
  },
  {
   "cell_type": "code",
   "execution_count": 2,
   "metadata": {},
   "outputs": [],
   "source": [
    "x = np.array([1,2,5,3,2,3,2,5,4])"
   ]
  },
  {
   "cell_type": "code",
   "execution_count": 4,
   "metadata": {},
   "outputs": [
    {
     "data": {
      "text/plain": [
       "array([1, 2, 3, 4, 5])"
      ]
     },
     "execution_count": 4,
     "metadata": {},
     "output_type": "execute_result"
    }
   ],
   "source": [
    "# basic return unique elements\n",
    "np.unique(x)"
   ]
  },
  {
   "cell_type": "code",
   "execution_count": 5,
   "metadata": {},
   "outputs": [
    {
     "data": {
      "text/plain": [
       "(array([1, 2, 3, 4, 5]), array([0, 1, 3, 8, 2]))"
      ]
     },
     "execution_count": 5,
     "metadata": {},
     "output_type": "execute_result"
    }
   ],
   "source": [
    "# return unique elements and indices\n",
    "np.unique(x, return_index=True)"
   ]
  },
  {
   "cell_type": "code",
   "execution_count": 6,
   "metadata": {},
   "outputs": [],
   "source": [
    "val, idx = np.unique(x, return_index=True)"
   ]
  },
  {
   "cell_type": "code",
   "execution_count": 7,
   "metadata": {},
   "outputs": [
    {
     "name": "stdout",
     "output_type": "stream",
     "text": [
      "[1 2 3 4 5] [0 1 3 8 2]\n"
     ]
    }
   ],
   "source": [
    "print(val, idx)"
   ]
  },
  {
   "cell_type": "code",
   "execution_count": 9,
   "metadata": {},
   "outputs": [
    {
     "data": {
      "text/plain": [
       "array([1, 2, 3, 4, 5])"
      ]
     },
     "execution_count": 9,
     "metadata": {},
     "output_type": "execute_result"
    }
   ],
   "source": [
    "x[idx]"
   ]
  },
  {
   "cell_type": "code",
   "execution_count": 11,
   "metadata": {},
   "outputs": [
    {
     "data": {
      "text/plain": [
       "(array([1, 2, 3, 4, 5]), array([0, 1, 4, 2, 1, 2, 1, 4, 3]))"
      ]
     },
     "execution_count": 11,
     "metadata": {},
     "output_type": "execute_result"
    }
   ],
   "source": [
    "# returns indices of the unique array which can be used to reconstruct the input array\n",
    "np.unique(x, return_inverse=True)"
   ]
  },
  {
   "cell_type": "code",
   "execution_count": 16,
   "metadata": {},
   "outputs": [
    {
     "name": "stdout",
     "output_type": "stream",
     "text": [
      "[1 2 3 4 5] [0 1 4 2 1 2 1 4 3]\n"
     ]
    }
   ],
   "source": [
    "val, idx = np.unique(x, return_inverse=True)\n",
    "print(val, idx)"
   ]
  },
  {
   "cell_type": "code",
   "execution_count": 17,
   "metadata": {},
   "outputs": [
    {
     "data": {
      "text/plain": [
       "array([1, 2, 5, 3, 2, 3, 2, 5, 4])"
      ]
     },
     "execution_count": 17,
     "metadata": {},
     "output_type": "execute_result"
    }
   ],
   "source": [
    "# reconstruct the input array\n",
    "val[idx]"
   ]
  },
  {
   "cell_type": "code",
   "execution_count": 20,
   "metadata": {},
   "outputs": [
    {
     "data": {
      "text/plain": [
       "(array([1, 2, 3, 4, 5]), array([1, 3, 2, 1, 2]))"
      ]
     },
     "execution_count": 20,
     "metadata": {},
     "output_type": "execute_result"
    }
   ],
   "source": [
    "# returns the number of times each unique elements occurs\n",
    "np.unique(x, return_counts=True)"
   ]
  },
  {
   "cell_type": "code",
   "execution_count": 21,
   "metadata": {},
   "outputs": [
    {
     "name": "stdout",
     "output_type": "stream",
     "text": [
      "[1 2 3 4 5] [1 3 2 1 2]\n"
     ]
    }
   ],
   "source": [
    "val, count = np.unique(x, return_counts=True)\n",
    "print(val, count)"
   ]
  },
  {
   "cell_type": "markdown",
   "metadata": {},
   "source": [
    "### N-dimensional "
   ]
  },
  {
   "cell_type": "code",
   "execution_count": 28,
   "metadata": {},
   "outputs": [
    {
     "name": "stdout",
     "output_type": "stream",
     "text": [
      "[[1 0 0]\n",
      " [1 0 0]\n",
      " [2 3 4]]\n"
     ]
    }
   ],
   "source": [
    "y = np.array([[1, 0, 0], [1, 0, 0], [2, 3, 4]])\n",
    "print(y)"
   ]
  },
  {
   "cell_type": "code",
   "execution_count": 29,
   "metadata": {},
   "outputs": [
    {
     "data": {
      "text/plain": [
       "array([0, 1, 2, 3, 4])"
      ]
     },
     "execution_count": 29,
     "metadata": {},
     "output_type": "execute_result"
    }
   ],
   "source": [
    "np.unique(y)"
   ]
  },
  {
   "cell_type": "code",
   "execution_count": 34,
   "metadata": {},
   "outputs": [
    {
     "name": "stdout",
     "output_type": "stream",
     "text": [
      "[0 1 2 3 4] [1 0 6 7 8]\n"
     ]
    }
   ],
   "source": [
    "val, idx = np.unique(y, return_index=True)\n",
    "print(val, idx)"
   ]
  },
  {
   "cell_type": "code",
   "execution_count": 38,
   "metadata": {},
   "outputs": [
    {
     "name": "stdout",
     "output_type": "stream",
     "text": [
      "[[1 0 0]\n",
      " [2 3 4]]\n",
      "[0 2]\n"
     ]
    }
   ],
   "source": [
    "# returns unique 'rows'\n",
    "# axis = 0\n",
    "# return index\n",
    "val, idx = np.unique(y, return_index=True, axis=0)\n",
    "print(val)\n",
    "print(idx)"
   ]
  },
  {
   "cell_type": "code",
   "execution_count": 39,
   "metadata": {},
   "outputs": [
    {
     "name": "stdout",
     "output_type": "stream",
     "text": [
      "[[1 0 0]\n",
      " [2 3 4]]\n",
      "[0 0 1]\n"
     ]
    }
   ],
   "source": [
    "# returns unique 'rows'\n",
    "# axis = 0\n",
    "# return inverse\n",
    "val, idx = np.unique(y, return_inverse=True, axis=0)\n",
    "print(val)\n",
    "print(idx)"
   ]
  },
  {
   "cell_type": "code",
   "execution_count": 41,
   "metadata": {},
   "outputs": [
    {
     "data": {
      "text/plain": [
       "array([[1, 0, 0],\n",
       "       [1, 0, 0],\n",
       "       [2, 3, 4]])"
      ]
     },
     "execution_count": 41,
     "metadata": {},
     "output_type": "execute_result"
    }
   ],
   "source": [
    "# reconstruct\n",
    "val[idx]"
   ]
  },
  {
   "cell_type": "code",
   "execution_count": 32,
   "metadata": {},
   "outputs": [
    {
     "data": {
      "text/plain": [
       "array([[0, 0, 1],\n",
       "       [0, 0, 1],\n",
       "       [3, 4, 2]])"
      ]
     },
     "execution_count": 32,
     "metadata": {},
     "output_type": "execute_result"
    }
   ],
   "source": [
    "# returns unique 'columns'\n",
    "# axis = 1\n",
    "np.unique(y, axis=1)"
   ]
  },
  {
   "cell_type": "markdown",
   "metadata": {},
   "source": [
    "## Stack\n",
    "\n",
    "Join a sequence of arrays along a new axis"
   ]
  },
  {
   "cell_type": "code",
   "execution_count": 47,
   "metadata": {},
   "outputs": [
    {
     "name": "stdout",
     "output_type": "stream",
     "text": [
      "[1 2 3] [2 3 4]\n"
     ]
    }
   ],
   "source": [
    "a = np.array([1,2,3])\n",
    "b = np.array([2,3,4])\n",
    "print(a, b)"
   ]
  },
  {
   "cell_type": "code",
   "execution_count": 52,
   "metadata": {},
   "outputs": [],
   "source": [
    "out0 = np.stack((a,b), axis=0)\n",
    "out1 = np.stack((a,b), axis=1)"
   ]
  },
  {
   "cell_type": "code",
   "execution_count": 55,
   "metadata": {},
   "outputs": [
    {
     "name": "stdout",
     "output_type": "stream",
     "text": [
      "[[1 2 3]\n",
      " [2 3 4]] (2, 3)\n"
     ]
    }
   ],
   "source": [
    "print(out0, out0.shape)"
   ]
  },
  {
   "cell_type": "code",
   "execution_count": 57,
   "metadata": {},
   "outputs": [
    {
     "name": "stdout",
     "output_type": "stream",
     "text": [
      "[[1 2]\n",
      " [2 3]\n",
      " [3 4]] (3, 2)\n"
     ]
    }
   ],
   "source": [
    "print(out1, out1.shape)"
   ]
  },
  {
   "cell_type": "code",
   "execution_count": 81,
   "metadata": {},
   "outputs": [
    {
     "name": "stdout",
     "output_type": "stream",
     "text": [
      "[array([[1, 6, 8, 5],\n",
      "       [4, 9, 5, 3],\n",
      "       [1, 3, 4, 5]]), array([[9, 8, 7, 7],\n",
      "       [5, 4, 6, 3],\n",
      "       [0, 0, 3, 2]]), array([[8, 7, 2, 2],\n",
      "       [8, 9, 2, 5],\n",
      "       [2, 3, 7, 0]]), array([[7, 8, 2, 1],\n",
      "       [8, 2, 4, 0],\n",
      "       [7, 2, 5, 2]]), array([[0, 1, 9, 3],\n",
      "       [6, 5, 7, 7],\n",
      "       [0, 8, 5, 0]]), array([[6, 3, 3, 2],\n",
      "       [4, 3, 9, 7],\n",
      "       [0, 5, 0, 3]]), array([[0, 4, 6, 1],\n",
      "       [5, 7, 2, 0],\n",
      "       [0, 0, 1, 9]]), array([[1, 4, 0, 6],\n",
      "       [4, 4, 3, 5],\n",
      "       [3, 8, 9, 4]]), array([[0, 1, 0, 8],\n",
      "       [3, 7, 3, 6],\n",
      "       [3, 9, 6, 6]]), array([[4, 2, 7, 5],\n",
      "       [2, 0, 4, 6],\n",
      "       [5, 5, 1, 6]])] <class 'list'> (3, 4)\n"
     ]
    }
   ],
   "source": [
    "arrays = [np.random.randint(0,10,(3,4)) for _ in  range(10)]\n",
    "print(arrays, type(arrays), arrays[0].shape)"
   ]
  },
  {
   "cell_type": "code",
   "execution_count": 82,
   "metadata": {},
   "outputs": [
    {
     "name": "stdout",
     "output_type": "stream",
     "text": [
      "[[[1 6 8 5]\n",
      "  [4 9 5 3]\n",
      "  [1 3 4 5]]\n",
      "\n",
      " [[9 8 7 7]\n",
      "  [5 4 6 3]\n",
      "  [0 0 3 2]]\n",
      "\n",
      " [[8 7 2 2]\n",
      "  [8 9 2 5]\n",
      "  [2 3 7 0]]\n",
      "\n",
      " [[7 8 2 1]\n",
      "  [8 2 4 0]\n",
      "  [7 2 5 2]]\n",
      "\n",
      " [[0 1 9 3]\n",
      "  [6 5 7 7]\n",
      "  [0 8 5 0]]\n",
      "\n",
      " [[6 3 3 2]\n",
      "  [4 3 9 7]\n",
      "  [0 5 0 3]]\n",
      "\n",
      " [[0 4 6 1]\n",
      "  [5 7 2 0]\n",
      "  [0 0 1 9]]\n",
      "\n",
      " [[1 4 0 6]\n",
      "  [4 4 3 5]\n",
      "  [3 8 9 4]]\n",
      "\n",
      " [[0 1 0 8]\n",
      "  [3 7 3 6]\n",
      "  [3 9 6 6]]\n",
      "\n",
      " [[4 2 7 5]\n",
      "  [2 0 4 6]\n",
      "  [5 5 1 6]]] (10, 3, 4)\n"
     ]
    }
   ],
   "source": [
    "arrays0 = np.stack(arrays, axis=0)\n",
    "print(arrays0, arrays0.shape)"
   ]
  },
  {
   "cell_type": "code",
   "execution_count": 83,
   "metadata": {},
   "outputs": [
    {
     "name": "stdout",
     "output_type": "stream",
     "text": [
      "[[[1 6 8 5]\n",
      "  [9 8 7 7]\n",
      "  [8 7 2 2]\n",
      "  [7 8 2 1]\n",
      "  [0 1 9 3]\n",
      "  [6 3 3 2]\n",
      "  [0 4 6 1]\n",
      "  [1 4 0 6]\n",
      "  [0 1 0 8]\n",
      "  [4 2 7 5]]\n",
      "\n",
      " [[4 9 5 3]\n",
      "  [5 4 6 3]\n",
      "  [8 9 2 5]\n",
      "  [8 2 4 0]\n",
      "  [6 5 7 7]\n",
      "  [4 3 9 7]\n",
      "  [5 7 2 0]\n",
      "  [4 4 3 5]\n",
      "  [3 7 3 6]\n",
      "  [2 0 4 6]]\n",
      "\n",
      " [[1 3 4 5]\n",
      "  [0 0 3 2]\n",
      "  [2 3 7 0]\n",
      "  [7 2 5 2]\n",
      "  [0 8 5 0]\n",
      "  [0 5 0 3]\n",
      "  [0 0 1 9]\n",
      "  [3 8 9 4]\n",
      "  [3 9 6 6]\n",
      "  [5 5 1 6]]] (3, 10, 4)\n"
     ]
    }
   ],
   "source": [
    "arrays1 = np.stack(arrays, axis=1)\n",
    "print(arrays1, arrays1.shape)"
   ]
  },
  {
   "cell_type": "markdown",
   "metadata": {},
   "source": [
    "## np.ufunc.at\n",
    "\n",
    "Performs unbuffered in place operation on operand 'a' for elements specified by 'indices'"
   ]
  },
  {
   "cell_type": "code",
   "execution_count": 88,
   "metadata": {},
   "outputs": [
    {
     "name": "stdout",
     "output_type": "stream",
     "text": [
      "[1 2 3]\n"
     ]
    }
   ],
   "source": [
    "a = np.array([1,2,3])\n",
    "print(a)"
   ]
  },
  {
   "cell_type": "code",
   "execution_count": 89,
   "metadata": {},
   "outputs": [
    {
     "name": "stdout",
     "output_type": "stream",
     "text": [
      "[2 3 4]\n"
     ]
    }
   ],
   "source": [
    "np.add.at(a, [0,1,2], 1)\n",
    "print(a)"
   ]
  },
  {
   "cell_type": "code",
   "execution_count": 90,
   "metadata": {},
   "outputs": [
    {
     "name": "stdout",
     "output_type": "stream",
     "text": [
      "[ 20  60 120]\n"
     ]
    }
   ],
   "source": [
    "b = np.array([10,20,30])\n",
    "np.multiply.at(a, [0,1,2], b)\n",
    "print(a)"
   ]
  },
  {
   "cell_type": "code",
   "execution_count": 91,
   "metadata": {},
   "outputs": [
    {
     "name": "stdout",
     "output_type": "stream",
     "text": [
      "[ 21  62 122]\n"
     ]
    }
   ],
   "source": [
    "np.add.at(a, [0,1,2,1,2], 1)\n",
    "print(a)"
   ]
  },
  {
   "cell_type": "code",
   "execution_count": 97,
   "metadata": {},
   "outputs": [
    {
     "name": "stdout",
     "output_type": "stream",
     "text": [
      "[[[1 6 8 5]\n",
      "  [4 9 5 3]\n",
      "  [1 3 4 5]]\n",
      "\n",
      " [[9 8 7 7]\n",
      "  [5 4 6 3]\n",
      "  [0 0 3 2]]\n",
      "\n",
      " [[8 7 2 2]\n",
      "  [8 9 2 5]\n",
      "  [2 3 7 0]]\n",
      "\n",
      " [[7 8 2 1]\n",
      "  [8 2 4 0]\n",
      "  [7 2 5 2]]\n",
      "\n",
      " [[0 1 9 3]\n",
      "  [6 5 7 7]\n",
      "  [0 8 5 0]]\n",
      "\n",
      " [[6 3 3 2]\n",
      "  [4 3 9 7]\n",
      "  [0 5 0 3]]\n",
      "\n",
      " [[0 4 6 1]\n",
      "  [5 7 2 0]\n",
      "  [0 0 1 9]]\n",
      "\n",
      " [[1 4 0 6]\n",
      "  [4 4 3 5]\n",
      "  [3 8 9 4]]\n",
      "\n",
      " [[0 1 0 8]\n",
      "  [3 7 3 6]\n",
      "  [3 9 6 6]]\n",
      "\n",
      " [[4 2 7 5]\n",
      "  [2 0 4 6]\n",
      "  [5 5 1 6]]] (10, 3, 4)\n"
     ]
    }
   ],
   "source": [
    "print(arrays0, arrays0.shape)"
   ]
  },
  {
   "cell_type": "code",
   "execution_count": 135,
   "metadata": {},
   "outputs": [
    {
     "name": "stdout",
     "output_type": "stream",
     "text": [
      "[[[ 1 -6 -8  5]\n",
      "  [ 4 -9 -5  3]\n",
      "  [ 1 -3 -4  5]]\n",
      "\n",
      " [[ 9 -8 -7  7]\n",
      "  [ 5 -4 -6  3]\n",
      "  [ 0  0 -3  2]]\n",
      "\n",
      " [[ 8 -7 -2  2]\n",
      "  [ 8 -9 -2  5]\n",
      "  [ 2 -3 -7  0]]\n",
      "\n",
      " [[ 7 -8 -2  1]\n",
      "  [ 8 -2 -4  0]\n",
      "  [ 7 -2 -5  2]]\n",
      "\n",
      " [[ 0 -1 -9  3]\n",
      "  [ 6 -5 -7  7]\n",
      "  [ 0 -8 -5  0]]\n",
      "\n",
      " [[ 6 -3 -3  2]\n",
      "  [ 4 -3 -9  7]\n",
      "  [ 0 -5  0  3]]\n",
      "\n",
      " [[ 0 -4 -6  1]\n",
      "  [ 5 -7 -2  0]\n",
      "  [ 0  0 -1  9]]\n",
      "\n",
      " [[ 1 -4  0  6]\n",
      "  [ 4 -4 -3  5]\n",
      "  [ 3 -8 -9  4]]\n",
      "\n",
      " [[ 0 -1  0  8]\n",
      "  [ 3 -7 -3  6]\n",
      "  [ 3 -9 -6  6]]\n",
      "\n",
      " [[ 4 -2 -7  5]\n",
      "  [ 2  0 -4  6]\n",
      "  [ 5 -5 -1  6]]]\n"
     ]
    },
    {
     "name": "stderr",
     "output_type": "stream",
     "text": [
      "/anaconda3/lib/python3.7/site-packages/ipykernel_launcher.py:1: FutureWarning: Using a non-tuple sequence for multidimensional indexing is deprecated; use `arr[tuple(seq)]` instead of `arr[seq]`. In the future this will be interpreted as an array index, `arr[np.array(seq)]`, which will result either in an error or a different result.\n",
      "  \"\"\"Entry point for launching an IPython kernel.\n"
     ]
    }
   ],
   "source": [
    "np.negative.at(arrays0, [slice(None), slice(None), [1,2]])\n",
    "#arrays0[:,1,1:3]\n",
    "print(arrays0)"
   ]
  },
  {
   "cell_type": "markdown",
   "metadata": {},
   "source": [
    "## np.s_ \n",
    "\n",
    "A nicer way to build up index tuples for arrays"
   ]
  },
  {
   "cell_type": "code",
   "execution_count": 142,
   "metadata": {},
   "outputs": [
    {
     "name": "stdout",
     "output_type": "stream",
     "text": [
      "[[[ 1  6  8  5]\n",
      "  [-4 -9 -5 -3]\n",
      "  [-1 -3 -4 -5]]\n",
      "\n",
      " [[ 9  8  7  7]\n",
      "  [-5 -4 -6 -3]\n",
      "  [ 0  0 -3 -2]]\n",
      "\n",
      " [[ 8  7  2  2]\n",
      "  [-8 -9 -2 -5]\n",
      "  [-2 -3 -7  0]]\n",
      "\n",
      " [[ 7  8  2  1]\n",
      "  [-8 -2 -4  0]\n",
      "  [-7 -2 -5 -2]]\n",
      "\n",
      " [[ 0  1  9  3]\n",
      "  [-6 -5 -7 -7]\n",
      "  [ 0 -8 -5  0]]\n",
      "\n",
      " [[ 6  3  3  2]\n",
      "  [-4 -3 -9 -7]\n",
      "  [ 0 -5  0 -3]]\n",
      "\n",
      " [[ 0  4  6  1]\n",
      "  [-5 -7 -2  0]\n",
      "  [ 0  0 -1 -9]]\n",
      "\n",
      " [[ 1  4  0  6]\n",
      "  [-4 -4 -3 -5]\n",
      "  [-3 -8 -9 -4]]\n",
      "\n",
      " [[ 0  1  0  8]\n",
      "  [-3 -7 -3 -6]\n",
      "  [-3 -9 -6 -6]]\n",
      "\n",
      " [[ 4  2  7  5]\n",
      "  [-2  0 -4 -6]\n",
      "  [-5 -5 -1 -6]]]\n"
     ]
    }
   ],
   "source": [
    "np.negative.at(arrays0, np.s_[:,1:,:])\n",
    "print(arrays0)"
   ]
  },
  {
   "cell_type": "code",
   "execution_count": null,
   "metadata": {},
   "outputs": [],
   "source": []
  }
 ],
 "metadata": {
  "kernelspec": {
   "display_name": "Python 3",
   "language": "python",
   "name": "python3"
  },
  "language_info": {
   "codemirror_mode": {
    "name": "ipython",
    "version": 3
   },
   "file_extension": ".py",
   "mimetype": "text/x-python",
   "name": "python",
   "nbconvert_exporter": "python",
   "pygments_lexer": "ipython3",
   "version": "3.7.1"
  }
 },
 "nbformat": 4,
 "nbformat_minor": 2
}
