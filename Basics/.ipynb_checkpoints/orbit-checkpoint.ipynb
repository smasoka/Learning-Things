{
 "cells": [
  {
   "cell_type": "markdown",
   "metadata": {},
   "source": [
    "\"\"\" Write a program which simulates the flight of a cannonball.\n",
    " The cannonball is fired at a 45 degree angle, at an initial speed of 50m/s. Ignore air-resistance, but take gravity into account. Write to file the height and ground-distance travelled (x and y-coordinates) of the cannonball every 0.1 seconds.\n",
    " Stop the simulation when the cannonball hits the ground (height = 0\"\"\""
   ]
  },
  {
   "cell_type": "code",
   "execution_count": 1,
   "metadata": {},
   "outputs": [],
   "source": [
    "import math\n",
    "import numpy as np\n",
    "import matplotlib.pyplot as plt\n",
    "import matplotlib.animation as animation"
   ]
  },
  {
   "cell_type": "markdown",
   "metadata": {},
   "source": [
    "New Velocity"
   ]
  },
  {
   "cell_type": "code",
   "execution_count": 2,
   "metadata": {},
   "outputs": [],
   "source": [
    "def newvel(x,y,vx,vy):\n",
    "    ax = -x/math.sqrt(x*x+y*y)*G*m1*m2/(x*x+y*y)\n",
    "    ay = -y/math.sqrt(x*x+y*y)*G*m1*m2/(x*x+y*y)\n",
    "    return [vx+dt*ax,vy+dt*ay]"
   ]
  },
  {
   "cell_type": "markdown",
   "metadata": {},
   "source": [
    "New Position"
   ]
  },
  {
   "cell_type": "code",
   "execution_count": 3,
   "metadata": {},
   "outputs": [],
   "source": [
    "def newposition(oldx,oldy,vx,vy):\n",
    "    newx = oldx+vx*dt\n",
    "    newy = oldy+vy*dt\n",
    "    return [newx,newy]"
   ]
  },
  {
   "cell_type": "markdown",
   "metadata": {},
   "source": [
    "Animations"
   ]
  },
  {
   "cell_type": "code",
   "execution_count": 4,
   "metadata": {},
   "outputs": [],
   "source": [
    "def animate(i):\n",
    "    global x,y,vx,vy,t,timedata\n",
    "    lineearth.set_xdata(earthx)  # update the data\n",
    "    lineearth.set_ydata(earthy)  # update the data\n",
    "    timedata.append(t)\n",
    "    [vx,vy]=newvel(x,y,vx,vy)\n",
    "    [x,y]=newposition(x,y,vx,vy)\n",
    "    t+=dt\n",
    "    line1.set_xdata(x)  # update the data\n",
    "    line1.set_ydata(y)  # update the data\n",
    "    return line1,"
   ]
  },
  {
   "cell_type": "markdown",
   "metadata": {},
   "source": [
    "Variables"
   ]
  },
  {
   "cell_type": "code",
   "execution_count": 5,
   "metadata": {},
   "outputs": [],
   "source": [
    "x = 0.0 # distance from cannon\n",
    "y = 0.0 # height above ground\n",
    "dt = 1.0 #time-step size\n",
    "#theta = math.pi/4 #45 degrees in radians\n",
    "G = 6.67e-11# gravitational accelleration\n",
    "m1 = 1000 #satelite mass\n",
    "m2 = 6.0e24 # mass of the earth"
   ]
  },
  {
   "cell_type": "code",
   "execution_count": 7,
   "metadata": {},
   "outputs": [],
   "source": [
    "t = 0\n",
    "x = 0.0\n",
    "y = 9000000\n",
    "vx = 240000.0\n",
    "vy = 0.0\n",
    "timedata= []"
   ]
  },
  {
   "cell_type": "code",
   "execution_count": 10,
   "metadata": {},
   "outputs": [
    {
     "data": {
      "image/png": "[encoded data removed]",
      "text/plain": [
       "<Figure size 432x288 with 1 Axes>"
      ]
     },
     "metadata": {
      "needs_background": "light"
     },
     "output_type": "display_data"
    }
   ],
   "source": [
    "fig, axis = plt.subplots()\n",
    "axis.autoscale_on=True\n",
    "#line1, = axis.plot(x, y,\"r*\")\n",
    "line1, = axis.plot([0,2.0e7,2.0e7,-2.0e7,-2.0e7], [0,2.0e7,2.0e7,-2.0e7,-2.0e7],\"r*\")\n",
    "#line2, = axis.plot(x, y,\"y\")\n",
    "deg = np.arange(361)\n",
    "earthx=6500e3*np.sin(deg*np.pi/180.0)\n",
    "earthy=6500e3*np.cos(deg*np.pi/180.0)\n",
    "#lineearth, = axis.plot([0,1.0e10,1.0e10,-1.0e10,-1.0e10], [0,1.0e10,1.0e10,-1.0e10,-1.0e10],\"b\")\n",
    "lineearth, = axis.plot(earthx,earthy,\"b\")\n",
    "\n",
    "# Init only required for blitting to give a clean slate.\n",
    "def init():\n",
    "    line1.set_xdata(np.ma.array(x, mask=True))\n",
    "    line1.set_ydata(np.ma.array(y, mask=True))\n",
    "    return line1,\n",
    "\n",
    "ani = animation.FuncAnimation(fig, animate, np.arange(1, 20000), init_func=init,\n",
    "                              interval=50, blit=True)\n",
    "plt.show()"
   ]
  },
  {
   "cell_type": "code",
   "execution_count": 9,
   "metadata": {},
   "outputs": [],
   "source": [
    "# Init only required for blitting to give a clean slate.\n",
    "def init():\n",
    "    line1.set_xdata(np.ma.array(x, mask=True))\n",
    "    line1.set_ydata(np.ma.array(y, mask=True))\n",
    "    return line1,\n",
    "\n",
    "ani = animation.FuncAnimation(fig, animate, np.arange(1, 20000), init_func=init,\n",
    "                              interval=50, blit=True)\n",
    "plt.show()"
   ]
  },
  {
   "cell_type": "code",
   "execution_count": null,
   "metadata": {},
   "outputs": [],
   "source": []
  }
 ],
 "metadata": {
  "kernelspec": {
   "display_name": "Python 3",
   "language": "python",
   "name": "python3"
  },
  "language_info": {
   "codemirror_mode": {
    "name": "ipython",
    "version": 3
   },
   "file_extension": ".py",
   "mimetype": "text/x-python",
   "name": "python",
   "nbconvert_exporter": "python",
   "pygments_lexer": "ipython3",
   "version": "3.6.6"
  }
 },
 "nbformat": 4,
 "nbformat_minor": 2
}
