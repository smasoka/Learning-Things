{
 "cells": [
  {
   "cell_type": "markdown",
   "metadata": {},
   "source": [
    "# Finance with Python"
   ]
  },
  {
   "cell_type": "markdown",
   "metadata": {},
   "source": [
    "$$ A = P * ( 1 + r)^t $$\n",
    "\n",
    "A = Value of Investment in the future <br/>\n",
    "P = Principal/Initial Investment<br/>\n",
    "t = Time in years<br/>"
   ]
  },
  {
   "cell_type": "code",
   "execution_count": 14,
   "metadata": {},
   "outputs": [
    {
     "name": "stdout",
     "output_type": "stream",
     "text": [
      "10500.0\n",
      "11025.0\n",
      "11576.25\n",
      "12155.0625\n",
      "12762.815625000001\n",
      "13400.956406250001\n",
      "14071.004226562502\n",
      "14774.554437890627\n",
      "15513.28215978516\n",
      "16288.946267774418\n",
      "17103.393581163138\n",
      "17958.563260221297\n",
      "18856.491423232364\n",
      "19799.315994393983\n",
      "20789.281794113682\n",
      "21828.745883819367\n",
      "22920.183178010335\n",
      "24066.19233691085\n",
      "25269.501953756397\n",
      "26532.977051444217\n"
     ]
    }
   ],
   "source": [
    "# R100\n",
    "# 5%\n",
    "# 5 years\n",
    "\n",
    "p = 10000\n",
    "r = .05\n",
    "A = p\n",
    "for t in range(20):\n",
    "    A = A*(1+r)\n",
    "    print(A)"
   ]
  },
  {
   "cell_type": "code",
   "execution_count": 15,
   "metadata": {},
   "outputs": [
    {
     "name": "stdout",
     "output_type": "stream",
     "text": [
      "500.0\n",
      "525.0\n",
      "551.25\n",
      "578.8125\n",
      "607.7531250000011\n",
      "638.1407812500001\n",
      "670.0478203125003\n",
      "703.5502113281254\n",
      "738.7277218945328\n",
      "775.6641079892579\n",
      "814.4473133887204\n",
      "855.1696790581591\n",
      "897.9281630110672\n",
      "942.8245711616182\n",
      "989.9657997196991\n",
      "1039.4640897056852\n",
      "1091.4372941909678\n",
      "1146.009158900517\n",
      "1203.309616845545\n",
      "1263.4750976878204\n"
     ]
    }
   ],
   "source": [
    "# How much does the interest increases by each year?\n",
    "p = 10000\n",
    "r = .05\n",
    "A = p\n",
    "for t in range(20):\n",
    "    last = A\n",
    "    A = A*(1+r)\n",
    "    print(A - last)"
   ]
  },
  {
   "cell_type": "markdown",
   "metadata": {},
   "source": [
    "\n",
    "The interest grows with our investment. THis is compounding interest. "
   ]
  },
  {
   "cell_type": "code",
   "execution_count": 5,
   "metadata": {},
   "outputs": [
    {
     "name": "stdout",
     "output_type": "stream",
     "text": [
      "127.62815625000003\n"
     ]
    }
   ],
   "source": [
    "def compoundInterest(p,r,t):\n",
    "    return p*(1+r)**t\n",
    "print(compoundInterest(100,.05,5))"
   ]
  },
  {
   "cell_type": "code",
   "execution_count": 6,
   "metadata": {},
   "outputs": [
    {
     "name": "stdout",
     "output_type": "stream",
     "text": [
      "[0, 1, 2, 3, 4, 5, 6, 7, 8, 9]\n"
     ]
    }
   ],
   "source": [
    "t = list(range(10))\n",
    "print(t)"
   ]
  },
  {
   "cell_type": "code",
   "execution_count": 7,
   "metadata": {},
   "outputs": [
    {
     "name": "stdout",
     "output_type": "stream",
     "text": [
      "[10000.0, 10800.0, 11664.000000000002, 12597.12, 13604.889600000002, 14693.280768000006, 15868.743229440006, 17138.24268779521, 18509.302102818827, 19990.04627104433]\n"
     ]
    }
   ],
   "source": [
    "r = .08\n",
    "P = 10000\n",
    "A = [compoundInterest(P,r,x) for x in t]\n",
    "print(A)"
   ]
  },
  {
   "cell_type": "code",
   "execution_count": 8,
   "metadata": {},
   "outputs": [
    {
     "data": {
      "image/png": "[encoded data removed]",
      "text/plain": [
       "<Figure size 432x288 with 1 Axes>"
      ]
     },
     "metadata": {
      "needs_background": "light"
     },
     "output_type": "display_data"
    }
   ],
   "source": [
    "%matplotlib inline\n",
    "import matplotlib.pyplot as plt\n",
    "\n",
    "plt.plot(t,A)\n",
    "plt.xlabel(\"t\")\n",
    "plt.ylabel(\"Value\")\n",
    "plt.title(\"Compound Interest\")\n",
    "plt.show()"
   ]
  },
  {
   "cell_type": "code",
   "execution_count": null,
   "metadata": {},
   "outputs": [],
   "source": []
  }
 ],
 "metadata": {
  "kernelspec": {
   "display_name": "Python 3",
   "language": "python",
   "name": "python3"
  },
  "language_info": {
   "codemirror_mode": {
    "name": "ipython",
    "version": 3
   },
   "file_extension": ".py",
   "mimetype": "text/x-python",
   "name": "python",
   "nbconvert_exporter": "python",
   "pygments_lexer": "ipython3",
   "version": "3.7.1"
  }
 },
 "nbformat": 4,
 "nbformat_minor": 2
}
