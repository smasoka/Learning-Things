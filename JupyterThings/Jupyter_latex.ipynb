{
 "cells": [
  {
   "cell_type": "markdown",
   "metadata": {},
   "source": [
    "## Mathematical Python\n",
    "\n",
    "### https://www.math.ubc.ca/~pwalls/math-python/jupyter/latex/"
   ]
  },
  {
   "cell_type": "markdown",
   "metadata": {},
   "source": [
    "Jupyter notebboks recognizes LaTeX code in markdown cells and renders the symbols in the browser using the MathJax JavaScript library"
   ]
  },
  {
   "cell_type": "markdown",
   "metadata": {},
   "source": [
    "This is a mtrix without brackets: \n",
    "```\n",
    "$$\\begin{matrix} a & b \\\\ c & d \\end{matrix}$$\n",
    "```  \n",
    "$$\\begin{matrix} a & b \\\\ c & d \\end{matrix}$$"
   ]
  },
  {
   "cell_type": "markdown",
   "metadata": {},
   "source": [
    "This is a matrix with round brackets: \n",
    "```\n",
    "$$\\begin{pmatrix} a & b \\\\ c & d \\end{pmatrix}$$\n",
    "``` \n",
    "$$\\begin{pmatrix} a & b \\\\ c & d \\end{pmatrix}$$"
   ]
  },
  {
   "cell_type": "markdown",
   "metadata": {},
   "source": [
    "This is a matrix with square brackets: \n",
    "```\n",
    "$$\\begin{bmatrix} 1 & 2 & -1 \\\\ 3 & 0 & 1 \\\\ 0 & 2 & 4 \\end{bmatrix}$$\n",
    "``` \n",
    "$$\\begin{bmatrix} 1 & 2 & -1 \\\\ 3 & 0 & 1 \\\\ 0 & 2 & 4 \\end{bmatrix}$$"
   ]
  },
  {
   "cell_type": "markdown",
   "metadata": {},
   "source": [
    "Fractions: \n",
    "```\n",
    "$$\\frac{p}{q}$$\n",
    "``` \n",
    "$$\\frac{p}{q}$$ \n",
    "Enclosed Fractions : \n",
    "```\n",
    "$$\\left( \\frac{p}{q} \\right)$$\n",
    "``` \n",
    "$$\\left( \\frac{p}{q} \\right)$$"
   ]
  },
  {
   "cell_type": "markdown",
   "metadata": {},
   "source": [
    "#### Derivative"
   ]
  },
  {
   "cell_type": "markdown",
   "metadata": {},
   "source": [
    "The derivative of f'(a) of the function f(x) at the point x = a is the limit\n",
    "```\n",
    "$$f'(a) = \\lim_{x \\to a} \\frac{f(x) - f(a)}{x - a}$$\n",
    "```\n",
    "$$f'(a) = \\lim_{x \\to a} \\frac{f(x) - f(a)}{x - a}$$"
   ]
  },
  {
   "cell_type": "markdown",
   "metadata": {},
   "source": [
    "#### Continuity"
   ]
  },
  {
   "cell_type": "markdown",
   "metadata": {},
   "source": [
    "A function f(x) is continuous at a point x = a if <br/>\n",
    "```\n",
    "$$\\lim_{x \\to a^-} f(x) = f(a) = \\lim_{x \\to a^+} f(x)$$\n",
    "```\n",
    "$$\\lim_{x \\to a^-} f(x) = f(a) = \\lim_{x \\to a^+} f(x)$$"
   ]
  },
  {
   "cell_type": "markdown",
   "metadata": {},
   "source": [
    "#### MacLaurin Series"
   ]
  },
  {
   "cell_type": "markdown",
   "metadata": {},
   "source": [
    "The MacLaurin series for $e^x$ is <br/>\n",
    "\n",
    "```\n",
    "$$e^x = \\sum_{k=0}^{\\infty} \\frac{x^k}{k!}$$\n",
    "```\n",
    "$$e^x = \\sum_{k=0}^{\\infty} \\frac{x^k}{k!}$$"
   ]
  },
  {
   "cell_type": "markdown",
   "metadata": {},
   "source": [
    "#### Indefinite Integral"
   ]
  },
  {
   "cell_type": "markdown",
   "metadata": {},
   "source": [
    "Indefinite Integral exercise\n",
    "```\n",
    "$$\\int \\frac{1}{1 + x^2}dx = \\arctan x + C$$\n",
    "```\n",
    "$$\\int \\frac{1}{1 + x^2}dx = \\arctan x + C$$"
   ]
  },
  {
   "cell_type": "code",
   "execution_count": null,
   "metadata": {},
   "outputs": [],
   "source": []
  }
 ],
 "metadata": {
  "kernelspec": {
   "display_name": "Python 3",
   "language": "python",
   "name": "python3"
  },
  "language_info": {
   "codemirror_mode": {
    "name": "ipython",
    "version": 3
   },
   "file_extension": ".py",
   "mimetype": "text/x-python",
   "name": "python",
   "nbconvert_exporter": "python",
   "pygments_lexer": "ipython3",
   "version": "3.6.5"
  }
 },
 "nbformat": 4,
 "nbformat_minor": 2
}
