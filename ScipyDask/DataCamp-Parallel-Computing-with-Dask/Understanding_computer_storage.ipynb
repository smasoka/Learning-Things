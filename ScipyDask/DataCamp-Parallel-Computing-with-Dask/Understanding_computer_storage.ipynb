{
 "cells": [
  {
   "cell_type": "code",
   "execution_count": 64,
   "metadata": {},
   "outputs": [],
   "source": [
    "import psutil, os\n",
    "import numpy as np\n",
    "import pandas as pd\n",
    "import matplotlib.pyplot as plt"
   ]
  },
  {
   "cell_type": "markdown",
   "metadata": {},
   "source": [
    "### Memory Usage"
   ]
  },
  {
   "cell_type": "markdown",
   "metadata": {},
   "source": [
    "Memory function that returns memory being used by a Python Process"
   ]
  },
  {
   "cell_type": "code",
   "execution_count": 3,
   "metadata": {},
   "outputs": [],
   "source": [
    "def memory_footprint():\n",
    "    '''Returns memory (in MB) being used by Python process'''\n",
    "    mem = psutil.Process(os.getpid()).memory_info().rss\n",
    "    return (mem / 1024 ** 2)"
   ]
  },
  {
   "cell_type": "code",
   "execution_count": 4,
   "metadata": {},
   "outputs": [],
   "source": [
    "before = memory_footprint()"
   ]
  },
  {
   "cell_type": "code",
   "execution_count": 6,
   "metadata": {},
   "outputs": [],
   "source": [
    "N = (1024 ** 2) // 8 # Number of floats that fill 1 MB\n",
    "x = np.random.randn(50*N) # Random array filling 50 MB"
   ]
  },
  {
   "cell_type": "code",
   "execution_count": 7,
   "metadata": {},
   "outputs": [],
   "source": [
    "after = memory_footprint()"
   ]
  },
  {
   "cell_type": "code",
   "execution_count": 8,
   "metadata": {},
   "outputs": [
    {
     "name": "stdout",
     "output_type": "stream",
     "text": [
      "Memory before: 61.86328125 MB\n"
     ]
    }
   ],
   "source": [
    "print('Memory before: {} MB'.format(before))"
   ]
  },
  {
   "cell_type": "code",
   "execution_count": 9,
   "metadata": {},
   "outputs": [
    {
     "name": "stdout",
     "output_type": "stream",
     "text": [
      "Memory after: 112.5625 MB\n"
     ]
    }
   ],
   "source": [
    "print('Memory after: {} MB'.format(after))"
   ]
  },
  {
   "cell_type": "code",
   "execution_count": 10,
   "metadata": {},
   "outputs": [],
   "source": [
    "before = memory_footprint()"
   ]
  },
  {
   "cell_type": "code",
   "execution_count": 11,
   "metadata": {},
   "outputs": [
    {
     "data": {
      "text/plain": [
       "array([0.33918565, 0.03886872, 0.23503756, ..., 0.19850324, 0.03636918,\n",
       "       0.24840848])"
      ]
     },
     "execution_count": 11,
     "metadata": {},
     "output_type": "execute_result"
    }
   ],
   "source": [
    "x ** 2 # Computes, but doesn't bind results to a variable"
   ]
  },
  {
   "cell_type": "code",
   "execution_count": 12,
   "metadata": {},
   "outputs": [],
   "source": [
    "after = memory_footprint()"
   ]
  },
  {
   "cell_type": "code",
   "execution_count": 13,
   "metadata": {},
   "outputs": [
    {
     "name": "stdout",
     "output_type": "stream",
     "text": [
      "Extra memory obtained: 50.296875 MB\n"
     ]
    }
   ],
   "source": [
    "print('Extra memory obtained: {} MB'.format(after - before))"
   ]
  },
  {
   "cell_type": "code",
   "execution_count": 14,
   "metadata": {},
   "outputs": [
    {
     "data": {
      "text/plain": [
       "52428800"
      ]
     },
     "execution_count": 14,
     "metadata": {},
     "output_type": "execute_result"
    }
   ],
   "source": [
    "x.nbytes"
   ]
  },
  {
   "cell_type": "code",
   "execution_count": 15,
   "metadata": {},
   "outputs": [
    {
     "data": {
      "text/plain": [
       "50"
      ]
     },
     "execution_count": 15,
     "metadata": {},
     "output_type": "execute_result"
    }
   ],
   "source": [
    "x.nbytes // (1024 ** 2)"
   ]
  },
  {
   "cell_type": "code",
   "execution_count": 17,
   "metadata": {},
   "outputs": [],
   "source": [
    "df = pd.DataFrame(x)"
   ]
  },
  {
   "cell_type": "code",
   "execution_count": 18,
   "metadata": {},
   "outputs": [
    {
     "data": {
      "text/plain": [
       "0    52428800\n",
       "dtype: int64"
      ]
     },
     "execution_count": 18,
     "metadata": {},
     "output_type": "execute_result"
    }
   ],
   "source": [
    "df.memory_usage(index=False)"
   ]
  },
  {
   "cell_type": "code",
   "execution_count": 20,
   "metadata": {},
   "outputs": [
    {
     "data": {
      "text/plain": [
       "0    50\n",
       "dtype: int64"
      ]
     },
     "execution_count": 20,
     "metadata": {},
     "output_type": "execute_result"
    }
   ],
   "source": [
    "df.memory_usage(index=False) // (1024 ** 2)"
   ]
  },
  {
   "cell_type": "markdown",
   "metadata": {},
   "source": [
    "### Data in Chunks"
   ]
  },
  {
   "cell_type": "code",
   "execution_count": 23,
   "metadata": {},
   "outputs": [],
   "source": [
    "dfs = []"
   ]
  },
  {
   "cell_type": "code",
   "execution_count": 53,
   "metadata": {},
   "outputs": [],
   "source": [
    "for chunk in pd.read_csv('WDIData.csv', chunksize=1000):\n",
    "    is_urban = chunk['Indicator Name'] == 'Urban population (% of tatal)'\n",
    "    is_AUS = chunk['Country Code'] == 'AUS'\n",
    "    filtered = chunk.loc[is_AUS & is_urban]\n",
    "    dfs.append(filtered)"
   ]
  },
  {
   "cell_type": "code",
   "execution_count": 67,
   "metadata": {},
   "outputs": [
    {
     "data": {
      "text/plain": [
       "1692"
      ]
     },
     "execution_count": 67,
     "metadata": {},
     "output_type": "execute_result"
    }
   ],
   "source": [
    "len(dfs)"
   ]
  },
  {
   "cell_type": "code",
   "execution_count": 68,
   "metadata": {},
   "outputs": [
    {
     "name": "stdout",
     "output_type": "stream",
     "text": [
      "      Country Name Country Code  \\\n",
      "91143    Australia          AUS   \n",
      "91144    Australia          AUS   \n",
      "91145    Australia          AUS   \n",
      "91146    Australia          AUS   \n",
      "91147    Australia          AUS   \n",
      "91148    Australia          AUS   \n",
      "91149    Australia          AUS   \n",
      "91150    Australia          AUS   \n",
      "91151    Australia          AUS   \n",
      "91152    Australia          AUS   \n",
      "91153    Australia          AUS   \n",
      "91154    Australia          AUS   \n",
      "91155    Australia          AUS   \n",
      "91156    Australia          AUS   \n",
      "91157    Australia          AUS   \n",
      "91158    Australia          AUS   \n",
      "91159    Australia          AUS   \n",
      "91160    Australia          AUS   \n",
      "91161    Australia          AUS   \n",
      "91162    Australia          AUS   \n",
      "91163    Australia          AUS   \n",
      "91164    Australia          AUS   \n",
      "91165    Australia          AUS   \n",
      "91166    Australia          AUS   \n",
      "91167    Australia          AUS   \n",
      "91168    Australia          AUS   \n",
      "91169    Australia          AUS   \n",
      "91170    Australia          AUS   \n",
      "91171    Australia          AUS   \n",
      "91172    Australia          AUS   \n",
      "...            ...          ...   \n",
      "92712    Australia          AUS   \n",
      "92713    Australia          AUS   \n",
      "92714    Australia          AUS   \n",
      "92715    Australia          AUS   \n",
      "92716    Australia          AUS   \n",
      "92717    Australia          AUS   \n",
      "92718    Australia          AUS   \n",
      "92719    Australia          AUS   \n",
      "92720    Australia          AUS   \n",
      "92721    Australia          AUS   \n",
      "92722    Australia          AUS   \n",
      "92723    Australia          AUS   \n",
      "92724    Australia          AUS   \n",
      "92725    Australia          AUS   \n",
      "92726    Australia          AUS   \n",
      "92727    Australia          AUS   \n",
      "92728    Australia          AUS   \n",
      "92729    Australia          AUS   \n",
      "92730    Australia          AUS   \n",
      "92731    Australia          AUS   \n",
      "92732    Australia          AUS   \n",
      "92733    Australia          AUS   \n",
      "92734    Australia          AUS   \n",
      "92735    Australia          AUS   \n",
      "92736    Australia          AUS   \n",
      "92737    Australia          AUS   \n",
      "92738    Australia          AUS   \n",
      "92739    Australia          AUS   \n",
      "92740    Australia          AUS   \n",
      "92741    Australia          AUS   \n",
      "\n",
      "                                          Indicator Name  \\\n",
      "91143  2005 PPP conversion factor, GDP (LCU per inter...   \n",
      "91144  2005 PPP conversion factor, private consumptio...   \n",
      "91145  Access to clean fuels and technologies for coo...   \n",
      "91146            Access to electricity (% of population)   \n",
      "91147  Access to electricity, rural (% of rural popul...   \n",
      "91148  Access to electricity, urban (% of urban popul...   \n",
      "91149  Account ownership at a financial institution o...   \n",
      "91150  Account ownership at a financial institution o...   \n",
      "91151  Account ownership at a financial institution o...   \n",
      "91152  Account ownership at a financial institution o...   \n",
      "91153  Account ownership at a financial institution o...   \n",
      "91154  Account ownership at a financial institution o...   \n",
      "91155  Account ownership at a financial institution o...   \n",
      "91156  Account ownership at a financial institution o...   \n",
      "91157  Account ownership at a financial institution o...   \n",
      "91158  Adequacy of social insurance programs (% of to...   \n",
      "91159  Adequacy of social protection and labor progra...   \n",
      "91160  Adequacy of social safety net programs (% of t...   \n",
      "91161  Adequacy of unemployment benefits and ALMP (% ...   \n",
      "91162  Adjusted net enrollment rate, primary (% of pr...   \n",
      "91163  Adjusted net enrollment rate, primary, female ...   \n",
      "91164  Adjusted net enrollment rate, primary, male (%...   \n",
      "91165     Adjusted net national income (annual % growth)   \n",
      "91166   Adjusted net national income (constant 2010 US$)   \n",
      "91167         Adjusted net national income (current US$)   \n",
      "91168  Adjusted net national income per capita (annua...   \n",
      "91169  Adjusted net national income per capita (const...   \n",
      "91170  Adjusted net national income per capita (curre...   \n",
      "91171  Adjusted net savings, excluding particulate em...   \n",
      "91172  Adjusted net savings, excluding particulate em...   \n",
      "...                                                  ...   \n",
      "92712                                   Urban population   \n",
      "92713                      Urban population (% of total)   \n",
      "92714                 Urban population growth (annual %)   \n",
      "92715  Urban population living in areas where elevati...   \n",
      "92716    Urban poverty gap at national poverty lines (%)   \n",
      "92717  Urban poverty headcount ratio at national pove...   \n",
      "92718               Use of IMF credit (DOD, current US$)   \n",
      "92719  Use of insecticide-treated bed nets (% of unde...   \n",
      "92720  Value lost due to electrical outages (% of sal...   \n",
      "92721  Vitamin A supplementation coverage rate (% of ...   \n",
      "92722  Vulnerable employment, female (% of female emp...   \n",
      "92723  Vulnerable employment, male (% of male employm...   \n",
      "92724  Vulnerable employment, total (% of total emplo...   \n",
      "92725  Wage and salaried workers, female (% of female...   \n",
      "92726  Wage and salaried workers, male (% of male emp...   \n",
      "92727  Wage and salaried workers, total (% of total e...   \n",
      "92728           Wanted fertility rate (births per woman)   \n",
      "92729  Water productivity, total (constant 2010 US$ G...   \n",
      "92730                 Wholesale price index (2010 = 100)   \n",
      "92731  Women making their own informed decisions rega...   \n",
      "92732  Women participating in the three decisions (ow...   \n",
      "92733  Women who believe a husband is justified in be...   \n",
      "92734  Women who believe a husband is justified in be...   \n",
      "92735  Women who believe a husband is justified in be...   \n",
      "92736  Women who believe a husband is justified in be...   \n",
      "92737  Women who believe a husband is justified in be...   \n",
      "92738  Women who believe a husband is justified in be...   \n",
      "92739  Women who were first married by age 15 (% of w...   \n",
      "92740  Women who were first married by age 18 (% of w...   \n",
      "92741  Women's share of population ages 15+ living wi...   \n",
      "\n",
      "                 Indicator Code          1960          1961          1962  \\\n",
      "91143             PA.NUS.PPP.05           NaN           NaN           NaN   \n",
      "91144         PA.NUS.PRVT.PP.05           NaN           NaN           NaN   \n",
      "91145            EG.CFT.ACCS.ZS           NaN           NaN           NaN   \n",
      "91146            EG.ELC.ACCS.ZS           NaN           NaN           NaN   \n",
      "91147         EG.ELC.ACCS.RU.ZS           NaN           NaN           NaN   \n",
      "91148         EG.ELC.ACCS.UR.ZS           NaN           NaN           NaN   \n",
      "91149            FX.OWN.TOTL.ZS           NaN           NaN           NaN   \n",
      "91150         FX.OWN.TOTL.FE.ZS           NaN           NaN           NaN   \n",
      "91151         FX.OWN.TOTL.MA.ZS           NaN           NaN           NaN   \n",
      "91152         FX.OWN.TOTL.OL.ZS           NaN           NaN           NaN   \n",
      "91153         FX.OWN.TOTL.40.ZS           NaN           NaN           NaN   \n",
      "91154         FX.OWN.TOTL.PL.ZS           NaN           NaN           NaN   \n",
      "91155         FX.OWN.TOTL.60.ZS           NaN           NaN           NaN   \n",
      "91156         FX.OWN.TOTL.SO.ZS           NaN           NaN           NaN   \n",
      "91157         FX.OWN.TOTL.YG.ZS           NaN           NaN           NaN   \n",
      "91158  per_si_allsi.adq_pop_tot           NaN           NaN           NaN   \n",
      "91159     per_allsp.adq_pop_tot           NaN           NaN           NaN   \n",
      "91160  per_sa_allsa.adq_pop_tot           NaN           NaN           NaN   \n",
      "91161  per_lm_alllm.adq_pop_tot           NaN           NaN           NaN   \n",
      "91162               SE.PRM.TENR           NaN           NaN           NaN   \n",
      "91163            SE.PRM.TENR.FE           NaN           NaN           NaN   \n",
      "91164            SE.PRM.TENR.MA           NaN           NaN           NaN   \n",
      "91165         NY.ADJ.NNTY.KD.ZG           NaN           NaN           NaN   \n",
      "91166            NY.ADJ.NNTY.KD           NaN           NaN           NaN   \n",
      "91167            NY.ADJ.NNTY.CD           NaN           NaN           NaN   \n",
      "91168      NY.ADJ.NNTY.PC.KD.ZG           NaN           NaN           NaN   \n",
      "91169         NY.ADJ.NNTY.PC.KD           NaN           NaN           NaN   \n",
      "91170         NY.ADJ.NNTY.PC.CD           NaN           NaN           NaN   \n",
      "91171         NY.ADJ.SVNX.GN.ZS           NaN           NaN           NaN   \n",
      "91172            NY.ADJ.SVNX.CD           NaN           NaN           NaN   \n",
      "...                         ...           ...           ...           ...   \n",
      "92712               SP.URB.TOTL  8.378309e+06  8.589875e+06  8.832932e+06   \n",
      "92713         SP.URB.TOTL.IN.ZS  8.152900e+01  8.194100e+01  8.222800e+01   \n",
      "92714               SP.URB.GROW  2.783396e+00  2.493808e+00  2.790283e+00   \n",
      "92715         EN.POP.EL5M.UR.ZS           NaN           NaN           NaN   \n",
      "92716               SI.POV.URGP           NaN           NaN           NaN   \n",
      "92717               SI.POV.URHC           NaN           NaN           NaN   \n",
      "92718            DT.DOD.DIMF.CD           NaN           NaN           NaN   \n",
      "92719            SH.MLR.NETS.ZS           NaN           NaN           NaN   \n",
      "92720            IC.FRM.OUTG.ZS           NaN           NaN           NaN   \n",
      "92721            SN.ITK.VITA.ZS           NaN           NaN           NaN   \n",
      "92722         SL.EMP.VULN.FE.ZS           NaN           NaN           NaN   \n",
      "92723         SL.EMP.VULN.MA.ZS           NaN           NaN           NaN   \n",
      "92724            SL.EMP.VULN.ZS           NaN           NaN           NaN   \n",
      "92725         SL.EMP.WORK.FE.ZS           NaN           NaN           NaN   \n",
      "92726         SL.EMP.WORK.MA.ZS           NaN           NaN           NaN   \n",
      "92727            SL.EMP.WORK.ZS           NaN           NaN           NaN   \n",
      "92728               SP.DYN.WFRT           NaN           NaN           NaN   \n",
      "92729         ER.GDP.FWTL.M3.KD           NaN           NaN           NaN   \n",
      "92730               FP.WPI.TOTL           NaN           NaN           NaN   \n",
      "92731         SG.DMK.SRCR.FN.ZS           NaN           NaN           NaN   \n",
      "92732         SG.DMK.ALLD.FN.ZS           NaN           NaN           NaN   \n",
      "92733            SG.VAW.REAS.ZS           NaN           NaN           NaN   \n",
      "92734            SG.VAW.ARGU.ZS           NaN           NaN           NaN   \n",
      "92735            SG.VAW.BURN.ZS           NaN           NaN           NaN   \n",
      "92736            SG.VAW.GOES.ZS           NaN           NaN           NaN   \n",
      "92737            SG.VAW.NEGL.ZS           NaN           NaN           NaN   \n",
      "92738            SG.VAW.REFU.ZS           NaN           NaN           NaN   \n",
      "92739         SP.M15.2024.FE.ZS           NaN           NaN           NaN   \n",
      "92740         SP.M18.2024.FE.ZS           NaN           NaN           NaN   \n",
      "92741         SH.DYN.AIDS.FE.ZS           NaN           NaN           NaN   \n",
      "\n",
      "               1963          1964          1965     ...               2010  \\\n",
      "91143           NaN           NaN           NaN     ...                NaN   \n",
      "91144           NaN           NaN           NaN     ...                NaN   \n",
      "91145           NaN           NaN           NaN     ...       1.000000e+02   \n",
      "91146           NaN           NaN           NaN     ...       1.000000e+02   \n",
      "91147           NaN           NaN           NaN     ...       1.000000e+02   \n",
      "91148           NaN           NaN           NaN     ...       1.000000e+02   \n",
      "91149           NaN           NaN           NaN     ...                NaN   \n",
      "91150           NaN           NaN           NaN     ...                NaN   \n",
      "91151           NaN           NaN           NaN     ...                NaN   \n",
      "91152           NaN           NaN           NaN     ...                NaN   \n",
      "91153           NaN           NaN           NaN     ...                NaN   \n",
      "91154           NaN           NaN           NaN     ...                NaN   \n",
      "91155           NaN           NaN           NaN     ...                NaN   \n",
      "91156           NaN           NaN           NaN     ...                NaN   \n",
      "91157           NaN           NaN           NaN     ...                NaN   \n",
      "91158           NaN           NaN           NaN     ...                NaN   \n",
      "91159           NaN           NaN           NaN     ...                NaN   \n",
      "91160           NaN           NaN           NaN     ...                NaN   \n",
      "91161           NaN           NaN           NaN     ...                NaN   \n",
      "91162           NaN           NaN           NaN     ...       9.710527e+01   \n",
      "91163           NaN           NaN           NaN     ...       9.762961e+01   \n",
      "91164           NaN           NaN           NaN     ...       9.660875e+01   \n",
      "91165           NaN           NaN           NaN     ...       9.498829e-01   \n",
      "91166           NaN           NaN           NaN     ...       8.790407e+11   \n",
      "91167           NaN           NaN           NaN     ...       8.790407e+11   \n",
      "91168           NaN           NaN           NaN     ...      -6.082324e-01   \n",
      "91169           NaN           NaN           NaN     ...       3.989882e+04   \n",
      "91170           NaN           NaN           NaN     ...       3.989882e+04   \n",
      "91171           NaN           NaN           NaN     ...       7.714954e+00   \n",
      "91172           NaN           NaN           NaN     ...       8.474954e+10   \n",
      "...             ...           ...           ...     ...                ...   \n",
      "92712  9.034955e+06  9.245383e+06  9.459784e+06     ...       1.876708e+07   \n",
      "92713  8.251100e+01  8.279200e+01  8.306800e+01     ...       8.518200e+01   \n",
      "92714  2.261393e+00  2.302335e+00  2.292526e+00     ...       1.695285e+00   \n",
      "92715           NaN           NaN           NaN     ...       3.613416e+00   \n",
      "92716           NaN           NaN           NaN     ...                NaN   \n",
      "92717           NaN           NaN           NaN     ...                NaN   \n",
      "92718           NaN           NaN           NaN     ...                NaN   \n",
      "92719           NaN           NaN           NaN     ...                NaN   \n",
      "92720           NaN           NaN           NaN     ...                NaN   \n",
      "92721           NaN           NaN           NaN     ...                NaN   \n",
      "92722           NaN           NaN           NaN     ...       8.555000e+00   \n",
      "92723           NaN           NaN           NaN     ...       1.403600e+01   \n",
      "92724           NaN           NaN           NaN     ...       1.156900e+01   \n",
      "92725           NaN           NaN           NaN     ...       8.667100e+01   \n",
      "92726           NaN           NaN           NaN     ...       7.741000e+01   \n",
      "92727           NaN           NaN           NaN     ...       8.157800e+01   \n",
      "92728           NaN           NaN           NaN     ...                NaN   \n",
      "92729           NaN           NaN           NaN     ...                NaN   \n",
      "92730           NaN           NaN           NaN     ...                NaN   \n",
      "92731           NaN           NaN           NaN     ...                NaN   \n",
      "92732           NaN           NaN           NaN     ...                NaN   \n",
      "92733           NaN           NaN           NaN     ...                NaN   \n",
      "92734           NaN           NaN           NaN     ...                NaN   \n",
      "92735           NaN           NaN           NaN     ...                NaN   \n",
      "92736           NaN           NaN           NaN     ...                NaN   \n",
      "92737           NaN           NaN           NaN     ...                NaN   \n",
      "92738           NaN           NaN           NaN     ...                NaN   \n",
      "92739           NaN           NaN           NaN     ...                NaN   \n",
      "92740           NaN           NaN           NaN     ...                NaN   \n",
      "92741           NaN           NaN           NaN     ...       9.700000e+00   \n",
      "\n",
      "               2011          2012          2013          2014          2015  \\\n",
      "91143           NaN           NaN           NaN           NaN           NaN   \n",
      "91144           NaN           NaN           NaN           NaN           NaN   \n",
      "91145  1.000000e+02  1.000000e+02  1.000000e+02  1.000000e+02  1.000000e+02   \n",
      "91146  1.000000e+02  1.000000e+02  1.000000e+02  1.000000e+02  1.000000e+02   \n",
      "91147  1.000000e+02  1.000000e+02  1.000000e+02  1.000000e+02  1.000000e+02   \n",
      "91148  1.000000e+02  1.000000e+02  1.000000e+02  1.000000e+02  1.000000e+02   \n",
      "91149  9.906484e+01           NaN           NaN  9.885957e+01           NaN   \n",
      "91150  9.859229e+01           NaN           NaN  9.903623e+01           NaN   \n",
      "91151  9.959470e+01           NaN           NaN  9.867058e+01           NaN   \n",
      "91152  9.911392e+01           NaN           NaN  9.961399e+01           NaN   \n",
      "91153  9.795354e+01           NaN           NaN  1.000000e+02           NaN   \n",
      "91154  1.000000e+02           NaN           NaN  1.000000e+02           NaN   \n",
      "91155  9.980312e+01           NaN           NaN  9.812948e+01           NaN   \n",
      "91156  9.915609e+01           NaN           NaN  9.911790e+01           NaN   \n",
      "91157  9.876114e+01           NaN           NaN  9.477867e+01           NaN   \n",
      "91158           NaN           NaN           NaN           NaN           NaN   \n",
      "91159           NaN           NaN           NaN           NaN           NaN   \n",
      "91160           NaN           NaN           NaN           NaN           NaN   \n",
      "91161           NaN           NaN           NaN           NaN           NaN   \n",
      "91162  9.776576e+01  9.765526e+01  9.749263e+01  9.714568e+01  9.712010e+01   \n",
      "91163  9.818632e+01  9.801846e+01  9.783020e+01  9.752725e+01  9.755321e+01   \n",
      "91164  9.736700e+01  9.731088e+01  9.717278e+01  9.678452e+01  9.671054e+01   \n",
      "91165  5.620179e+00  5.160910e+00  7.686570e-01  8.490557e-01  1.401755e+00   \n",
      "91166  9.284444e+11  9.763606e+11  9.838654e+11  9.922190e+11  1.006127e+12   \n",
      "91167  1.063306e+12  1.191337e+12  1.218548e+12  1.123019e+12  1.050077e+12   \n",
      "91168  4.162707e+00  3.299981e+00 -9.877100e-01 -6.880295e-01 -7.201212e-02   \n",
      "91169  4.155969e+04  4.293115e+04  4.250711e+04  4.221465e+04  4.218425e+04   \n",
      "91170  4.759645e+04  5.238378e+04  5.264640e+04  4.777962e+04  4.402696e+04   \n",
      "91171  8.753510e+00  1.005971e+01  9.372060e+00  8.035639e+00  7.391041e+00   \n",
      "91172  1.168349e+11  1.500274e+11  1.432220e+11  1.142033e+11  9.737548e+10   \n",
      "...             ...           ...           ...           ...           ...   \n",
      "92712  1.905604e+07  1.942253e+07  1.979021e+07  2.012001e+07  2.044036e+07   \n",
      "92713  8.530000e+01  8.540200e+01  8.550200e+01  8.560200e+01  8.570100e+01   \n",
      "92714  1.527957e+00  1.904952e+00  1.875364e+00  1.652767e+00  1.579644e+00   \n",
      "92715           NaN           NaN           NaN           NaN           NaN   \n",
      "92716           NaN           NaN           NaN           NaN           NaN   \n",
      "92717           NaN           NaN           NaN           NaN           NaN   \n",
      "92718           NaN           NaN           NaN           NaN           NaN   \n",
      "92719           NaN           NaN           NaN           NaN           NaN   \n",
      "92720           NaN           NaN           NaN           NaN           NaN   \n",
      "92721           NaN           NaN           NaN           NaN           NaN   \n",
      "92722  8.388000e+00  8.313000e+00  7.917000e+00  8.296000e+00  8.249000e+00   \n",
      "92723  1.372000e+01  1.294200e+01  1.275600e+01  1.303900e+01  1.310400e+01   \n",
      "92724  1.131200e+01  1.084100e+01  1.055100e+01  1.087300e+01  1.087800e+01   \n",
      "92725  8.700200e+01  8.729000e+01  8.772700e+01  8.738200e+01  8.737900e+01   \n",
      "92726  7.816700e+01  7.902400e+01  7.924900e+01  7.896200e+01  7.909700e+01   \n",
      "92727  8.215800e+01  8.277500e+01  8.311200e+01  8.280700e+01  8.289500e+01   \n",
      "92728           NaN           NaN           NaN           NaN           NaN   \n",
      "92729           NaN  7.883062e+01           NaN           NaN  7.829382e+01   \n",
      "92730           NaN           NaN           NaN           NaN           NaN   \n",
      "92731           NaN           NaN           NaN           NaN           NaN   \n",
      "92732           NaN           NaN           NaN           NaN           NaN   \n",
      "92733           NaN           NaN           NaN           NaN           NaN   \n",
      "92734           NaN           NaN           NaN           NaN           NaN   \n",
      "92735           NaN           NaN           NaN           NaN           NaN   \n",
      "92736           NaN           NaN           NaN           NaN           NaN   \n",
      "92737           NaN           NaN           NaN           NaN           NaN   \n",
      "92738           NaN           NaN           NaN           NaN           NaN   \n",
      "92739           NaN           NaN           NaN           NaN           NaN   \n",
      "92740           NaN           NaN           NaN           NaN           NaN   \n",
      "92741  9.800000e+00  1.000000e+01  1.010000e+01  1.020000e+01  1.030000e+01   \n",
      "\n",
      "               2016          2017       2018  Unnamed: 63  \n",
      "91143           NaN           NaN        NaN          NaN  \n",
      "91144           NaN           NaN        NaN          NaN  \n",
      "91145  1.000000e+02           NaN        NaN          NaN  \n",
      "91146  1.000000e+02           NaN        NaN          NaN  \n",
      "91147  1.000000e+02           NaN        NaN          NaN  \n",
      "91148  1.000000e+02           NaN        NaN          NaN  \n",
      "91149           NaN  9.951937e+01        NaN          NaN  \n",
      "91150           NaN  9.919509e+01        NaN          NaN  \n",
      "91151           NaN  9.985454e+01        NaN          NaN  \n",
      "91152           NaN  9.963609e+01        NaN          NaN  \n",
      "91153           NaN  9.928784e+01        NaN          NaN  \n",
      "91154           NaN  1.000000e+02        NaN          NaN  \n",
      "91155           NaN  9.967348e+01        NaN          NaN  \n",
      "91156           NaN  9.967117e+01        NaN          NaN  \n",
      "91157           NaN  1.000000e+02        NaN          NaN  \n",
      "91158           NaN           NaN        NaN          NaN  \n",
      "91159           NaN           NaN        NaN          NaN  \n",
      "91160           NaN           NaN        NaN          NaN  \n",
      "91161           NaN           NaN        NaN          NaN  \n",
      "91162  9.678300e+01           NaN        NaN          NaN  \n",
      "91163  9.718244e+01           NaN        NaN          NaN  \n",
      "91164  9.640456e+01           NaN        NaN          NaN  \n",
      "91165  5.367927e-01           NaN        NaN          NaN  \n",
      "91166  1.011528e+12           NaN        NaN          NaN  \n",
      "91167  9.408156e+11           NaN        NaN          NaN  \n",
      "91168 -9.582321e-01           NaN        NaN          NaN  \n",
      "91169  4.178003e+04           NaN        NaN          NaN  \n",
      "91170  3.885932e+04           NaN        NaN          NaN  \n",
      "91171  5.345255e+00           NaN        NaN          NaN  \n",
      "91172  6.326323e+10           NaN        NaN          NaN  \n",
      "...             ...           ...        ...          ...  \n",
      "92712  2.077287e+07  2.113147e+07        NaN          NaN  \n",
      "92713  8.580000e+01  8.590400e+01        NaN          NaN  \n",
      "92714  1.613662e+00  1.711526e+00        NaN          NaN  \n",
      "92715           NaN           NaN        NaN          NaN  \n",
      "92716           NaN           NaN        NaN          NaN  \n",
      "92717           NaN           NaN        NaN          NaN  \n",
      "92718           NaN           NaN        NaN          NaN  \n",
      "92719           NaN           NaN        NaN          NaN  \n",
      "92720           NaN           NaN        NaN          NaN  \n",
      "92721           NaN           NaN        NaN          NaN  \n",
      "92722  8.415000e+00  8.137000e+00   8.198000          NaN  \n",
      "92723  1.300900e+01  1.271600e+01  12.764000          NaN  \n",
      "92724  1.089100e+01  1.060400e+01  10.656000          NaN  \n",
      "92725  8.734200e+01  8.762600e+01  87.533997          NaN  \n",
      "92726  7.908100e+01  7.944500e+01  79.397003          NaN  \n",
      "92727  8.288900e+01  8.321900e+01  83.153000          NaN  \n",
      "92728           NaN           NaN        NaN          NaN  \n",
      "92729           NaN           NaN        NaN          NaN  \n",
      "92730           NaN           NaN        NaN          NaN  \n",
      "92731           NaN           NaN        NaN          NaN  \n",
      "92732           NaN           NaN        NaN          NaN  \n",
      "92733           NaN           NaN        NaN          NaN  \n",
      "92734           NaN           NaN        NaN          NaN  \n",
      "92735           NaN           NaN        NaN          NaN  \n",
      "92736           NaN           NaN        NaN          NaN  \n",
      "92737           NaN           NaN        NaN          NaN  \n",
      "92738           NaN           NaN        NaN          NaN  \n",
      "92739           NaN           NaN        NaN          NaN  \n",
      "92740           NaN           NaN        NaN          NaN  \n",
      "92741  1.040000e+01  1.050000e+01        NaN          NaN  \n",
      "\n",
      "[1599 rows x 64 columns]\n"
     ]
    }
   ],
   "source": [
    "print(df[:])"
   ]
  },
  {
   "cell_type": "code",
   "execution_count": 69,
   "metadata": {},
   "outputs": [],
   "source": [
    "df = pd.concat(dfs)"
   ]
  },
  {
   "cell_type": "code",
   "execution_count": 70,
   "metadata": {},
   "outputs": [
    {
     "ename": "KeyError",
     "evalue": "'Year'",
     "output_type": "error",
     "traceback": [
      "\u001b[0;31m---------------------------------------------------------------------------\u001b[0m",
      "\u001b[0;31mKeyError\u001b[0m                                  Traceback (most recent call last)",
      "\u001b[0;32m/anaconda3/lib/python3.7/site-packages/pandas/core/indexes/base.py\u001b[0m in \u001b[0;36mget_loc\u001b[0;34m(self, key, method, tolerance)\u001b[0m\n\u001b[1;32m   3077\u001b[0m             \u001b[0;32mtry\u001b[0m\u001b[0;34m:\u001b[0m\u001b[0;34m\u001b[0m\u001b[0;34m\u001b[0m\u001b[0m\n\u001b[0;32m-> 3078\u001b[0;31m                 \u001b[0;32mreturn\u001b[0m \u001b[0mself\u001b[0m\u001b[0;34m.\u001b[0m\u001b[0m_engine\u001b[0m\u001b[0;34m.\u001b[0m\u001b[0mget_loc\u001b[0m\u001b[0;34m(\u001b[0m\u001b[0mkey\u001b[0m\u001b[0;34m)\u001b[0m\u001b[0;34m\u001b[0m\u001b[0;34m\u001b[0m\u001b[0m\n\u001b[0m\u001b[1;32m   3079\u001b[0m             \u001b[0;32mexcept\u001b[0m \u001b[0mKeyError\u001b[0m\u001b[0;34m:\u001b[0m\u001b[0;34m\u001b[0m\u001b[0;34m\u001b[0m\u001b[0m\n",
      "\u001b[0;32mpandas/_libs/index.pyx\u001b[0m in \u001b[0;36mpandas._libs.index.IndexEngine.get_loc\u001b[0;34m()\u001b[0m\n",
      "\u001b[0;32mpandas/_libs/index.pyx\u001b[0m in \u001b[0;36mpandas._libs.index.IndexEngine.get_loc\u001b[0;34m()\u001b[0m\n",
      "\u001b[0;32mpandas/_libs/hashtable_class_helper.pxi\u001b[0m in \u001b[0;36mpandas._libs.hashtable.PyObjectHashTable.get_item\u001b[0;34m()\u001b[0m\n",
      "\u001b[0;32mpandas/_libs/hashtable_class_helper.pxi\u001b[0m in \u001b[0;36mpandas._libs.hashtable.PyObjectHashTable.get_item\u001b[0;34m()\u001b[0m\n",
      "\u001b[0;31mKeyError\u001b[0m: 'Year'",
      "\nDuring handling of the above exception, another exception occurred:\n",
      "\u001b[0;31mKeyError\u001b[0m                                  Traceback (most recent call last)",
      "\u001b[0;32m<ipython-input-70-545ccf175dd7>\u001b[0m in \u001b[0;36m<module>\u001b[0;34m\u001b[0m\n\u001b[0;32m----> 1\u001b[0;31m \u001b[0mdf\u001b[0m\u001b[0;34m.\u001b[0m\u001b[0mplot\u001b[0m\u001b[0;34m.\u001b[0m\u001b[0mline\u001b[0m\u001b[0;34m(\u001b[0m\u001b[0mx\u001b[0m\u001b[0;34m=\u001b[0m\u001b[0;34m'Year'\u001b[0m\u001b[0;34m,\u001b[0m \u001b[0my\u001b[0m\u001b[0;34m=\u001b[0m\u001b[0;34m'value'\u001b[0m\u001b[0;34m)\u001b[0m\u001b[0;34m\u001b[0m\u001b[0;34m\u001b[0m\u001b[0m\n\u001b[0m\u001b[1;32m      2\u001b[0m \u001b[0mplt\u001b[0m\u001b[0;34m.\u001b[0m\u001b[0mylabel\u001b[0m\u001b[0;34m(\u001b[0m\u001b[0;34m'% Urban population'\u001b[0m\u001b[0;34m)\u001b[0m\u001b[0;34m\u001b[0m\u001b[0;34m\u001b[0m\u001b[0m\n\u001b[1;32m      3\u001b[0m \u001b[0mplt\u001b[0m\u001b[0;34m.\u001b[0m\u001b[0mshow\u001b[0m\u001b[0;34m(\u001b[0m\u001b[0;34m)\u001b[0m\u001b[0;34m\u001b[0m\u001b[0;34m\u001b[0m\u001b[0m\n",
      "\u001b[0;32m/anaconda3/lib/python3.7/site-packages/pandas/plotting/_core.py\u001b[0m in \u001b[0;36mline\u001b[0;34m(self, x, y, **kwds)\u001b[0m\n\u001b[1;32m   3003\u001b[0m             \u001b[0;34m>>\u001b[0m\u001b[0;34m>\u001b[0m \u001b[0mlines\u001b[0m \u001b[0;34m=\u001b[0m \u001b[0mdf\u001b[0m\u001b[0;34m.\u001b[0m\u001b[0mplot\u001b[0m\u001b[0;34m.\u001b[0m\u001b[0mline\u001b[0m\u001b[0;34m(\u001b[0m\u001b[0mx\u001b[0m\u001b[0;34m=\u001b[0m\u001b[0;34m'pig'\u001b[0m\u001b[0;34m,\u001b[0m \u001b[0my\u001b[0m\u001b[0;34m=\u001b[0m\u001b[0;34m'horse'\u001b[0m\u001b[0;34m)\u001b[0m\u001b[0;34m\u001b[0m\u001b[0;34m\u001b[0m\u001b[0m\n\u001b[1;32m   3004\u001b[0m         \"\"\"\n\u001b[0;32m-> 3005\u001b[0;31m         \u001b[0;32mreturn\u001b[0m \u001b[0mself\u001b[0m\u001b[0;34m(\u001b[0m\u001b[0mkind\u001b[0m\u001b[0;34m=\u001b[0m\u001b[0;34m'line'\u001b[0m\u001b[0;34m,\u001b[0m \u001b[0mx\u001b[0m\u001b[0;34m=\u001b[0m\u001b[0mx\u001b[0m\u001b[0;34m,\u001b[0m \u001b[0my\u001b[0m\u001b[0;34m=\u001b[0m\u001b[0my\u001b[0m\u001b[0;34m,\u001b[0m \u001b[0;34m**\u001b[0m\u001b[0mkwds\u001b[0m\u001b[0;34m)\u001b[0m\u001b[0;34m\u001b[0m\u001b[0;34m\u001b[0m\u001b[0m\n\u001b[0m\u001b[1;32m   3006\u001b[0m \u001b[0;34m\u001b[0m\u001b[0m\n\u001b[1;32m   3007\u001b[0m     \u001b[0;32mdef\u001b[0m \u001b[0mbar\u001b[0m\u001b[0;34m(\u001b[0m\u001b[0mself\u001b[0m\u001b[0;34m,\u001b[0m \u001b[0mx\u001b[0m\u001b[0;34m=\u001b[0m\u001b[0;32mNone\u001b[0m\u001b[0;34m,\u001b[0m \u001b[0my\u001b[0m\u001b[0;34m=\u001b[0m\u001b[0;32mNone\u001b[0m\u001b[0;34m,\u001b[0m \u001b[0;34m**\u001b[0m\u001b[0mkwds\u001b[0m\u001b[0;34m)\u001b[0m\u001b[0;34m:\u001b[0m\u001b[0;34m\u001b[0m\u001b[0;34m\u001b[0m\u001b[0m\n",
      "\u001b[0;32m/anaconda3/lib/python3.7/site-packages/pandas/plotting/_core.py\u001b[0m in \u001b[0;36m__call__\u001b[0;34m(self, x, y, kind, ax, subplots, sharex, sharey, layout, figsize, use_index, title, grid, legend, style, logx, logy, loglog, xticks, yticks, xlim, ylim, rot, fontsize, colormap, table, yerr, xerr, secondary_y, sort_columns, **kwds)\u001b[0m\n\u001b[1;32m   2939\u001b[0m                           \u001b[0mfontsize\u001b[0m\u001b[0;34m=\u001b[0m\u001b[0mfontsize\u001b[0m\u001b[0;34m,\u001b[0m \u001b[0mcolormap\u001b[0m\u001b[0;34m=\u001b[0m\u001b[0mcolormap\u001b[0m\u001b[0;34m,\u001b[0m \u001b[0mtable\u001b[0m\u001b[0;34m=\u001b[0m\u001b[0mtable\u001b[0m\u001b[0;34m,\u001b[0m\u001b[0;34m\u001b[0m\u001b[0;34m\u001b[0m\u001b[0m\n\u001b[1;32m   2940\u001b[0m                           \u001b[0myerr\u001b[0m\u001b[0;34m=\u001b[0m\u001b[0myerr\u001b[0m\u001b[0;34m,\u001b[0m \u001b[0mxerr\u001b[0m\u001b[0;34m=\u001b[0m\u001b[0mxerr\u001b[0m\u001b[0;34m,\u001b[0m \u001b[0msecondary_y\u001b[0m\u001b[0;34m=\u001b[0m\u001b[0msecondary_y\u001b[0m\u001b[0;34m,\u001b[0m\u001b[0;34m\u001b[0m\u001b[0;34m\u001b[0m\u001b[0m\n\u001b[0;32m-> 2941\u001b[0;31m                           sort_columns=sort_columns, **kwds)\n\u001b[0m\u001b[1;32m   2942\u001b[0m     \u001b[0m__call__\u001b[0m\u001b[0;34m.\u001b[0m\u001b[0m__doc__\u001b[0m \u001b[0;34m=\u001b[0m \u001b[0mplot_frame\u001b[0m\u001b[0;34m.\u001b[0m\u001b[0m__doc__\u001b[0m\u001b[0;34m\u001b[0m\u001b[0;34m\u001b[0m\u001b[0m\n\u001b[1;32m   2943\u001b[0m \u001b[0;34m\u001b[0m\u001b[0m\n",
      "\u001b[0;32m/anaconda3/lib/python3.7/site-packages/pandas/plotting/_core.py\u001b[0m in \u001b[0;36mplot_frame\u001b[0;34m(data, x, y, kind, ax, subplots, sharex, sharey, layout, figsize, use_index, title, grid, legend, style, logx, logy, loglog, xticks, yticks, xlim, ylim, rot, fontsize, colormap, table, yerr, xerr, secondary_y, sort_columns, **kwds)\u001b[0m\n\u001b[1;32m   1975\u001b[0m                  \u001b[0myerr\u001b[0m\u001b[0;34m=\u001b[0m\u001b[0myerr\u001b[0m\u001b[0;34m,\u001b[0m \u001b[0mxerr\u001b[0m\u001b[0;34m=\u001b[0m\u001b[0mxerr\u001b[0m\u001b[0;34m,\u001b[0m\u001b[0;34m\u001b[0m\u001b[0;34m\u001b[0m\u001b[0m\n\u001b[1;32m   1976\u001b[0m                  \u001b[0msecondary_y\u001b[0m\u001b[0;34m=\u001b[0m\u001b[0msecondary_y\u001b[0m\u001b[0;34m,\u001b[0m \u001b[0msort_columns\u001b[0m\u001b[0;34m=\u001b[0m\u001b[0msort_columns\u001b[0m\u001b[0;34m,\u001b[0m\u001b[0;34m\u001b[0m\u001b[0;34m\u001b[0m\u001b[0m\n\u001b[0;32m-> 1977\u001b[0;31m                  **kwds)\n\u001b[0m\u001b[1;32m   1978\u001b[0m \u001b[0;34m\u001b[0m\u001b[0m\n\u001b[1;32m   1979\u001b[0m \u001b[0;34m\u001b[0m\u001b[0m\n",
      "\u001b[0;32m/anaconda3/lib/python3.7/site-packages/pandas/plotting/_core.py\u001b[0m in \u001b[0;36m_plot\u001b[0;34m(data, x, y, subplots, ax, kind, **kwds)\u001b[0m\n\u001b[1;32m   1764\u001b[0m                 \u001b[0;32mif\u001b[0m \u001b[0mis_integer\u001b[0m\u001b[0;34m(\u001b[0m\u001b[0mx\u001b[0m\u001b[0;34m)\u001b[0m \u001b[0;32mand\u001b[0m \u001b[0;32mnot\u001b[0m \u001b[0mdata\u001b[0m\u001b[0;34m.\u001b[0m\u001b[0mcolumns\u001b[0m\u001b[0;34m.\u001b[0m\u001b[0mholds_integer\u001b[0m\u001b[0;34m(\u001b[0m\u001b[0;34m)\u001b[0m\u001b[0;34m:\u001b[0m\u001b[0;34m\u001b[0m\u001b[0;34m\u001b[0m\u001b[0m\n\u001b[1;32m   1765\u001b[0m                     \u001b[0mx\u001b[0m \u001b[0;34m=\u001b[0m \u001b[0mdata_cols\u001b[0m\u001b[0;34m[\u001b[0m\u001b[0mx\u001b[0m\u001b[0;34m]\u001b[0m\u001b[0;34m\u001b[0m\u001b[0;34m\u001b[0m\u001b[0m\n\u001b[0;32m-> 1766\u001b[0;31m                 \u001b[0;32melif\u001b[0m \u001b[0;32mnot\u001b[0m \u001b[0misinstance\u001b[0m\u001b[0;34m(\u001b[0m\u001b[0mdata\u001b[0m\u001b[0;34m[\u001b[0m\u001b[0mx\u001b[0m\u001b[0;34m]\u001b[0m\u001b[0;34m,\u001b[0m \u001b[0mABCSeries\u001b[0m\u001b[0;34m)\u001b[0m\u001b[0;34m:\u001b[0m\u001b[0;34m\u001b[0m\u001b[0;34m\u001b[0m\u001b[0m\n\u001b[0m\u001b[1;32m   1767\u001b[0m                     \u001b[0;32mraise\u001b[0m \u001b[0mValueError\u001b[0m\u001b[0;34m(\u001b[0m\u001b[0;34m\"x must be a label or position\"\u001b[0m\u001b[0;34m)\u001b[0m\u001b[0;34m\u001b[0m\u001b[0;34m\u001b[0m\u001b[0m\n\u001b[1;32m   1768\u001b[0m                 \u001b[0mdata\u001b[0m \u001b[0;34m=\u001b[0m \u001b[0mdata\u001b[0m\u001b[0;34m.\u001b[0m\u001b[0mset_index\u001b[0m\u001b[0;34m(\u001b[0m\u001b[0mx\u001b[0m\u001b[0;34m)\u001b[0m\u001b[0;34m\u001b[0m\u001b[0;34m\u001b[0m\u001b[0m\n",
      "\u001b[0;32m/anaconda3/lib/python3.7/site-packages/pandas/core/frame.py\u001b[0m in \u001b[0;36m__getitem__\u001b[0;34m(self, key)\u001b[0m\n\u001b[1;32m   2686\u001b[0m             \u001b[0;32mreturn\u001b[0m \u001b[0mself\u001b[0m\u001b[0;34m.\u001b[0m\u001b[0m_getitem_multilevel\u001b[0m\u001b[0;34m(\u001b[0m\u001b[0mkey\u001b[0m\u001b[0;34m)\u001b[0m\u001b[0;34m\u001b[0m\u001b[0;34m\u001b[0m\u001b[0m\n\u001b[1;32m   2687\u001b[0m         \u001b[0;32melse\u001b[0m\u001b[0;34m:\u001b[0m\u001b[0;34m\u001b[0m\u001b[0;34m\u001b[0m\u001b[0m\n\u001b[0;32m-> 2688\u001b[0;31m             \u001b[0;32mreturn\u001b[0m \u001b[0mself\u001b[0m\u001b[0;34m.\u001b[0m\u001b[0m_getitem_column\u001b[0m\u001b[0;34m(\u001b[0m\u001b[0mkey\u001b[0m\u001b[0;34m)\u001b[0m\u001b[0;34m\u001b[0m\u001b[0;34m\u001b[0m\u001b[0m\n\u001b[0m\u001b[1;32m   2689\u001b[0m \u001b[0;34m\u001b[0m\u001b[0m\n\u001b[1;32m   2690\u001b[0m     \u001b[0;32mdef\u001b[0m \u001b[0m_getitem_column\u001b[0m\u001b[0;34m(\u001b[0m\u001b[0mself\u001b[0m\u001b[0;34m,\u001b[0m \u001b[0mkey\u001b[0m\u001b[0;34m)\u001b[0m\u001b[0;34m:\u001b[0m\u001b[0;34m\u001b[0m\u001b[0;34m\u001b[0m\u001b[0m\n",
      "\u001b[0;32m/anaconda3/lib/python3.7/site-packages/pandas/core/frame.py\u001b[0m in \u001b[0;36m_getitem_column\u001b[0;34m(self, key)\u001b[0m\n\u001b[1;32m   2693\u001b[0m         \u001b[0;31m# get column\u001b[0m\u001b[0;34m\u001b[0m\u001b[0;34m\u001b[0m\u001b[0;34m\u001b[0m\u001b[0m\n\u001b[1;32m   2694\u001b[0m         \u001b[0;32mif\u001b[0m \u001b[0mself\u001b[0m\u001b[0;34m.\u001b[0m\u001b[0mcolumns\u001b[0m\u001b[0;34m.\u001b[0m\u001b[0mis_unique\u001b[0m\u001b[0;34m:\u001b[0m\u001b[0;34m\u001b[0m\u001b[0;34m\u001b[0m\u001b[0m\n\u001b[0;32m-> 2695\u001b[0;31m             \u001b[0;32mreturn\u001b[0m \u001b[0mself\u001b[0m\u001b[0;34m.\u001b[0m\u001b[0m_get_item_cache\u001b[0m\u001b[0;34m(\u001b[0m\u001b[0mkey\u001b[0m\u001b[0;34m)\u001b[0m\u001b[0;34m\u001b[0m\u001b[0;34m\u001b[0m\u001b[0m\n\u001b[0m\u001b[1;32m   2696\u001b[0m \u001b[0;34m\u001b[0m\u001b[0m\n\u001b[1;32m   2697\u001b[0m         \u001b[0;31m# duplicate columns & possible reduce dimensionality\u001b[0m\u001b[0;34m\u001b[0m\u001b[0;34m\u001b[0m\u001b[0;34m\u001b[0m\u001b[0m\n",
      "\u001b[0;32m/anaconda3/lib/python3.7/site-packages/pandas/core/generic.py\u001b[0m in \u001b[0;36m_get_item_cache\u001b[0;34m(self, item)\u001b[0m\n\u001b[1;32m   2487\u001b[0m         \u001b[0mres\u001b[0m \u001b[0;34m=\u001b[0m \u001b[0mcache\u001b[0m\u001b[0;34m.\u001b[0m\u001b[0mget\u001b[0m\u001b[0;34m(\u001b[0m\u001b[0mitem\u001b[0m\u001b[0;34m)\u001b[0m\u001b[0;34m\u001b[0m\u001b[0;34m\u001b[0m\u001b[0m\n\u001b[1;32m   2488\u001b[0m         \u001b[0;32mif\u001b[0m \u001b[0mres\u001b[0m \u001b[0;32mis\u001b[0m \u001b[0;32mNone\u001b[0m\u001b[0;34m:\u001b[0m\u001b[0;34m\u001b[0m\u001b[0;34m\u001b[0m\u001b[0m\n\u001b[0;32m-> 2489\u001b[0;31m             \u001b[0mvalues\u001b[0m \u001b[0;34m=\u001b[0m \u001b[0mself\u001b[0m\u001b[0;34m.\u001b[0m\u001b[0m_data\u001b[0m\u001b[0;34m.\u001b[0m\u001b[0mget\u001b[0m\u001b[0;34m(\u001b[0m\u001b[0mitem\u001b[0m\u001b[0;34m)\u001b[0m\u001b[0;34m\u001b[0m\u001b[0;34m\u001b[0m\u001b[0m\n\u001b[0m\u001b[1;32m   2490\u001b[0m             \u001b[0mres\u001b[0m \u001b[0;34m=\u001b[0m \u001b[0mself\u001b[0m\u001b[0;34m.\u001b[0m\u001b[0m_box_item_values\u001b[0m\u001b[0;34m(\u001b[0m\u001b[0mitem\u001b[0m\u001b[0;34m,\u001b[0m \u001b[0mvalues\u001b[0m\u001b[0;34m)\u001b[0m\u001b[0;34m\u001b[0m\u001b[0;34m\u001b[0m\u001b[0m\n\u001b[1;32m   2491\u001b[0m             \u001b[0mcache\u001b[0m\u001b[0;34m[\u001b[0m\u001b[0mitem\u001b[0m\u001b[0;34m]\u001b[0m \u001b[0;34m=\u001b[0m \u001b[0mres\u001b[0m\u001b[0;34m\u001b[0m\u001b[0;34m\u001b[0m\u001b[0m\n",
      "\u001b[0;32m/anaconda3/lib/python3.7/site-packages/pandas/core/internals.py\u001b[0m in \u001b[0;36mget\u001b[0;34m(self, item, fastpath)\u001b[0m\n\u001b[1;32m   4113\u001b[0m \u001b[0;34m\u001b[0m\u001b[0m\n\u001b[1;32m   4114\u001b[0m             \u001b[0;32mif\u001b[0m \u001b[0;32mnot\u001b[0m \u001b[0misna\u001b[0m\u001b[0;34m(\u001b[0m\u001b[0mitem\u001b[0m\u001b[0;34m)\u001b[0m\u001b[0;34m:\u001b[0m\u001b[0;34m\u001b[0m\u001b[0;34m\u001b[0m\u001b[0m\n\u001b[0;32m-> 4115\u001b[0;31m                 \u001b[0mloc\u001b[0m \u001b[0;34m=\u001b[0m \u001b[0mself\u001b[0m\u001b[0;34m.\u001b[0m\u001b[0mitems\u001b[0m\u001b[0;34m.\u001b[0m\u001b[0mget_loc\u001b[0m\u001b[0;34m(\u001b[0m\u001b[0mitem\u001b[0m\u001b[0;34m)\u001b[0m\u001b[0;34m\u001b[0m\u001b[0;34m\u001b[0m\u001b[0m\n\u001b[0m\u001b[1;32m   4116\u001b[0m             \u001b[0;32melse\u001b[0m\u001b[0;34m:\u001b[0m\u001b[0;34m\u001b[0m\u001b[0;34m\u001b[0m\u001b[0m\n\u001b[1;32m   4117\u001b[0m                 \u001b[0mindexer\u001b[0m \u001b[0;34m=\u001b[0m \u001b[0mnp\u001b[0m\u001b[0;34m.\u001b[0m\u001b[0marange\u001b[0m\u001b[0;34m(\u001b[0m\u001b[0mlen\u001b[0m\u001b[0;34m(\u001b[0m\u001b[0mself\u001b[0m\u001b[0;34m.\u001b[0m\u001b[0mitems\u001b[0m\u001b[0;34m)\u001b[0m\u001b[0;34m)\u001b[0m\u001b[0;34m[\u001b[0m\u001b[0misna\u001b[0m\u001b[0;34m(\u001b[0m\u001b[0mself\u001b[0m\u001b[0;34m.\u001b[0m\u001b[0mitems\u001b[0m\u001b[0;34m)\u001b[0m\u001b[0;34m]\u001b[0m\u001b[0;34m\u001b[0m\u001b[0;34m\u001b[0m\u001b[0m\n",
      "\u001b[0;32m/anaconda3/lib/python3.7/site-packages/pandas/core/indexes/base.py\u001b[0m in \u001b[0;36mget_loc\u001b[0;34m(self, key, method, tolerance)\u001b[0m\n\u001b[1;32m   3078\u001b[0m                 \u001b[0;32mreturn\u001b[0m \u001b[0mself\u001b[0m\u001b[0;34m.\u001b[0m\u001b[0m_engine\u001b[0m\u001b[0;34m.\u001b[0m\u001b[0mget_loc\u001b[0m\u001b[0;34m(\u001b[0m\u001b[0mkey\u001b[0m\u001b[0;34m)\u001b[0m\u001b[0;34m\u001b[0m\u001b[0;34m\u001b[0m\u001b[0m\n\u001b[1;32m   3079\u001b[0m             \u001b[0;32mexcept\u001b[0m \u001b[0mKeyError\u001b[0m\u001b[0;34m:\u001b[0m\u001b[0;34m\u001b[0m\u001b[0;34m\u001b[0m\u001b[0m\n\u001b[0;32m-> 3080\u001b[0;31m                 \u001b[0;32mreturn\u001b[0m \u001b[0mself\u001b[0m\u001b[0;34m.\u001b[0m\u001b[0m_engine\u001b[0m\u001b[0;34m.\u001b[0m\u001b[0mget_loc\u001b[0m\u001b[0;34m(\u001b[0m\u001b[0mself\u001b[0m\u001b[0;34m.\u001b[0m\u001b[0m_maybe_cast_indexer\u001b[0m\u001b[0;34m(\u001b[0m\u001b[0mkey\u001b[0m\u001b[0;34m)\u001b[0m\u001b[0;34m)\u001b[0m\u001b[0;34m\u001b[0m\u001b[0;34m\u001b[0m\u001b[0m\n\u001b[0m\u001b[1;32m   3081\u001b[0m \u001b[0;34m\u001b[0m\u001b[0m\n\u001b[1;32m   3082\u001b[0m         \u001b[0mindexer\u001b[0m \u001b[0;34m=\u001b[0m \u001b[0mself\u001b[0m\u001b[0;34m.\u001b[0m\u001b[0mget_indexer\u001b[0m\u001b[0;34m(\u001b[0m\u001b[0;34m[\u001b[0m\u001b[0mkey\u001b[0m\u001b[0;34m]\u001b[0m\u001b[0;34m,\u001b[0m \u001b[0mmethod\u001b[0m\u001b[0;34m=\u001b[0m\u001b[0mmethod\u001b[0m\u001b[0;34m,\u001b[0m \u001b[0mtolerance\u001b[0m\u001b[0;34m=\u001b[0m\u001b[0mtolerance\u001b[0m\u001b[0;34m)\u001b[0m\u001b[0;34m\u001b[0m\u001b[0;34m\u001b[0m\u001b[0m\n",
      "\u001b[0;32mpandas/_libs/index.pyx\u001b[0m in \u001b[0;36mpandas._libs.index.IndexEngine.get_loc\u001b[0;34m()\u001b[0m\n",
      "\u001b[0;32mpandas/_libs/index.pyx\u001b[0m in \u001b[0;36mpandas._libs.index.IndexEngine.get_loc\u001b[0;34m()\u001b[0m\n",
      "\u001b[0;32mpandas/_libs/hashtable_class_helper.pxi\u001b[0m in \u001b[0;36mpandas._libs.hashtable.PyObjectHashTable.get_item\u001b[0;34m()\u001b[0m\n",
      "\u001b[0;32mpandas/_libs/hashtable_class_helper.pxi\u001b[0m in \u001b[0;36mpandas._libs.hashtable.PyObjectHashTable.get_item\u001b[0;34m()\u001b[0m\n",
      "\u001b[0;31mKeyError\u001b[0m: 'Year'"
     ]
    }
   ],
   "source": [
    "df.plot.line(x='Year', y='value')\n",
    "plt.ylabel('% Urban population')\n",
    "plt.show()"
   ]
  },
  {
   "cell_type": "code",
   "execution_count": null,
   "metadata": {},
   "outputs": [],
   "source": []
  }
 ],
 "metadata": {
  "kernelspec": {
   "display_name": "Python 3",
   "language": "python",
   "name": "python3"
  },
  "language_info": {
   "codemirror_mode": {
    "name": "ipython",
    "version": 3
   },
   "file_extension": ".py",
   "mimetype": "text/x-python",
   "name": "python",
   "nbconvert_exporter": "python",
   "pygments_lexer": "ipython3",
   "version": "3.7.1"
  }
 },
 "nbformat": 4,
 "nbformat_minor": 2
}
