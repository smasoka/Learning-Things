{
 "cells": [
  {
   "cell_type": "markdown",
   "metadata": {},
   "source": [
    "## Binary Search "
   ]
  },
  {
   "cell_type": "code",
   "execution_count": 1,
   "metadata": {},
   "outputs": [],
   "source": [
    "import numpy as np\n",
    "import pandas as pd\n",
    "\n",
    "from time import time"
   ]
  },
  {
   "cell_type": "code",
   "execution_count": 2,
   "metadata": {},
   "outputs": [],
   "source": [
    "data = np.genfromtxt('1_d.csv')"
   ]
  },
  {
   "cell_type": "code",
   "execution_count": 7,
   "metadata": {},
   "outputs": [],
   "source": [
    "arr = np.sort(data, kind='mergesort')"
   ]
  },
  {
   "cell_type": "code",
   "execution_count": 12,
   "metadata": {},
   "outputs": [
    {
     "data": {
      "text/plain": [
       "49634.0"
      ]
     },
     "execution_count": 12,
     "metadata": {},
     "output_type": "execute_result"
    }
   ],
   "source": [
    "type(data)\n",
    "arr[50000]"
   ]
  },
  {
   "cell_type": "code",
   "execution_count": 21,
   "metadata": {},
   "outputs": [],
   "source": [
    "def timer_generic(func):\n",
    "    def f(*args, **kwargs):\n",
    "        before = time()\n",
    "        ans = func(*args, **kwargs)\n",
    "        after = time()\n",
    "        print(\"Time elapsed: \", after - before)\n",
    "        return ans\n",
    "    return f"
   ]
  },
  {
   "cell_type": "code",
   "execution_count": 22,
   "metadata": {},
   "outputs": [],
   "source": [
    "@timer_generic\n",
    "def binary_search(data, l, h, x):\n",
    "\n",
    "    if h >= 1:\n",
    "        mid = l + (h - l)//2\n",
    "        if data[mid] == x:\n",
    "            return mid\n",
    "        elif data[mid] > x:\n",
    "            return binary_search(data, l, mid-1, x)\n",
    "        else:\n",
    "            return binary_search(data, mid+1, h, x)\n",
    "    \n",
    "    else:\n",
    "        return -1"
   ]
  },
  {
   "cell_type": "code",
   "execution_count": 23,
   "metadata": {},
   "outputs": [
    {
     "name": "stdout",
     "output_type": "stream",
     "text": [
      "Time elapsed:  1.1920928955078125e-06\n",
      "Time elapsed:  0.00011801719665527344\n",
      "Time elapsed:  0.00015687942504882812\n",
      "Time elapsed:  0.00020313262939453125\n",
      "Time elapsed:  0.00025391578674316406\n",
      "Time elapsed:  0.00030803680419921875\n",
      "Time elapsed:  0.0003540515899658203\n",
      "Time elapsed:  0.0006339550018310547\n",
      "Time elapsed:  0.0006866455078125\n",
      "Time elapsed:  0.0007579326629638672\n",
      "Time elapsed:  0.0008070468902587891\n",
      "Time elapsed:  0.0008952617645263672\n",
      "Time elapsed:  0.0009710788726806641\n",
      "Time elapsed:  0.001027822494506836\n",
      "Time elapsed:  0.0011599063873291016\n",
      "Time elapsed:  0.0011959075927734375\n",
      "Time elapsed:  0.001238107681274414\n",
      "Time elapsed:  0.0013079643249511719\n",
      "Time elapsed:  0.0013589859008789062\n",
      "Time elapsed:  0.001445770263671875\n"
     ]
    }
   ],
   "source": [
    "x = 49638\n",
    "result = binary_search(arr, 0, data.size -1, x)"
   ]
  },
  {
   "cell_type": "code",
   "execution_count": 24,
   "metadata": {},
   "outputs": [
    {
     "name": "stdout",
     "output_type": "stream",
     "text": [
      "49638.0\n"
     ]
    }
   ],
   "source": [
    "print(arr[result])"
   ]
  },
  {
   "cell_type": "code",
   "execution_count": null,
   "metadata": {},
   "outputs": [],
   "source": []
  },
  {
   "cell_type": "code",
   "execution_count": null,
   "metadata": {},
   "outputs": [],
   "source": []
  },
  {
   "cell_type": "code",
   "execution_count": null,
   "metadata": {},
   "outputs": [],
   "source": []
  }
 ],
 "metadata": {
  "kernelspec": {
   "display_name": "Python 3",
   "language": "python",
   "name": "python3"
  },
  "language_info": {
   "codemirror_mode": {
    "name": "ipython",
    "version": 3
   },
   "file_extension": ".py",
   "mimetype": "text/x-python",
   "name": "python",
   "nbconvert_exporter": "python",
   "pygments_lexer": "ipython3",
   "version": "3.7.1"
  }
 },
 "nbformat": 4,
 "nbformat_minor": 2
}
