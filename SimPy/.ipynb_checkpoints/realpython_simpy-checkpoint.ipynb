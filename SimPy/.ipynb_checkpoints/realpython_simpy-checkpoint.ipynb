{
 "cells": [
  {
   "cell_type": "markdown",
   "metadata": {},
   "source": [
    "Import the relavant modules "
   ]
  },
  {
   "cell_type": "code",
   "execution_count": 5,
   "metadata": {},
   "outputs": [],
   "source": [
    "import simpy\n",
    "import random\n",
    "import statistics"
   ]
  },
  {
   "cell_type": "markdown",
   "metadata": {},
   "source": [
    "System, Agent and Process\n",
    "\n",
    "Establish, Pass and Run"
   ]
  },
  {
   "cell_type": "code",
   "execution_count": 6,
   "metadata": {},
   "outputs": [],
   "source": [
    "wait_times = []"
   ]
  },
  {
   "cell_type": "markdown",
   "metadata": {},
   "source": [
    "DEfine the Environment"
   ]
  },
  {
   "cell_type": "code",
   "execution_count": 14,
   "metadata": {},
   "outputs": [],
   "source": [
    "class Theater(object):\n",
    "    def __init__(self, env, num_cashiers, num_ushers, num_servers):\n",
    "        self.env = env\n",
    "        self.cashier = simpy.Resource(env, num_cashiers)\n",
    "        self.usher = simpy.Resource(env, num_ushers)\n",
    "        self.server = simpy.Resource(env, num_servers)\n",
    "    \n",
    "    def purchase_ticket(self, moviegoer):\n",
    "        yield self.env.timeout(random.randint(1,3))\n",
    "        \n",
    "    def check_ticket(self, moviegoer):\n",
    "        yield self.env.timeout(0.05)\n",
    "    \n",
    "    def sell_food(self, moviegoer):\n",
    "        yield self.env.timeout(random.randint(1,5))\n",
    "        "
   ]
  },
  {
   "cell_type": "code",
   "execution_count": 26,
   "metadata": {},
   "outputs": [],
   "source": [
    "def go_to_movies(env, moviegoer, theater):\n",
    "    arrival_time = env.now\n",
    "        \n",
    "    with theater.cashier.request() as request:\n",
    "        yield request\n",
    "        yield env.process(theater.purchase_ticket(moviegoer))\n",
    "            \n",
    "    with theater.usher.request() as request:\n",
    "        yield request\n",
    "        yield env.process(theater.check_ticket(moviegoer))\n",
    "            \n",
    "    if random.choice([True, False]):\n",
    "        with theater.server.request() as request:\n",
    "            yield request\n",
    "            yield env.process(theater.sell_food(moviegoer))\n",
    "                \n",
    "    wait_times.append(env.now - arrival_time)"
   ]
  },
  {
   "cell_type": "code",
   "execution_count": 27,
   "metadata": {},
   "outputs": [],
   "source": [
    "def run_theater(env, num_cashiers, num_servers, num_ushers):\n",
    "    theater = Theater(env, num_cashiers, num_servers, num_ushers)\n",
    "      \n",
    "    for moviegoer in range(3):\n",
    "        env.process(go_to_movies(env, moviegoer, theater))\n",
    "            \n",
    "    while True:\n",
    "        yield env.timeout(0.20)\n",
    "            \n",
    "        moviegoer += 1\n",
    "        env.process(go_to_movies(env, moviegoer, theater))"
   ]
  },
  {
   "cell_type": "code",
   "execution_count": 33,
   "metadata": {},
   "outputs": [],
   "source": [
    "def get_average_wait_time(wait_times):\n",
    "    average_wait = statistics.mean(wait_times)\n",
    "    minutes, frac_minutes = divmod(average_wait, 1)\n",
    "    seconds = frac_minutes * 60\n",
    "    return round(minutes), round(seconds)\n"
   ]
  },
  {
   "cell_type": "code",
   "execution_count": 34,
   "metadata": {},
   "outputs": [],
   "source": [
    "def calculate_wait_time(arrival_times, departure_times):\n",
    "    average_wait = statistics.mean(wait_times)\n",
    "    minutes, frac_minutes = divmod(average_wait, 1)\n",
    "    seconds = frac_minutes * 60\n",
    "    return round(minutes), round(seconds)"
   ]
  },
  {
   "cell_type": "code",
   "execution_count": 35,
   "metadata": {},
   "outputs": [],
   "source": [
    "def get_user_input():\n",
    "    num_cashiers = input(\"Input # of cashiers working\")\n",
    "    num_servers = input(\"Input # of servers working\")\n",
    "    num_ushers = input(\"Input # of ushers working\")\n",
    "    params = [num_cashiers, num_servers, num_ushers]\n",
    "    if all(str(i).isdigit() for i in params):\n",
    "        params = [int(x) for x in params]\n",
    "    else:\n",
    "        print(\n",
    "            \"Could not parse input. The simulation will use defualt values:\",\n",
    "            \"\\n1 cashier, 1 server, 1 usher.\" ,\n",
    "        )\n",
    "        params = [1,1,1]\n",
    "    return params"
   ]
  },
  {
   "cell_type": "code",
   "execution_count": 36,
   "metadata": {},
   "outputs": [],
   "source": [
    "def main():\n",
    "    random.seed(42)\n",
    "    num_cashiers, num_servers, num_ushers = get_user_input()\n",
    "    \n",
    "    env = simpy.Environment()\n",
    "    env.process(run_theater(env, num_cashiers, num_servers, num_ushers))\n",
    "    env.run(until=90)\n",
    "    \n",
    "    mins, secs = get_average_wait_time(wait_times)\n",
    "    print(\n",
    "        \"Running simulation...\",\n",
    "        f\"\\nThe average wait time is {mins} minutes and {secs} seconds.\",\n",
    "    )"
   ]
  },
  {
   "cell_type": "code",
   "execution_count": 40,
   "metadata": {},
   "outputs": [
    {
     "name": "stdin",
     "output_type": "stream",
     "text": [
      "Input # of cashiers working 9\n",
      "Input # of servers working 6\n",
      "Input # of ushers working 1\n"
     ]
    },
    {
     "name": "stdout",
     "output_type": "stream",
     "text": [
      "Running simulation... \n",
      "The average wait time is 7 minutes and 40 seconds.\n"
     ]
    }
   ],
   "source": [
    "main()"
   ]
  },
  {
   "cell_type": "code",
   "execution_count": null,
   "metadata": {},
   "outputs": [],
   "source": []
  }
 ],
 "metadata": {
  "kernelspec": {
   "display_name": "Python 3",
   "language": "python",
   "name": "python3"
  },
  "language_info": {
   "codemirror_mode": {
    "name": "ipython",
    "version": 3
   },
   "file_extension": ".py",
   "mimetype": "text/x-python",
   "name": "python",
   "nbconvert_exporter": "python",
   "pygments_lexer": "ipython3",
   "version": "3.7.4"
  }
 },
 "nbformat": 4,
 "nbformat_minor": 4
}
