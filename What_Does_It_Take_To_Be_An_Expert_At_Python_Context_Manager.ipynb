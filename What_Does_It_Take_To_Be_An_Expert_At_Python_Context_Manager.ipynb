{
 "cells": [
  {
   "cell_type": "markdown",
   "metadata": {},
   "source": [
    "# Context Manager"
   ]
  },
  {
   "cell_type": "code",
   "execution_count": 1,
   "metadata": {},
   "outputs": [],
   "source": [
    "#cty.py\n",
    "\n",
    "from sqlite3 import connect\n",
    "\n",
    "# with open('ctx.py') as f:\n",
    "#     pass\n",
    "\n",
    "# Looks like the following behind the scene\n",
    "# x = ctx().__enter__\n",
    "# try:\n",
    "#     pass\n",
    "# finally:\n",
    "#     x.__exit__"
   ]
  },
  {
   "cell_type": "code",
   "execution_count": 2,
   "metadata": {},
   "outputs": [
    {
     "name": "stdout",
     "output_type": "stream",
     "text": [
      "(1, 1)\n",
      "(1, 2)\n",
      "(2, 1)\n",
      "(5,)\n"
     ]
    }
   ],
   "source": [
    "with connect('test.db') as conn:\n",
    "    cur = conn.cursor()\n",
    "    cur.execute('create table points(x int, y int)')\n",
    "    cur.execute('insert into points (x, y) values(1,1)')\n",
    "    cur.execute('insert into points (x, y) values(1,2)')\n",
    "    cur.execute('insert into points (x, y) values(2,1)')\n",
    "    for row in cur.execute('select x, y from points'):\n",
    "        print(row)\n",
    "    for row in cur.execute('select sum(x * y) from points'):\n",
    "        print(row)\n",
    "\n",
    "    cur.execute('drop table points')"
   ]
  },
  {
   "cell_type": "markdown",
   "metadata": {},
   "source": [
    "Context manager is a mechanism allows acquisition and release of resources through the implementation of **\\__enter\\__** and **\\__exit\\__** functions in a class"
   ]
  },
  {
   "cell_type": "code",
   "execution_count": 13,
   "metadata": {},
   "outputs": [
    {
     "name": "stdout",
     "output_type": "stream",
     "text": [
      "__enter__\n",
      "(1, 1)\n",
      "(1, 2)\n",
      "(2, 1)\n",
      "(5,)\n",
      "__exit__\n"
     ]
    }
   ],
   "source": [
    "class temptable:\n",
    "    def __init__(self, cur):\n",
    "        self.cur = cur\n",
    "    def __enter__(self):\n",
    "        print('__enter__')\n",
    "        self.cur.execute('create table points(x int, y int)')\n",
    "    def __exit__(self, *args):\n",
    "        print('__exit__')\n",
    "        self.cur.execute('drop table points')\n",
    "\n",
    "with connect('test.db') as conn:\n",
    "    cur = conn.cursor()\n",
    "    with temptable(cur):\n",
    "        cur.execute('insert into points (x, y) values(1,1)')\n",
    "        cur.execute('insert into points (x, y) values(1,2)')\n",
    "        cur.execute('insert into points (x, y) values(2,1)')\n",
    "        for row in cur.execute('select x, y from points'):\n",
    "            print(row)\n",
    "        for row in cur.execute('select sum(x * y) from points'):\n",
    "            print(row)"
   ]
  },
  {
   "cell_type": "markdown",
   "metadata": {},
   "source": [
    "Since the functions of the Context Manager have to be executed in sequence, **\\__enter\\__** before **\\__exit\\__**,  we can create a **Generator** to enforce the behaivour. "
   ]
  },
  {
   "cell_type": "code",
   "execution_count": 14,
   "metadata": {},
   "outputs": [
    {
     "name": "stdout",
     "output_type": "stream",
     "text": [
      "created table\n",
      "(1, 1)\n",
      "(1, 2)\n",
      "(2, 1)\n",
      "(2, 2)\n",
      "(9,)\n",
      "dropped table\n"
     ]
    }
   ],
   "source": [
    "def temptable(cur):\n",
    "    cur.execute('create table points(x int, y int)')\n",
    "    print('created table')\n",
    "    yield\n",
    "    cur.execute('drop table points')\n",
    "    print('dropped table')\n",
    "    \n",
    "class contextmanager:\n",
    "    def __init__(self, cur):\n",
    "        self.cur = cur\n",
    "    def __enter__(self):\n",
    "        self.gen = temptable(self.cur)\n",
    "        next(self.gen)\n",
    "    def __exit__(self, *args):\n",
    "        next(self.gen, None)\n",
    "        \n",
    "with connect('test.db') as conn:\n",
    "    cur = conn.cursor()\n",
    "    with contextmanager(cur):\n",
    "        cur.execute('insert into points (x, y) values(1, 1)')\n",
    "        cur.execute('insert into points (x, y) values(1, 2)')\n",
    "        cur.execute('insert into points (x, y) values(2, 1)')\n",
    "        cur.execute('insert into points (x, y) values(2, 2)')\n",
    "        for row in cur.execute(\"select x, y from points\"):\n",
    "            print(row)\n",
    "        for row in cur.execute('select sum(x * y) from points'):\n",
    "            print(row)"
   ]
  },
  {
   "cell_type": "markdown",
   "metadata": {},
   "source": [
    "The **contextmanager** class is too specific, arguments are hard coded, we need to generalise it by doing the following ...."
   ]
  },
  {
   "cell_type": "code",
   "execution_count": 15,
   "metadata": {},
   "outputs": [
    {
     "name": "stdout",
     "output_type": "stream",
     "text": [
      "created table\n",
      "(1, 1)\n",
      "(1, 2)\n",
      "(2, 1)\n",
      "(2, 2)\n",
      "(9,)\n",
      "dropped table\n"
     ]
    }
   ],
   "source": [
    "def temptable(cur):\n",
    "    cur.execute('create table points(x int, y int)')\n",
    "    print('created table')\n",
    "    yield\n",
    "    cur.execute('drop table points')\n",
    "    print('dropped table')\n",
    "\n",
    "    \n",
    "class contextmanager:\n",
    "    def __init__(self, gen):\n",
    "        self.gen = gen\n",
    "    def __call__(self, *args, **kwargs):\n",
    "        self.args, self.kwargs = args, kwargs\n",
    "        return self\n",
    "    def __enter__(self):\n",
    "        self.gen_inst = self.gen(*self.args, **self.kwargs)\n",
    "        next(self.gen_inst)\n",
    "    def __exit__(self, *args):\n",
    "        next(self.gen_inst, None)\n",
    "\n",
    "with connect('test.db') as conn:\n",
    "    cur = conn.cursor()\n",
    "    with contextmanager(temptable)(cur):\n",
    "        cur.execute('insert into points (x, y) values(1, 1)')\n",
    "        cur.execute('insert into points (x, y) values(1, 2)')\n",
    "        cur.execute('insert into points (x, y) values(2, 1)')\n",
    "        cur.execute('insert into points (x, y) values(2, 2)')\n",
    "        for row in cur.execute(\"select x, y from points\"):\n",
    "            print(row)\n",
    "        for row in cur.execute('select sum(x * y) from points'):\n",
    "            print(row)\n"
   ]
  },
  {
   "cell_type": "markdown",
   "metadata": {},
   "source": [
    "**with contextmanager(temptable)(cur)** <br/>\n",
    "line looks ugly and not easily understood. So we can do the following ...."
   ]
  },
  {
   "cell_type": "code",
   "execution_count": 16,
   "metadata": {},
   "outputs": [
    {
     "name": "stdout",
     "output_type": "stream",
     "text": [
      "created table\n",
      "(1, 1)\n",
      "(1, 2)\n",
      "(2, 1)\n",
      "(2, 2)\n",
      "(9,)\n",
      "dropped table\n"
     ]
    }
   ],
   "source": [
    "class contextmanager:\n",
    "    def __init__(self, gen):\n",
    "        self.gen = gen\n",
    "    def __call__(self, *args, **kwargs):\n",
    "        self.args, self.kwargs = args, kwargs\n",
    "        return self\n",
    "    def __enter__(self):\n",
    "        self.gen_inst = self.gen(*self.args, **self.kwargs)\n",
    "        next(self.gen_inst)\n",
    "    def __exit__(self, *args):\n",
    "        next(self.gen_inst, None)\n",
    "\n",
    "def temptable(cur):\n",
    "    cur.execute('create table points(x int, y int)')\n",
    "    print('created table')\n",
    "    yield\n",
    "    cur.execute('drop table points')\n",
    "    print('dropped table')\n",
    " \n",
    "# This looks farmiliar\n",
    "temptable = contextmanager(temptable)\n",
    "\n",
    "with connect('test.db') as conn:\n",
    "    cur = conn.cursor()\n",
    "    with temptable(cur):\n",
    "        cur.execute('insert into points (x, y) values(1, 1)')\n",
    "        cur.execute('insert into points (x, y) values(1, 2)')\n",
    "        cur.execute('insert into points (x, y) values(2, 1)')\n",
    "        cur.execute('insert into points (x, y) values(2, 2)')\n",
    "        for row in cur.execute(\"select x, y from points\"):\n",
    "            print(row)\n",
    "        for row in cur.execute('select sum(x * y) from points'):\n",
    "            print(row)"
   ]
  },
  {
   "cell_type": "markdown",
   "metadata": {},
   "source": [
    "**temptable = contextmanager(temptable)** <br/>\n",
    "line is a **Decorator** so let us do the right thing ...."
   ]
  },
  {
   "cell_type": "code",
   "execution_count": 17,
   "metadata": {},
   "outputs": [
    {
     "name": "stdout",
     "output_type": "stream",
     "text": [
      "created table\n",
      "(1, 1)\n",
      "(1, 2)\n",
      "(2, 1)\n",
      "(2, 2)\n",
      "(9,)\n",
      "dropped table\n"
     ]
    }
   ],
   "source": [
    "class contextmanager:\n",
    "    def __init__(self, gen):\n",
    "        self.gen = gen\n",
    "    def __call__(self, *args, **kwargs):\n",
    "        self.args, self.kwargs = args, kwargs\n",
    "        return self\n",
    "    def __enter__(self):\n",
    "        self.gen_inst = self.gen(*self.args, **self.kwargs)\n",
    "        next(self.gen_inst)\n",
    "    def __exit__(self, *args):\n",
    "        next(self.gen_inst, None)\n",
    "\n",
    "@contextmanager        \n",
    "def temptable(cur):\n",
    "    cur.execute('create table points(x int, y int)')\n",
    "    print('created table')\n",
    "    yield\n",
    "    cur.execute('drop table points')\n",
    "    print('dropped table')\n",
    "\n",
    "with connect('test.db') as conn:\n",
    "    cur = conn.cursor()\n",
    "    with temptable(cur):\n",
    "        cur.execute('insert into points (x, y) values(1, 1)')\n",
    "        cur.execute('insert into points (x, y) values(1, 2)')\n",
    "        cur.execute('insert into points (x, y) values(2, 1)')\n",
    "        cur.execute('insert into points (x, y) values(2, 2)')\n",
    "        for row in cur.execute(\"select x, y from points\"):\n",
    "            print(row)\n",
    "        for row in cur.execute('select sum(x * y) from points'):\n",
    "            print(row)"
   ]
  },
  {
   "cell_type": "markdown",
   "metadata": {},
   "source": [
    "Obviously the python gurus have implemented the **contextmanager** code as a library, its too generic not be be implemented."
   ]
  },
  {
   "cell_type": "code",
   "execution_count": 12,
   "metadata": {},
   "outputs": [
    {
     "name": "stdout",
     "output_type": "stream",
     "text": [
      "created table\n",
      "(1, 1)\n",
      "(1, 2)\n",
      "(2, 1)\n",
      "(2, 2)\n",
      "(9,)\n",
      "dropped table\n"
     ]
    }
   ],
   "source": [
    "from sqlite3 import connect\n",
    "from contextlib import contextmanager\n",
    "\n",
    "@contextmanager        \n",
    "def temptable(cur):\n",
    "    cur.execute('create table points(x int, y int)')\n",
    "    print('created table')\n",
    "    try:\n",
    "        yield\n",
    "    finally:\n",
    "        cur.execute('drop table points')\n",
    "        print('dropped table')\n",
    "\n",
    "with connect('test.db') as conn:\n",
    "    cur = conn.cursor()\n",
    "    with temptable(cur):\n",
    "        cur.execute('insert into points (x, y) values(1, 1)')\n",
    "        cur.execute('insert into points (x, y) values(1, 2)')\n",
    "        cur.execute('insert into points (x, y) values(2, 1)')\n",
    "        cur.execute('insert into points (x, y) values(2, 2)')\n",
    "        for row in cur.execute(\"select x, y from points\"):\n",
    "            print(row)\n",
    "        for row in cur.execute('select sum(x * y) from points'):\n",
    "            print(row)"
   ]
  },
  {
   "cell_type": "markdown",
   "metadata": {},
   "source": [
    "The Final Code. \n",
    "\n",
    "**This code uses Context Managers --> Generators --> Decorators --> Classes**"
   ]
  },
  {
   "cell_type": "code",
   "execution_count": null,
   "metadata": {},
   "outputs": [],
   "source": []
  }
 ],
 "metadata": {
  "kernelspec": {
   "display_name": "Python 2",
   "language": "python",
   "name": "python2"
  },
  "language_info": {
   "codemirror_mode": {
    "name": "ipython",
    "version": 2
   },
   "file_extension": ".py",
   "mimetype": "text/x-python",
   "name": "python",
   "nbconvert_exporter": "python",
   "pygments_lexer": "ipython2",
   "version": "2.7.15"
  }
 },
 "nbformat": 4,
 "nbformat_minor": 2
}
