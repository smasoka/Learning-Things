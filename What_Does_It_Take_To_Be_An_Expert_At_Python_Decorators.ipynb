{
 "cells": [
  {
   "cell_type": "markdown",
   "metadata": {},
   "source": [
    "# Decorators"
   ]
  },
  {
   "cell_type": "code",
   "execution_count": 7,
   "metadata": {},
   "outputs": [],
   "source": [
    "# dec.py\n",
    "\n",
    "def add(x, y=10):\n",
    "    return x + y"
   ]
  },
  {
   "cell_type": "code",
   "execution_count": 8,
   "metadata": {},
   "outputs": [
    {
     "data": {
      "text/plain": [
       "30"
      ]
     },
     "execution_count": 8,
     "metadata": {},
     "output_type": "execute_result"
    }
   ],
   "source": [
    "add(10, 20)"
   ]
  },
  {
   "cell_type": "code",
   "execution_count": 9,
   "metadata": {},
   "outputs": [
    {
     "data": {
      "text/plain": [
       "<function __main__.add(x, y=10)>"
      ]
     },
     "execution_count": 9,
     "metadata": {},
     "output_type": "execute_result"
    }
   ],
   "source": [
    "# Function\n",
    "add"
   ]
  },
  {
   "cell_type": "code",
   "execution_count": 10,
   "metadata": {},
   "outputs": [
    {
     "data": {
      "text/plain": [
       "'add'"
      ]
     },
     "execution_count": 10,
     "metadata": {},
     "output_type": "execute_result"
    }
   ],
   "source": [
    "# Function name\n",
    "add.__name__"
   ]
  },
  {
   "cell_type": "code",
   "execution_count": 11,
   "metadata": {},
   "outputs": [
    {
     "data": {
      "text/plain": [
       "'__main__'"
      ]
     },
     "execution_count": 11,
     "metadata": {},
     "output_type": "execute_result"
    }
   ],
   "source": [
    "# Fucntion main module\n",
    "add.__module__"
   ]
  },
  {
   "cell_type": "code",
   "execution_count": 12,
   "metadata": {},
   "outputs": [
    {
     "data": {
      "text/plain": [
       "(10,)"
      ]
     },
     "execution_count": 12,
     "metadata": {},
     "output_type": "execute_result"
    }
   ],
   "source": [
    "# Default values\n",
    "add.__defaults__"
   ]
  },
  {
   "cell_type": "code",
   "execution_count": 14,
   "metadata": {},
   "outputs": [
    {
     "data": {
      "text/plain": [
       "b'|\\x00|\\x01\\x17\\x00S\\x00'"
      ]
     },
     "execution_count": 14,
     "metadata": {},
     "output_type": "execute_result"
    }
   ],
   "source": [
    "# Function byte code\n",
    "add.__code__.co_code"
   ]
  },
  {
   "cell_type": "code",
   "execution_count": 15,
   "metadata": {},
   "outputs": [
    {
     "data": {
      "text/plain": [
       "('x', 'y')"
      ]
     },
     "execution_count": 15,
     "metadata": {},
     "output_type": "execute_result"
    }
   ],
   "source": [
    "# Variables names for the function\n",
    "add.__code__.co_varnames"
   ]
  },
  {
   "cell_type": "markdown",
   "metadata": {},
   "source": [
    "### More useful stuff"
   ]
  },
  {
   "cell_type": "code",
   "execution_count": 16,
   "metadata": {},
   "outputs": [],
   "source": [
    "from inspect import getsource"
   ]
  },
  {
   "cell_type": "code",
   "execution_count": 17,
   "metadata": {},
   "outputs": [
    {
     "data": {
      "text/plain": [
       "'def add(x, y=10):\\n    return x + y\\n'"
      ]
     },
     "execution_count": 17,
     "metadata": {},
     "output_type": "execute_result"
    }
   ],
   "source": [
    "getsource(add)"
   ]
  },
  {
   "cell_type": "markdown",
   "metadata": {},
   "source": [
    "Print pretty"
   ]
  },
  {
   "cell_type": "code",
   "execution_count": 18,
   "metadata": {},
   "outputs": [
    {
     "name": "stdout",
     "output_type": "stream",
     "text": [
      "def add(x, y=10):\n",
      "    return x + y\n",
      "\n"
     ]
    }
   ],
   "source": [
    "print(getsource(add))"
   ]
  },
  {
   "cell_type": "code",
   "execution_count": 19,
   "metadata": {},
   "outputs": [],
   "source": [
    "from inspect import getfile"
   ]
  },
  {
   "cell_type": "code",
   "execution_count": 21,
   "metadata": {},
   "outputs": [
    {
     "data": {
      "text/plain": [
       "'<ipython-input-7-22fb81f647ba>'"
      ]
     },
     "execution_count": 21,
     "metadata": {},
     "output_type": "execute_result"
    }
   ],
   "source": [
    "getfile(add)"
   ]
  },
  {
   "cell_type": "code",
   "execution_count": 22,
   "metadata": {},
   "outputs": [
    {
     "data": {
      "text/plain": [
       "<module '__main__'>"
      ]
     },
     "execution_count": 22,
     "metadata": {},
     "output_type": "execute_result"
    }
   ],
   "source": [
    "from inspect import getmodule\n",
    "getmodule(add)"
   ]
  },
  {
   "cell_type": "code",
   "execution_count": 23,
   "metadata": {},
   "outputs": [
    {
     "name": "stdout",
     "output_type": "stream",
     "text": [
      "add(10) 20\n",
      "add(20, 30) 50\n",
      "add(\"a\", \"b\") ab\n"
     ]
    }
   ],
   "source": [
    "print('add(10)', add(10))\n",
    "print('add(20, 30)', add(20, 30))\n",
    "print('add(\"a\", \"b\")', add(\"a\", \"b\"))"
   ]
  },
  {
   "cell_type": "markdown",
   "metadata": {},
   "source": [
    "To Calculate how long for each calculation, you could define\n",
    "a add function with a timer"
   ]
  },
  {
   "cell_type": "code",
   "execution_count": 27,
   "metadata": {},
   "outputs": [],
   "source": [
    "from time import time \n",
    "def add_timer(x, y=10):\n",
    "    before = time()\n",
    "    ans = x + y\n",
    "    after = time()\n",
    "    print('Time elapsed: ', after - before)\n",
    "    return ans"
   ]
  },
  {
   "cell_type": "code",
   "execution_count": 28,
   "metadata": {},
   "outputs": [
    {
     "name": "stdout",
     "output_type": "stream",
     "text": [
      "Time elapsed:  1.1920928955078125e-06\n",
      "add_timer(10) 20\n",
      "Time elapsed:  0.0\n",
      "add_timer(20, 30) 50\n",
      "Time elapsed:  9.5367431640625e-07\n",
      "add_timer(\"a\", \"b\") ab\n"
     ]
    }
   ],
   "source": [
    "print('add_timer(10)', add_timer(10))\n",
    "print('add_timer(20, 30)', add_timer(20, 30))\n",
    "print('add_timer(\"a\", \"b\")', add_timer(\"a\", \"b\"))"
   ]
  },
  {
   "cell_type": "markdown",
   "metadata": {},
   "source": [
    "This is redundant since if we have multiple functions, we will have to \n",
    "add the before and after timer calculations. eg. "
   ]
  },
  {
   "cell_type": "code",
   "execution_count": 30,
   "metadata": {},
   "outputs": [],
   "source": [
    "def sub(x, y = 10):\n",
    "    return x - y"
   ]
  },
  {
   "cell_type": "code",
   "execution_count": 31,
   "metadata": {},
   "outputs": [
    {
     "name": "stdout",
     "output_type": "stream",
     "text": [
      "sub(10) 0\n",
      "sub(20, 30) -10\n"
     ]
    }
   ],
   "source": [
    "print('sub(10)', sub(10))\n",
    "print('sub(20, 30)', sub(20, 30))"
   ]
  },
  {
   "cell_type": "markdown",
   "metadata": {},
   "source": [
    "So we need another way, observe"
   ]
  },
  {
   "cell_type": "code",
   "execution_count": 35,
   "metadata": {},
   "outputs": [],
   "source": [
    "def timer(func, x, y=10):\n",
    "    before = time()\n",
    "    ans = func(x, y)\n",
    "    after = time()\n",
    "    print('Time elapsed: ', after - before)\n",
    "    return ans"
   ]
  },
  {
   "cell_type": "code",
   "execution_count": 36,
   "metadata": {},
   "outputs": [
    {
     "name": "stdout",
     "output_type": "stream",
     "text": [
      "Time elapsed:  9.5367431640625e-07\n"
     ]
    },
    {
     "data": {
      "text/plain": [
       "30"
      ]
     },
     "execution_count": 36,
     "metadata": {},
     "output_type": "execute_result"
    }
   ],
   "source": [
    "timer(add, 10, 20)"
   ]
  },
  {
   "cell_type": "code",
   "execution_count": 38,
   "metadata": {},
   "outputs": [
    {
     "name": "stdout",
     "output_type": "stream",
     "text": [
      "Time elapsed:  9.5367431640625e-07\n",
      "timer(10) 20\n",
      "Time elapsed:  0.0\n",
      "timer(20, 30) 50\n",
      "Time elapsed:  0.0\n",
      "timer(\"a\", \"b\") ab\n",
      "Time elapsed:  9.5367431640625e-07\n",
      "timer(10) 0\n",
      "Time elapsed:  0.0\n",
      "timer(20, 30) -10\n"
     ]
    }
   ],
   "source": [
    "print('timer(10)', timer(add, 10))\n",
    "print('timer(20, 30)', timer(add, 20, 30))\n",
    "print('timer(\"a\", \"b\")', timer(add, \"a\", \"b\"))\n",
    "print('timer(10)', timer(sub, 10))\n",
    "print('timer(20, 30)', timer(sub, 20, 30))"
   ]
  },
  {
   "cell_type": "markdown",
   "metadata": {},
   "source": [
    "There a another slightly better way"
   ]
  },
  {
   "cell_type": "code",
   "execution_count": 41,
   "metadata": {},
   "outputs": [],
   "source": [
    "def timer(func):\n",
    "    def f(x, y = 10):\n",
    "        before = time()\n",
    "        ans = func(x, y)\n",
    "        after = time()\n",
    "        print('Time elapsed: ', after - before)\n",
    "        return ans\n",
    "    return f"
   ]
  },
  {
   "cell_type": "code",
   "execution_count": 42,
   "metadata": {},
   "outputs": [],
   "source": [
    "add = timer(add)\n",
    "sub = timer(sub)"
   ]
  },
  {
   "cell_type": "markdown",
   "metadata": {},
   "source": [
    "Back to the original way of calling these functions"
   ]
  },
  {
   "cell_type": "code",
   "execution_count": 43,
   "metadata": {},
   "outputs": [
    {
     "name": "stdout",
     "output_type": "stream",
     "text": [
      "Time elapsed:  9.5367431640625e-07\n",
      "add(10) 20\n",
      "Time elapsed:  0.0\n",
      "add(20, 30) 50\n",
      "Time elapsed:  1.1920928955078125e-06\n",
      "add(\"a\", \"b\") ab\n",
      "Time elapsed:  9.5367431640625e-07\n",
      "sub(10) 0\n",
      "Time elapsed:  0.0\n",
      "sub(20, 30) -10\n"
     ]
    }
   ],
   "source": [
    "print('add(10)', add(10))\n",
    "print('add(20, 30)', add(20, 30))\n",
    "print('add(\"a\", \"b\")', add(\"a\", \"b\"))\n",
    "print('sub(10)', sub(10))\n",
    "print('sub(20, 30)', sub(20, 30))"
   ]
  },
  {
   "cell_type": "markdown",
   "metadata": {},
   "source": [
    "The trick are the lines like 'add = timer(add)', <br/>\n",
    "which is **'something = function(something)'**. <br/>\n",
    "These lines are decorators and python has a nice way of representing them"
   ]
  },
  {
   "cell_type": "code",
   "execution_count": 44,
   "metadata": {},
   "outputs": [],
   "source": [
    "@timer\n",
    "def add_dec(x, y=10):\n",
    "    return x + y\n",
    "\n",
    "@timer\n",
    "def sub_dec(x, y=10):\n",
    "    return x - y"
   ]
  },
  {
   "cell_type": "code",
   "execution_count": 46,
   "metadata": {},
   "outputs": [
    {
     "name": "stdout",
     "output_type": "stream",
     "text": [
      "Time elapsed:  0.0\n",
      "add(10) 20\n",
      "Time elapsed:  0.0\n",
      "add(20, 30) 50\n",
      "Time elapsed:  0.0\n",
      "add(\"a\", \"b\") ab\n",
      "Time elapsed:  7.152557373046875e-07\n",
      "sub(10) 0\n",
      "Time elapsed:  1.1920928955078125e-06\n",
      "sub(20, 30) -10\n"
     ]
    }
   ],
   "source": [
    "print('add(10)', add_dec(10))\n",
    "print('add(20, 30)', add_dec(20, 30))\n",
    "print('add(\"a\", \"b\")', add_dec(\"a\", \"b\"))\n",
    "print('sub(10)', sub_dec(10))\n",
    "print('sub(20, 30)', sub_dec(20, 30))"
   ]
  },
  {
   "cell_type": "markdown",
   "metadata": {},
   "source": [
    "Best decorators are the ones that are generic, that can take any function\n",
    "and arguements. To do that, decorators should not have hardcoded arguments or parameters. \n",
    "\n",
    "So our 'timer' function will really look like this:"
   ]
  },
  {
   "cell_type": "code",
   "execution_count": 49,
   "metadata": {},
   "outputs": [],
   "source": [
    "def timer_generic(func):\n",
    "    def f(*args, **kwargs):\n",
    "        before = time()\n",
    "        ans = func(*args, **kwargs)\n",
    "        after = time()\n",
    "        print(\"Time elapsed: \", after - before)\n",
    "        return ans\n",
    "    return f\n",
    "\n",
    "@timer_generic\n",
    "def add_dec(x, y=10):\n",
    "    return x + y\n",
    "\n",
    "@timer_generic\n",
    "def sub_dec(x, y=10):\n",
    "    return x - y"
   ]
  },
  {
   "cell_type": "code",
   "execution_count": 50,
   "metadata": {},
   "outputs": [
    {
     "name": "stdout",
     "output_type": "stream",
     "text": [
      "Time elapsed:  9.5367431640625e-07\n",
      "add(10) 20\n",
      "Time elapsed:  9.5367431640625e-07\n",
      "add(20, 30) 50\n",
      "Time elapsed:  9.5367431640625e-07\n",
      "add(\"a\", \"b\") ab\n",
      "Time elapsed:  9.5367431640625e-07\n",
      "sub(10) 0\n",
      "Time elapsed:  9.5367431640625e-07\n",
      "sub(20, 30) -10\n"
     ]
    }
   ],
   "source": [
    "print('add(10)', add_dec(10))\n",
    "print('add(20, 30)', add_dec(20, 30))\n",
    "print('add(\"a\", \"b\")', add_dec(\"a\", \"b\"))\n",
    "print('sub(10)', sub_dec(10))\n",
    "print('sub(20, 30)', sub_dec(20, 30))"
   ]
  },
  {
   "cell_type": "markdown",
   "metadata": {},
   "source": [
    "Say you want to call a function a number of times...."
   ]
  },
  {
   "cell_type": "code",
   "execution_count": 52,
   "metadata": {},
   "outputs": [],
   "source": [
    "# def timer_generic(func):\n",
    "#     def f(*args, **kwargs):\n",
    "#         before = time()\n",
    "#         ans = func(*args, **kwargs)\n",
    "#         after = time()\n",
    "#         print(\"Time elapsed: \", after - before)\n",
    "#         return ans\n",
    "#     return f\n",
    "\n",
    "n = 2 \n",
    "\n",
    "def ntimes(f):\n",
    "    def wrapper(*args, **kwargs):\n",
    "        for _ in range(n):\n",
    "            print('running {.__name__}'.format(f))\n",
    "            ans = f(*args, **kwargs)\n",
    "        return ans\n",
    "    return wrapper\n",
    "\n",
    "@ntimes\n",
    "def add_dec(x, y=10):\n",
    "    return x + y\n",
    "\n",
    "@ntimes\n",
    "def sub_dec(x, y=10):\n",
    "    return x - y"
   ]
  },
  {
   "cell_type": "code",
   "execution_count": 53,
   "metadata": {},
   "outputs": [
    {
     "name": "stdout",
     "output_type": "stream",
     "text": [
      "running add_dec\n",
      "running add_dec\n",
      "add(10) 20\n",
      "running add_dec\n",
      "running add_dec\n",
      "add(20, 30) 50\n",
      "running add_dec\n",
      "running add_dec\n",
      "add(\"a\", \"b\") ab\n",
      "running sub_dec\n",
      "running sub_dec\n",
      "sub(10) 0\n",
      "running sub_dec\n",
      "running sub_dec\n",
      "sub(20, 30) -10\n"
     ]
    }
   ],
   "source": [
    "print('add(10)', add_dec(10))\n",
    "print('add(20, 30)', add_dec(20, 30))\n",
    "print('add(\"a\", \"b\")', add_dec(\"a\", \"b\"))\n",
    "print('sub(10)', sub_dec(10))\n",
    "print('sub(20, 30)', sub_dec(20, 30))"
   ]
  },
  {
   "cell_type": "markdown",
   "metadata": {},
   "source": [
    "### Higher Order Functions\n",
    "\n",
    "making decorators, functions in themselvs"
   ]
  },
  {
   "cell_type": "code",
   "execution_count": 54,
   "metadata": {},
   "outputs": [],
   "source": [
    "# def timer_generic(func):\n",
    "#     def f(*args, **kwargs):\n",
    "#         before = time()\n",
    "#         ans = func(*args, **kwargs)\n",
    "#         after = time()\n",
    "#         print(\"Time elapsed: \", after - before)\n",
    "#         return ans\n",
    "#     return f\n",
    "\n",
    "def ntimes(n):\n",
    "    def inner(f):\n",
    "        def wrapper(*args, **kwargs):\n",
    "            for _ in range(n):\n",
    "                print('running {.__name__}'.format(f))\n",
    "                ans = f(*args, **kwargs)\n",
    "            return ans\n",
    "        return wrapper\n",
    "    return inner\n",
    "\n",
    "@ntimes(2)\n",
    "def add_dec(x, y=10):\n",
    "    return x + y\n",
    "\n",
    "@ntimes(4)\n",
    "def sub_dec(x, y=10):\n",
    "    return x - y\n"
   ]
  },
  {
   "cell_type": "code",
   "execution_count": 55,
   "metadata": {},
   "outputs": [
    {
     "name": "stdout",
     "output_type": "stream",
     "text": [
      "running add_dec\n",
      "running add_dec\n",
      "add(10) 20\n",
      "running add_dec\n",
      "running add_dec\n",
      "add(20, 30) 50\n",
      "running add_dec\n",
      "running add_dec\n",
      "add(\"a\", \"b\") ab\n",
      "running sub_dec\n",
      "running sub_dec\n",
      "running sub_dec\n",
      "running sub_dec\n",
      "sub(10) 0\n",
      "running sub_dec\n",
      "running sub_dec\n",
      "running sub_dec\n",
      "running sub_dec\n",
      "sub(20, 30) -10\n"
     ]
    }
   ],
   "source": [
    "print('add(10)', add_dec(10))\n",
    "print('add(20, 30)', add_dec(20, 30))\n",
    "print('add(\"a\", \"b\")', add_dec(\"a\", \"b\"))\n",
    "print('sub(10)', sub_dec(10))\n",
    "print('sub(20, 30)', sub_dec(20, 30))"
   ]
  },
  {
   "cell_type": "code",
   "execution_count": null,
   "metadata": {},
   "outputs": [],
   "source": []
  },
  {
   "cell_type": "code",
   "execution_count": null,
   "metadata": {},
   "outputs": [],
   "source": []
  }
 ],
 "metadata": {
  "kernelspec": {
   "display_name": "Python 3",
   "language": "python",
   "name": "python3"
  },
  "language_info": {
   "codemirror_mode": {
    "name": "ipython",
    "version": 3
   },
   "file_extension": ".py",
   "mimetype": "text/x-python",
   "name": "python",
   "nbconvert_exporter": "python",
   "pygments_lexer": "ipython3",
   "version": "3.6.6"
  }
 },
 "nbformat": 4,
 "nbformat_minor": 2
}
